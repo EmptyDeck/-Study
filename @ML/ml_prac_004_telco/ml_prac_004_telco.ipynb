{
 "cells": [
  {
   "attachments": {},
   "cell_type": "markdown",
   "metadata": {},
   "source": [
    "2023 0703 0951i  \n",
    "its hot ouside  \n",
    "lets get init"
   ]
  },
  {
   "attachments": {},
   "cell_type": "markdown",
   "metadata": {},
   "source": [
    "# Telco Customer Churn Analysis\n",
    "\n",
    "## Introduction to the Dataset\n",
    "\n",
    "This project involves the analysis of telecommunication customer churn data to create a model that predicts customer churn. The dataset is provided by Kaggle, with the original source from IBM Sample Data Sets.\n",
    "\n",
    "## Data Preprocessing\n",
    "\n",
    "Each row in the dataset represents a customer, and each column represents an attribute of the customer. The 'CustomerID', which is not necessary for the analysis, is removed. Data in the form of strings is transformed into numerical form using label encoding.\n",
    "\n",
    "## Model Training\n",
    "\n",
    "Before the analysis, the dataset is split into training and testing data. The training data is standardized using the StandardScaler. A logistic regression model is then used to predict customer churn.\n",
    "\n",
    "## Model Evaluation\n",
    "\n",
    "The accuracy and classification report of the trained model are outputted to evaluate the model's performance. This allows us to identify the variables that are important in predicting customer churn, which can be utilized in developing customer retention strategies."
   ]
  },
  {
   "attachments": {},
   "cell_type": "markdown",
   "metadata": {},
   "source": [
    "# Telco Customer Churn Analysis\n",
    "\n",
    "## 데이터 세트 소개\n",
    "\n",
    "이 프로젝트는 통신 고객 이탈 데이터를 분석하여 고객 이탈을 예측하는 모델을 생성합니다. 데이터 세트는 Kaggle에서 제공되며, IBM Sample Data Sets에서 원본을 확인할 수 있습니다. \n",
    "\n",
    "## 데이터 전처리\n",
    "\n",
    "데이터 세트의 각 행은 고객을, 각 열은 고객의 속성을 나타냅니다. 이 중 '고객ID'는 분석에 필요하지 않으므로 제거하였습니다. 문자열 형태의 데이터는 라벨 인코딩을 사용하여 숫자 형태로 변환하였습니다. \n",
    "\n",
    "## 모델 학습\n",
    "\n",
    "분석 전, 데이터 세트를 학습 데이터와 테스트 데이터로 분리하였습니다. 학습 데이터는 StandardScaler를 사용하여 표준화하였습니다. 로지스틱 회귀 모델을 사용하여 고객 이탈 여부를 예측하였습니다.\n",
    "\n",
    "## 모델 성능 평가\n",
    "\n",
    "학습된 모델의 정확도와 분류 보고서를 출력하여 모델의 성능을 평가하였습니다. 이를 통해 고객 이탈 예측에 중요한 변수를 확인하고, 고객 유지 전략을 개발하는 데 활용할 수 있습니다."
   ]
  },
  {
   "cell_type": "code",
   "execution_count": 296,
   "metadata": {},
   "outputs": [],
   "source": [
    "# This Python 3 environment comes with many helpful analytics libraries installed\n",
    "# It is defined by the kaggle/python Docker image: https://github.com/kaggle/docker-python\n",
    "# For example, here's several helpful packages to load\n",
    "\n",
    "import numpy as np # linear algebra\n",
    "import pandas as pd # data processing, CSV file I/O (e.g. pd.read_csv)\n",
    "\n",
    "# Input data files are available in the read-only \"../input/\" directory\n",
    "# For example, running this (by clicking run or pressing Shift+Enter) will list all files under the input directory\n",
    "\n",
    "import os\n",
    "for dirname, _, filenames in os.walk('/kaggle/input'):\n",
    "    for filename in filenames:\n",
    "        print(os.path.join(dirname, filename))\n",
    "\n",
    "# You can write up to 20GB to the current directory (/kaggle/working/) that gets preserved as output when you create a version using \"Save & Run All\" \n",
    "# You can also write temporary files to /kaggle/temp/, but they won't be saved outside of the current session"
   ]
  },
  {
   "attachments": {},
   "cell_type": "markdown",
   "metadata": {},
   "source": [
    "https://www.kaggle.com/datasets/blastchar/telco-customer-churn"
   ]
  },
  {
   "cell_type": "code",
   "execution_count": 297,
   "metadata": {},
   "outputs": [],
   "source": [
    "import pandas as pd\n",
    "try:\n",
    "    df = pd.read_csv(\"WA_Fn-UseC_-Telco-Customer-Churn.csv\")\n",
    "except:\n",
    "    df = pd.read_csv(\"/kaggle/input/telco-customer-churn/WA_Fn-UseC_-Telco-Customer-Churn.csv\")"
   ]
  },
  {
   "attachments": {},
   "cell_type": "markdown",
   "metadata": {},
   "source": [
    "check types"
   ]
  },
  {
   "cell_type": "code",
   "execution_count": 298,
   "metadata": {},
   "outputs": [
    {
     "data": {
      "text/plain": [
       "customerID           object\n",
       "gender               object\n",
       "SeniorCitizen         int64\n",
       "Partner              object\n",
       "Dependents           object\n",
       "tenure                int64\n",
       "PhoneService         object\n",
       "MultipleLines        object\n",
       "InternetService      object\n",
       "OnlineSecurity       object\n",
       "OnlineBackup         object\n",
       "DeviceProtection     object\n",
       "TechSupport          object\n",
       "StreamingTV          object\n",
       "StreamingMovies      object\n",
       "Contract             object\n",
       "PaperlessBilling     object\n",
       "PaymentMethod        object\n",
       "MonthlyCharges      float64\n",
       "TotalCharges         object\n",
       "Churn                object\n",
       "dtype: object"
      ]
     },
     "execution_count": 298,
     "metadata": {},
     "output_type": "execute_result"
    }
   ],
   "source": [
    "df.dtypes"
   ]
  },
  {
   "attachments": {},
   "cell_type": "markdown",
   "metadata": {},
   "source": [
    "## See Labels"
   ]
  },
  {
   "cell_type": "code",
   "execution_count": 299,
   "metadata": {},
   "outputs": [
    {
     "name": "stdout",
     "output_type": "stream",
     "text": [
      "Index(['customerID', 'gender', 'SeniorCitizen', 'Partner', 'Dependents',\n",
      "       'tenure', 'PhoneService', 'MultipleLines', 'InternetService',\n",
      "       'OnlineSecurity', 'OnlineBackup', 'DeviceProtection', 'TechSupport',\n",
      "       'StreamingTV', 'StreamingMovies', 'Contract', 'PaperlessBilling',\n",
      "       'PaymentMethod', 'MonthlyCharges', 'TotalCharges', 'Churn'],\n",
      "      dtype='object')\n"
     ]
    }
   ],
   "source": [
    "labels = df.columns\n",
    "\n",
    "print(labels)"
   ]
  },
  {
   "cell_type": "code",
   "execution_count": 300,
   "metadata": {},
   "outputs": [
    {
     "name": "stdout",
     "output_type": "stream",
     "text": [
      "   gender  SeniorCitizen Partner Dependents  tenure PhoneService  \\\n",
      "0  Female              0     Yes         No       1           No   \n",
      "1    Male              0      No         No      34          Yes   \n",
      "2    Male              0      No         No       2          Yes   \n",
      "\n",
      "      MultipleLines InternetService OnlineSecurity OnlineBackup  \\\n",
      "0  No phone service             DSL             No          Yes   \n",
      "1                No             DSL            Yes           No   \n",
      "2                No             DSL            Yes          Yes   \n",
      "\n",
      "  DeviceProtection TechSupport StreamingTV StreamingMovies        Contract  \\\n",
      "0               No          No          No              No  Month-to-month   \n",
      "1              Yes          No          No              No        One year   \n",
      "2               No          No          No              No  Month-to-month   \n",
      "\n",
      "  PaperlessBilling     PaymentMethod  MonthlyCharges TotalCharges Churn  \n",
      "0              Yes  Electronic check           29.85        29.85    No  \n",
      "1               No      Mailed check           56.95       1889.5    No  \n",
      "2              Yes      Mailed check           53.85       108.15   Yes  \n"
     ]
    }
   ],
   "source": [
    "import pandas as pd\n",
    "#remove enrollee id (since its irrelivent)\n",
    "df = df.drop(['customerID'], axis=1)\n",
    "print(df.head(3))"
   ]
  },
  {
   "attachments": {},
   "cell_type": "markdown",
   "metadata": {},
   "source": [
    "## NaN check"
   ]
  },
  {
   "cell_type": "code",
   "execution_count": 301,
   "metadata": {},
   "outputs": [
    {
     "name": "stdout",
     "output_type": "stream",
     "text": [
      "['TotalCharges']\n"
     ]
    },
    {
     "data": {
      "text/plain": [
       "TotalCharges    11\n",
       "dtype: int64"
      ]
     },
     "execution_count": 301,
     "metadata": {},
     "output_type": "execute_result"
    }
   ],
   "source": [
    "columns_to_convert = ['TotalCharges', 'MonthlyCharges']  # List of column names to convert\n",
    "\n",
    "for column in columns_to_convert:\n",
    "    df[column] = pd.to_numeric(df[column], errors='coerce')\n",
    "\n",
    "# Check for NaN values in specific columns\n",
    "nan_labels = df[columns_to_convert].columns[df[columns_to_convert].isna().any()].tolist()\n",
    "\n",
    "print(nan_labels)\n",
    "df.isnull()[nan_labels].sum()\n"
   ]
  },
  {
   "cell_type": "code",
   "execution_count": 302,
   "metadata": {},
   "outputs": [
    {
     "name": "stdout",
     "output_type": "stream",
     "text": [
      "Int64Index([488, 753, 936, 1082, 1340, 3331, 3826, 4380, 5218, 6670, 6754], dtype='int64')\n"
     ]
    }
   ],
   "source": [
    "null_total_charges = df['TotalCharges'].isnull()\n",
    "null_rows = df.loc[null_total_charges]\n",
    "\n",
    "# Print the indices of the null rows\n",
    "print(null_rows.index)\n"
   ]
  },
  {
   "cell_type": "code",
   "execution_count": 303,
   "metadata": {},
   "outputs": [
    {
     "name": "stdout",
     "output_type": "stream",
     "text": [
      "Dropped 11 rows.\n"
     ]
    }
   ],
   "source": [
    "# Count the number of NaN rows before dropping\n",
    "nan_count_before = df['TotalCharges'].isnull().sum()\n",
    "\n",
    "# Drop the NaN rows\n",
    "df = df.dropna(subset=['TotalCharges'])\n",
    "\n",
    "# Count the number of NaN rows after dropping\n",
    "nan_count_after = df['TotalCharges'].isnull().sum()\n",
    "\n",
    "# Calculate and print the number of rows dropped\n",
    "rows_dropped = nan_count_before - nan_count_after\n",
    "print(f\"Dropped {rows_dropped} rows.\")\n"
   ]
  },
  {
   "attachments": {},
   "cell_type": "markdown",
   "metadata": {},
   "source": [
    "no nan? good!"
   ]
  },
  {
   "attachments": {},
   "cell_type": "markdown",
   "metadata": {},
   "source": [
    "## Data processing"
   ]
  },
  {
   "cell_type": "code",
   "execution_count": 304,
   "metadata": {},
   "outputs": [
    {
     "name": "stdout",
     "output_type": "stream",
     "text": [
      "Unique items in column 'gender':\n",
      "['Female' 'Male']\n",
      "\n",
      "Unique items in column 'SeniorCitizen':\n",
      "[0 1]\n",
      "\n",
      "Unique items in column 'Partner':\n",
      "['Yes' 'No']\n",
      "\n",
      "Unique items in column 'Dependents':\n",
      "['No' 'Yes']\n",
      "\n",
      "Unique items in column 'tenure':\n",
      "[ 1 34  2 45  8 22 10 28 62 13 16 58 49 25 69 52 71 21 12 30 47 72 17 27\n",
      "  5 46 11 70 63 43 15 60 18 66  9  3 31 50 64 56  7 42 35 48 29 65 38 68\n",
      " 32 55 37 36 41  6  4 33 67 23 57 61 14 20 53 40 59 24 44 19 54 51 26 39]\n",
      "\n",
      "Unique items in column 'PhoneService':\n",
      "['No' 'Yes']\n",
      "\n",
      "Unique items in column 'MultipleLines':\n",
      "['No phone service' 'No' 'Yes']\n",
      "\n",
      "Unique items in column 'InternetService':\n",
      "['DSL' 'Fiber optic' 'No']\n",
      "\n",
      "Unique items in column 'OnlineSecurity':\n",
      "['No' 'Yes' 'No internet service']\n",
      "\n",
      "Unique items in column 'OnlineBackup':\n",
      "['Yes' 'No' 'No internet service']\n",
      "\n",
      "Unique items in column 'DeviceProtection':\n",
      "['No' 'Yes' 'No internet service']\n",
      "\n",
      "Unique items in column 'TechSupport':\n",
      "['No' 'Yes' 'No internet service']\n",
      "\n",
      "Unique items in column 'StreamingTV':\n",
      "['No' 'Yes' 'No internet service']\n",
      "\n",
      "Unique items in column 'StreamingMovies':\n",
      "['No' 'Yes' 'No internet service']\n",
      "\n",
      "Unique items in column 'Contract':\n",
      "['Month-to-month' 'One year' 'Two year']\n",
      "\n",
      "Unique items in column 'PaperlessBilling':\n",
      "['Yes' 'No']\n",
      "\n",
      "Unique items in column 'PaymentMethod':\n",
      "['Electronic check' 'Mailed check' 'Bank transfer (automatic)'\n",
      " 'Credit card (automatic)']\n",
      "\n",
      "Unique items in column 'MonthlyCharges':\n",
      "[29.85 56.95 53.85 ... 63.1  44.2  78.7 ]\n",
      "\n",
      "Unique items in column 'TotalCharges':\n",
      "[  29.85 1889.5   108.15 ...  346.45  306.6  6844.5 ]\n",
      "\n",
      "Unique items in column 'Churn':\n",
      "['No' 'Yes']\n",
      "\n"
     ]
    }
   ],
   "source": [
    "#check every unique data\n",
    "import pandas as pd\n",
    "\n",
    "for column in df.columns:\n",
    "    print(f\"Unique items in column '{column}':\")\n",
    "    print(df[column].unique())\n",
    "    print()"
   ]
  },
  {
   "cell_type": "code",
   "execution_count": 305,
   "metadata": {},
   "outputs": [
    {
     "name": "stdout",
     "output_type": "stream",
     "text": [
      "   gender  SeniorCitizen  Partner  Dependents  tenure  PhoneService  \\\n",
      "0       0              0        1           0       0             0   \n",
      "1       1              0        0           0      33             1   \n",
      "2       1              0        0           0       1             1   \n",
      "\n",
      "   MultipleLines  InternetService  OnlineSecurity  OnlineBackup  \\\n",
      "0              1                0               0             2   \n",
      "1              0                0               2             0   \n",
      "2              0                0               2             2   \n",
      "\n",
      "   DeviceProtection  TechSupport  StreamingTV  StreamingMovies  Contract  \\\n",
      "0                 0            0            0                0         0   \n",
      "1                 2            0            0                0         1   \n",
      "2                 0            0            0                0         0   \n",
      "\n",
      "   PaperlessBilling  PaymentMethod  MonthlyCharges  TotalCharges  Churn  \n",
      "0                 1              2             142            74      0  \n",
      "1                 0              3             497          3624      0  \n",
      "2                 1              3             435           536      1  \n"
     ]
    }
   ],
   "source": [
    "#str to int\n",
    "from sklearn.preprocessing import LabelEncoder\n",
    "\n",
    "# Initialize a LabelEncoder\n",
    "le = LabelEncoder()\n",
    "\n",
    "# List of columns to encode (except customer ID)\n",
    "cols_to_encode = ['gender', 'SeniorCitizen', 'Partner', 'Dependents',\n",
    "        'tenure', 'PhoneService', 'MultipleLines', 'InternetService',\n",
    "        'OnlineSecurity', 'OnlineBackup', 'DeviceProtection', 'TechSupport',\n",
    "        'StreamingTV', 'StreamingMovies', 'Contract', 'PaperlessBilling',\n",
    "        'PaymentMethod', 'MonthlyCharges', 'TotalCharges', 'Churn']\n",
    "\n",
    "# Iterate over each categorical column and transform it\n",
    "for col in cols_to_encode:\n",
    "    df[col] = le.fit_transform(df[col])\n",
    "    \n",
    "print(df.head(3))"
   ]
  },
  {
   "attachments": {},
   "cell_type": "markdown",
   "metadata": {},
   "source": [
    "## Split train/test"
   ]
  },
  {
   "cell_type": "code",
   "execution_count": 306,
   "metadata": {},
   "outputs": [
    {
     "name": "stdout",
     "output_type": "stream",
     "text": [
      "(4922, 19)\n",
      "(2110, 19)\n",
      "(4922,)\n",
      "(2110,)\n"
     ]
    }
   ],
   "source": [
    "from sklearn.model_selection import train_test_split\n",
    "\n",
    "x = df.drop(['Churn'],axis=1)\n",
    "y = df['Churn']\n",
    "\n",
    "x_train,x_test,y_train,y_test = train_test_split(x,y,test_size=0.3,random_state=1,stratify=y) #stratify means even data\n",
    "\n",
    "print(x_train.shape)\n",
    "print(x_test.shape)\n",
    "print(y_train.shape)\n",
    "print(y_test.shape)"
   ]
  },
  {
   "attachments": {},
   "cell_type": "markdown",
   "metadata": {},
   "source": [
    "## Standardization (not sure)"
   ]
  },
  {
   "cell_type": "code",
   "execution_count": 307,
   "metadata": {},
   "outputs": [
    {
     "name": "stdout",
     "output_type": "stream",
     "text": [
      "      gender  SeniorCitizen  Partner  Dependents  tenure  PhoneService  \\\n",
      "1864       0              1        1           0      25             1   \n",
      "5830       1              0        0           1      29             1   \n",
      "\n",
      "      MultipleLines  InternetService  OnlineSecurity  OnlineBackup  \\\n",
      "1864              0                0               0             0   \n",
      "5830              2                2               1             1   \n",
      "\n",
      "      DeviceProtection  TechSupport  StreamingTV  StreamingMovies  Contract  \\\n",
      "1864                 2            0            0                2         1   \n",
      "5830                 1            1            1                1         1   \n",
      "\n",
      "      PaperlessBilling  PaymentMethod  MonthlyCharges  TotalCharges  \n",
      "1864                 0              3             556          3314  \n",
      "5830                 0              0              99          2011  \n"
     ]
    },
    {
     "data": {
      "text/plain": [
       "array([[ 0.99150298, -0.43824216, -0.9636822 ,  1.52501661, -0.09405287,\n",
       "         0.3252982 ,  1.11866127,  1.51777186,  0.24910529,  0.1052227 ,\n",
       "         0.1070938 ,  0.23657362,  0.01173025,  0.00804988,  0.36680198,\n",
       "        -1.19708825, -1.48109276, -1.21650014, -0.55632981],\n",
       "       [-1.00856984, -0.43824216,  1.03768649, -0.65573056,  1.53554574,\n",
       "         0.3252982 ,  1.11866127,  0.16442528, -0.91749435,  1.24347793,\n",
       "         1.24557263,  1.3998257 ,  1.14381392,  1.14009235,  0.36680198,\n",
       "         0.8353603 ,  0.39799954,  1.62025702,  1.69522124]])"
      ]
     },
     "execution_count": 307,
     "metadata": {},
     "output_type": "execute_result"
    }
   ],
   "source": [
    "from sklearn.preprocessing import StandardScaler\n",
    "sc = StandardScaler()\n",
    "sc.fit(x_train)\n",
    "\n",
    "x_train_std = sc.transform(x_train)\n",
    "x_test_std = sc.transform(x_test)\n",
    "\n",
    "#check standard datas\n",
    "print(x_train.head(2))\n",
    "x_train_std[1:3,]"
   ]
  },
  {
   "attachments": {},
   "cell_type": "markdown",
   "metadata": {},
   "source": [
    "## Prediction"
   ]
  },
  {
   "cell_type": "code",
   "execution_count": 308,
   "metadata": {},
   "outputs": [
    {
     "name": "stdout",
     "output_type": "stream",
     "text": [
      "Accuracy: 0.8004739336492891\n",
      "Classification Report:\n",
      "              precision    recall  f1-score   support\n",
      "\n",
      "           0       0.84      0.90      0.87      1549\n",
      "           1       0.66      0.53      0.58       561\n",
      "\n",
      "    accuracy                           0.80      2110\n",
      "   macro avg       0.75      0.71      0.73      2110\n",
      "weighted avg       0.79      0.80      0.79      2110\n",
      "\n"
     ]
    }
   ],
   "source": [
    "#No Std\n",
    "from sklearn.linear_model import LogisticRegression  \n",
    "model = LogisticRegression(max_iter=1000) #fixed error\n",
    "model.fit(x_train, y_train)\n",
    "y_pred = model.predict(x_test)\n",
    "\n",
    "from sklearn.metrics import accuracy_score, classification_report\n",
    "\n",
    "accuracy = accuracy_score(y_test, y_pred)\n",
    "report = classification_report(y_test, y_pred)\n",
    "\n",
    "print(f\"Accuracy: {accuracy}\")\n",
    "print(\"Classification Report:\")\n",
    "print(report)"
   ]
  },
  {
   "cell_type": "code",
   "execution_count": 309,
   "metadata": {},
   "outputs": [
    {
     "name": "stdout",
     "output_type": "stream",
     "text": [
      "Accuracy: 0.8033175355450237\n",
      "Classification Report:\n",
      "              precision    recall  f1-score   support\n",
      "\n",
      "           0       0.84      0.90      0.87      1549\n",
      "           1       0.66      0.53      0.59       561\n",
      "\n",
      "    accuracy                           0.80      2110\n",
      "   macro avg       0.75      0.72      0.73      2110\n",
      "weighted avg       0.79      0.80      0.80      2110\n",
      "\n"
     ]
    }
   ],
   "source": [
    "#Std\n",
    "from sklearn.linear_model import LogisticRegression\n",
    "from sklearn.metrics import accuracy_score, classification_report\n",
    "\n",
    "model = LogisticRegression(max_iter=1000)  # max_iter 값 설정\n",
    "model.fit(x_train_std, y_train)  # 표준화된 x_train 사용\n",
    "y_pred = model.predict(x_test_std)  # 표준화된 x_test 사용\n",
    "\n",
    "accuracy = accuracy_score(y_test, y_pred)\n",
    "report = classification_report(y_test, y_pred)\n",
    "\n",
    "print(f\"Accuracy: {accuracy}\")\n",
    "print(\"Classification Report:\")\n",
    "print(report)"
   ]
  }
 ],
 "metadata": {
  "kernelspec": {
   "display_name": "torchenv",
   "language": "python",
   "name": "python3"
  },
  "language_info": {
   "codemirror_mode": {
    "name": "ipython",
    "version": 3
   },
   "file_extension": ".py",
   "mimetype": "text/x-python",
   "name": "python",
   "nbconvert_exporter": "python",
   "pygments_lexer": "ipython3",
   "version": "3.8.16"
  },
  "orig_nbformat": 4
 },
 "nbformat": 4,
 "nbformat_minor": 2
}
