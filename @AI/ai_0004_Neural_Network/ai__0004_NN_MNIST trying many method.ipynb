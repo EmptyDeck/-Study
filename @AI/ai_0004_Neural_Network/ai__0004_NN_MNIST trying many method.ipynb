{
 "cells": [
  {
   "attachments": {},
   "cell_type": "markdown",
   "metadata": {},
   "source": [
    "### AI Study \n",
    "using many methods at once with MNIST data"
   ]
  },
  {
   "cell_type": "code",
   "execution_count": 21,
   "metadata": {},
   "outputs": [],
   "source": [
    "import torch\n",
    "import torchvision.datasets as data\n",
    "import torchvision.transforms as transforms\n",
    "import random"
   ]
  },
  {
   "attachments": {},
   "cell_type": "markdown",
   "metadata": {},
   "source": [
    "#####  Hardware"
   ]
  },
  {
   "cell_type": "code",
   "execution_count": 22,
   "metadata": {},
   "outputs": [
    {
     "name": "stdout",
     "output_type": "stream",
     "text": [
      "Cuda torch working : True\n",
      "current device no. : 0\n",
      "GPU device count : 1\n",
      "GPU name : NVIDIA GeForce GTX 1080\n",
      "device :  cuda\n"
     ]
    }
   ],
   "source": [
    "##Hardwere\n",
    "import torch\n",
    "if torch.cuda.is_available() == True:\n",
    "  device = 'cuda'\n",
    "  templist = [1,2,3]\n",
    "  templist = torch.FloatTensor(templist).to(device)\n",
    "  print(\"Cuda torch working : \",end=\"\")\n",
    "  print(templist.is_cuda)\n",
    "  print(\"current device no. : \",end=\"\")\n",
    "  print(torch.cuda.current_device())\n",
    "  print(\"GPU device count : \",end=\"\")\n",
    "  print(torch.cuda.device_count())\n",
    "  print(\"GPU name : \",end=\"\")\n",
    "  print(torch.cuda.get_device_name(0))\n",
    "  print(\"device : \",device)\n",
    "elif torch.backends.mps.is_available() == True:\n",
    "  print(\"Apple device detected\\nActivating Apple Silicon GPU\")\n",
    "  device = torch.device(\"mps\")\n",
    "else:\n",
    "  print(\"cant use gpu , activating cpu\")\n",
    "  device = 'cpu'"
   ]
  },
  {
   "attachments": {},
   "cell_type": "markdown",
   "metadata": {},
   "source": [
    "##### Random Seed"
   ]
  },
  {
   "cell_type": "code",
   "execution_count": 23,
   "metadata": {},
   "outputs": [],
   "source": [
    "random.seed(777)\n",
    "torch.manual_seed(777)\n",
    "if device == 'cuda':\n",
    "  torch.cuda.manual_seed_all(777)"
   ]
  },
  {
   "attachments": {},
   "cell_type": "markdown",
   "metadata": {},
   "source": [
    "#### Parameters"
   ]
  },
  {
   "cell_type": "code",
   "execution_count": 24,
   "metadata": {},
   "outputs": [
    {
     "name": "stdout",
     "output_type": "stream",
     "text": [
      "Learning list :  [10000, 100, 1, 0.01, 0.0001, 1e-06, 1e-08]\n",
      "Learning rate :  [0.001]\n",
      "Nb_epoch :  15\n",
      "Batch size :  100\n",
      "dropout :  0.3\n"
     ]
    }
   ],
   "source": [
    "LR_list = [10000,100,1,1e-2,1e-4,1e-6,1e-8]\n",
    "learning_rate = [1e-3]\n",
    "nb_epoch = 15\n",
    "batch_size = 100\n",
    "drop_out_posibility = 0.3\n",
    "def show_parameters():\n",
    "  print(\"Learning list : \",LR_list)\n",
    "  print(\"Learning rate : \",learning_rate)\n",
    "  print(\"Nb_epoch : \",nb_epoch)\n",
    "  print(\"Batch size : \",batch_size)\n",
    "  print(\"dropout : \",drop_out_posibility)\n",
    "show_parameters()"
   ]
  },
  {
   "attachments": {},
   "cell_type": "markdown",
   "metadata": {},
   "source": [
    "##### Download MNIST data"
   ]
  },
  {
   "cell_type": "code",
   "execution_count": 25,
   "metadata": {},
   "outputs": [],
   "source": [
    "mnist_train= data.MNIST(root='MNIST_data',\n",
    "                        train = True, #bring train data\n",
    "                        transform=transforms.ToTensor(),\n",
    "                        download=True)\n",
    "mnist_test = data.MNIST(root='MNIST_data',\n",
    "                        train=False,\n",
    "                        transform=transforms.ToTensor(),\n",
    "                        download=True)"
   ]
  },
  {
   "attachments": {},
   "cell_type": "markdown",
   "metadata": {},
   "source": [
    "#### Set data loader"
   ]
  },
  {
   "cell_type": "code",
   "execution_count": 26,
   "metadata": {},
   "outputs": [],
   "source": [
    "data_loader = torch.utils.data.DataLoader(dataset=mnist_train,\n",
    "                                          batch_size=batch_size, #batch size at parameters\n",
    "                                          shuffle=True, #mix it up\n",
    "                                          drop_last=True) #len(data)%batch = left overs shoud I drop this or not?"
   ]
  },
  {
   "cell_type": "code",
   "execution_count": 27,
   "metadata": {},
   "outputs": [],
   "source": [
    "\n",
    "data_loader = torch.utils.data.DataLoader(dataset=mnist_train,\n",
    "                                          batch_size=batch_size,\n",
    "                                          shuffle=True,\n",
    "                                          drop_last=True)\n"
   ]
  },
  {
   "attachments": {},
   "cell_type": "markdown",
   "metadata": {},
   "source": [
    "#### Model presets"
   ]
  },
  {
   "cell_type": "code",
   "execution_count": 28,
   "metadata": {},
   "outputs": [
    {
     "name": "stdout",
     "output_type": "stream",
     "text": [
      "defalt\n"
     ]
    }
   ],
   "source": [
    "##One layer model\n",
    "linear1 = torch.nn.Linear(784,10,bias=True)\n",
    "##Five layer model\n",
    "linear51 = torch.nn.Linear(784,512,bias=True)\n",
    "linear52 = torch.nn.Linear(512,512,bias=True)\n",
    "linear53 = torch.nn.Linear(512,512,bias=True)\n",
    "linear54 = torch.nn.Linear(512,512,bias=True)\n",
    "linear55 = torch.nn.Linear(512,10,bias=True)\n",
    "\n",
    "\n",
    "##Line model\n",
    "relu = torch.nn.ReLU()\n",
    "#dropout\n",
    "dropout = torch.nn.Dropout(p=drop_out_posibility)\n",
    "#loss\n",
    "loss = torch.nn.CrossEntropyLoss().to(device)\n",
    "\n",
    "models = [['1layer','SGD'],['5layer','SGD'],['1layer','Adam'],['5layer','Adam'],['5layer+drop','SGD'],['5layer+drop','Adam']]\n",
    "\n",
    "\n",
    "def choose_model(LR,layer,optim):\n",
    "  global model\n",
    "  global optimzier\n",
    "  if layer == '1layer':\n",
    "    torch.nn.init.normal_(linear1.weight)\n",
    "    model = torch.nn.Sequential(linear1).to(device)\n",
    "    #print(\"layer1\")\n",
    "  elif layer == '5layer':\n",
    "    torch.nn.init.normal_(linear51.weight)\n",
    "    torch.nn.init.normal_(linear52.weight)\n",
    "    torch.nn.init.normal_(linear53.weight)\n",
    "    torch.nn.init.normal_(linear54.weight)\n",
    "    torch.nn.init.normal_(linear55.weight)\n",
    "    model = torch.nn.Sequential(linear51,relu,\n",
    "                                linear52,relu,\n",
    "                                linear53,relu,\n",
    "                                linear54,relu,\n",
    "                                linear55).to(device)\n",
    "    #print(\"layer5\")\n",
    "  elif layer == '5layer+drop':\n",
    "    torch.nn.init.normal_(linear51.weight)\n",
    "    torch.nn.init.normal_(linear52.weight)\n",
    "    torch.nn.init.normal_(linear53.weight)\n",
    "    torch.nn.init.normal_(linear54.weight)\n",
    "    torch.nn.init.normal_(linear55.weight)\n",
    "    model = torch.nn.Sequential(linear51,relu,dropout,\n",
    "                                linear52,relu,dropout,\n",
    "                                linear53,relu,dropout,\n",
    "                                linear54,relu,dropout,\n",
    "                                linear55).to(device)\n",
    "    model.train()#we need this when dropout\n",
    "    #print(\"layer5 drop\")\n",
    "  else:\n",
    "    print(\"Error : Unknown Layer option please check models list\")\n",
    "  if optim == 'SGD':\n",
    "    optimzier = torch.optim.SGD(model.parameters(),lr=LR)\n",
    "    #print(\"SGD\")\n",
    "  elif optim == 'Adam':\n",
    "    optimzier = torch.optim.Adam(model.parameters(),lr=LR)\n",
    "    #print(\"Adam\")\n",
    "  else:\n",
    "    print(\"Error unknown optim option please check models list\")\n",
    "\n",
    "print(\"defalt\")\n",
    "choose_model(LR_list[0],models[0][0],models[0][1])"
   ]
  },
  {
   "cell_type": "code",
   "execution_count": 29,
   "metadata": {},
   "outputs": [],
   "source": [
    "torch.nn.init.normal_(linear51.weight)\n",
    "torch.nn.init.normal_(linear52.weight)\n",
    "torch.nn.init.normal_(linear53.weight)\n",
    "torch.nn.init.normal_(linear54.weight)\n",
    "torch.nn.init.normal_(linear55.weight)\n",
    "model = torch.nn.Sequential(linear51,relu,dropout,\n",
    "                            linear52,relu,dropout,\n",
    "                            linear53,relu,dropout,\n",
    "                            linear54,relu,dropout,\n",
    "                            linear55).to(device)\n",
    "model.train()#we need this when dropout\n",
    "optimzier = torch.optim.Adam(model.parameters(),lr=1e-3)\n"
   ]
  },
  {
   "cell_type": "code",
   "execution_count": 30,
   "metadata": {},
   "outputs": [
    {
     "name": "stderr",
     "output_type": "stream",
     "text": [
      "100%|██████████| 15/15 [01:21<00:00,  5.44s/it]\n",
      "c:\\ProgramData\\Anaconda3\\lib\\site-packages\\torchvision\\datasets\\mnist.py:80: UserWarning: test_data has been renamed data\n",
      "  warnings.warn(\"test_data has been renamed data\")\n",
      "c:\\ProgramData\\Anaconda3\\lib\\site-packages\\torchvision\\datasets\\mnist.py:70: UserWarning: test_labels has been renamed targets\n",
      "  warnings.warn(\"test_labels has been renamed targets\")\n"
     ]
    },
    {
     "name": "stdout",
     "output_type": "stream",
     "text": [
      "With 1E-03 Learning rate #1layer#  layer ,#SGD#  optim model Avr Cost : #4.166#  Accuracy : 39.650 %\n"
     ]
    },
    {
     "name": "stderr",
     "output_type": "stream",
     "text": [
      "100%|██████████| 15/15 [01:26<00:00,  5.75s/it]\n"
     ]
    },
    {
     "name": "stdout",
     "output_type": "stream",
     "text": [
      "With 1E-03 Learning rate #5layer#  layer ,#SGD#  optim model Avr Cost : #nan#  Accuracy : 9.800 %\n"
     ]
    },
    {
     "name": "stderr",
     "output_type": "stream",
     "text": [
      "100%|██████████| 15/15 [01:19<00:00,  5.30s/it]\n"
     ]
    },
    {
     "name": "stdout",
     "output_type": "stream",
     "text": [
      "With 1E-03 Learning rate #1layer#  layer ,#Adam#  optim model Avr Cost : #0.399#  Accuracy : 88.950 %\n"
     ]
    },
    {
     "name": "stderr",
     "output_type": "stream",
     "text": [
      "100%|██████████| 15/15 [01:26<00:00,  5.79s/it]\n"
     ]
    },
    {
     "name": "stdout",
     "output_type": "stream",
     "text": [
      "With 1E-03 Learning rate #5layer#  layer ,#Adam#  optim model Avr Cost : #nan#  Accuracy : 9.800 %\n"
     ]
    },
    {
     "name": "stderr",
     "output_type": "stream",
     "text": [
      "100%|██████████| 15/15 [01:24<00:00,  5.60s/it]\n"
     ]
    },
    {
     "name": "stdout",
     "output_type": "stream",
     "text": [
      "With 1E-03 Learning rate #5layer+drop#  layer ,#SGD#  optim model Avr Cost : #nan#  Accuracy : 9.800 %\n"
     ]
    },
    {
     "name": "stderr",
     "output_type": "stream",
     "text": [
      "100%|██████████| 15/15 [01:26<00:00,  5.75s/it]"
     ]
    },
    {
     "name": "stdout",
     "output_type": "stream",
     "text": [
      "With 1E-03 Learning rate #5layer+drop#  layer ,#Adam#  optim model Avr Cost : #nan#  Accuracy : 9.800 %\n"
     ]
    },
    {
     "name": "stderr",
     "output_type": "stream",
     "text": [
      "\n"
     ]
    }
   ],
   "source": [
    "from tqdm import tqdm\n",
    "batch_len = len(data_loader)\n",
    "\n",
    "for LR in LR_list:\n",
    "  for layer,optim in models:\n",
    "    choose_model(LR,layer,optim)#function chooseing model\n",
    "    \n",
    "    for epoch in tqdm(range(nb_epoch)):\n",
    "      avg_cost = 0\n",
    "      for X , Y in (data_loader):\n",
    "        \n",
    "        #change image to 1 dim list\n",
    "        X = X.view(-1, 28 * 28).to(device)\n",
    "        Y = Y.to(device)\n",
    "        \n",
    "        #reset grad\n",
    "        optimzier.zero_grad()\n",
    "        #foward\n",
    "        hypothesis = model(X)\n",
    "        #Error\n",
    "        cost = loss(hypothesis,Y)\n",
    "        # Backparopagation\n",
    "        cost.backward()\n",
    "        #cal weight\n",
    "        optimzier.step()\n",
    "        #avr cal\n",
    "        avg_cost = avg_cost + cost/batch_len\n",
    "    ## ACC\n",
    "    with torch.no_grad():\n",
    "      model.eval()\n",
    "      X_test = mnist_test.test_data.view(-1,28*28).float().to(device)\n",
    "      Y_test = mnist_test.test_labels.to(device)\n",
    "      \n",
    "      prediction = model(X_test)\n",
    "      correct_prediction = torch.argmax(prediction, 1) == Y_test\n",
    "      accuracy = correct_prediction.float().mean()\n",
    "    print(\"With %.0E Learning rate #%s#  layer ,#%s#  optim model Avr Cost : #%.3f#  Accuracy : %.3F %%\"%(LR,layer,optim,avg_cost,accuracy.item()*100))"
   ]
  },
  {
   "cell_type": "code",
   "execution_count": 31,
   "metadata": {},
   "outputs": [
    {
     "name": "stdout",
     "output_type": "stream",
     "text": [
      "Label:  8\n",
      "Prediction:  0\n"
     ]
    }
   ],
   "source": [
    "# 랜덤 테스트\n",
    "r = random.randint(0, len(mnist_test) - 1)\n",
    "X_single_data = mnist_test.test_data[r:r + 1].view(-1, 28 * 28).float().to(device)\n",
    "Y_single_data = mnist_test.test_labels[r:r + 1].to(device)\n",
    "\n",
    "print('Label: ', Y_single_data.item())\n",
    "single_prediction = model(X_single_data)\n",
    "print('Prediction: ', torch.argmax(single_prediction, 1).item())"
   ]
  },
  {
   "cell_type": "code",
   "execution_count": 32,
   "metadata": {},
   "outputs": [
    {
     "name": "stdout",
     "output_type": "stream",
     "text": [
      "tensor([8], device='cuda:0')\n"
     ]
    },
    {
     "data": {
      "image/png": "[encoded data removed]",
      "text/plain": [
       "<Figure size 640x480 with 1 Axes>"
      ]
     },
     "metadata": {},
     "output_type": "display_data"
    }
   ],
   "source": [
    "# 숫자 눈으로 뿌려보기\n",
    "import matplotlib.pyplot as plt\n",
    "plt.imshow(X_single_data.reshape(28,28).cpu())\n",
    "print(Y_single_data)"
   ]
  }
 ],
 "metadata": {
  "kernelspec": {
   "display_name": "base",
   "language": "python",
   "name": "python3"
  },
  "language_info": {
   "codemirror_mode": {
    "name": "ipython",
    "version": 3
   },
   "file_extension": ".py",
   "mimetype": "text/x-python",
   "name": "python",
   "nbconvert_exporter": "python",
   "pygments_lexer": "ipython3",
   "version": "3.9.13"
  },
  "orig_nbformat": 4,
  "vscode": {
   "interpreter": {
    "hash": "ad2bdc8ecc057115af97d19610ffacc2b4e99fae6737bb82f5d7fb13d2f2c186"
   }
  }
 },
 "nbformat": 4,
 "nbformat_minor": 2
}
