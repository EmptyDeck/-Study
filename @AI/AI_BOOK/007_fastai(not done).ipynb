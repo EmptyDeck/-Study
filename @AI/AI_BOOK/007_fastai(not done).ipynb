{
 "cells": [
  {
   "cell_type": "code",
   "execution_count": null,
   "metadata": {},
   "outputs": [],
   "source": [
    "from fastai.vision.all import *\n",
    "from fastai.metrics import accuracy\n",
    "\n",
    "# Load the MNIST dataset\n",
    "path = untar_data(URLs.MNIST)\n",
    "\n",
    "# Prepare the DataLoaders\n",
    "dls = ImageDataLoaders.from_folder(path, train='training', valid='testing', \n",
    "                                   item_tfms=Resize(28), \n",
    "                                   batch_tfms=Normalize.from_stats(*imagenet_stats))\n",
    "\n",
    "# Create a CNN learner with a pre-trained ResNet18 architecture\n",
    "learn = cnn_learner(dls, resnet18, metrics=accuracy)\n",
    "\n",
    "# Train the model for 4 epochs\n",
    "learn.fit_one_cycle(4)\n",
    "\n",
    "# Save the model\n",
    "learn.save('mnist_resnet18')\n",
    "\n",
    "# You can also export the learner for inference\n",
    "learn.export('mnist_resnet18.pkl')\n",
    "\n",
    "# To find the best learning rate, you can uncomment the following line and run it before training the model:\n",
    "# learn.lr_find()\n",
    "\n",
    "# If you choose to run the lr_find() method, you can plot the graph to see the suggested learning rates:\n",
    "# learn.recorder.plot_lr_find()\n"
   ]
  }
 ],
 "metadata": {
  "kernelspec": {
   "display_name": "auto",
   "language": "python",
   "name": "python3"
  },
  "language_info": {
   "name": "python",
   "version": "3.11.6"
  }
 },
 "nbformat": 4,
 "nbformat_minor": 2
}
