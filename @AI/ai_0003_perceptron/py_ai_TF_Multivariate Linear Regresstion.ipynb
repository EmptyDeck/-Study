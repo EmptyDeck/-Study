{
 "cells": [
  {
   "cell_type": "code",
   "execution_count": 3,
   "metadata": {},
   "outputs": [
    {
     "name": "stdout",
     "output_type": "stream",
     "text": [
      "Epoch    0/1000 w1 : 0.294012 w2 : 0.293600 w3 : 0.297380 b : 0.003420 Cost : 29661.800781\n",
      "Epoch  100/1000 w1 : 0.673507 w2 : 0.660968 w3 : 0.676231 b : 0.007920 Cost : 1.563634\n",
      "Epoch  200/1000 w1 : 0.678946 w2 : 0.654962 w3 : 0.676784 b : 0.008070 Cost : 1.497607\n",
      "Epoch  300/1000 w1 : 0.684251 w2 : 0.649122 w3 : 0.677305 b : 0.008219 Cost : 1.435026\n",
      "Epoch  400/1000 w1 : 0.689426 w2 : 0.643444 w3 : 0.677795 b : 0.008367 Cost : 1.375730\n",
      "Epoch  500/1000 w1 : 0.694474 w2 : 0.637923 w3 : 0.678255 b : 0.008514 Cost : 1.319511\n",
      "Epoch  600/1000 w1 : 0.699398 w2 : 0.632556 w3 : 0.678686 b : 0.008659 Cost : 1.266222\n",
      "Epoch  700/1000 w1 : 0.704202 w2 : 0.627338 w3 : 0.679088 b : 0.008804 Cost : 1.215696\n",
      "Epoch  800/1000 w1 : 0.708889 w2 : 0.622266 w3 : 0.679464 b : 0.008948 Cost : 1.167818\n",
      "Epoch  900/1000 w1 : 0.713462 w2 : 0.617334 w3 : 0.679811 b : 0.009090 Cost : 1.122429\n",
      "Epoch 1000/1000 w1 : 0.717924 w2 : 0.612539 w3 : 0.680133 b : 0.009232 Cost : 1.079378\n"
     ]
    }
   ],
   "source": [
    "import torch\n",
    "import torch.optim as optim\n",
    "\n",
    "#데이터\n",
    "x1_torch = torch.FloatTensor([[73], [93], [89], [96], [73]])\n",
    "x2_torch = torch.FloatTensor([[80], [88], [91], [98], [66]])\n",
    "x3_torch = torch.FloatTensor([[75], [93], [90], [100], [70]])\n",
    "y_torch = torch.FloatTensor([[152], [185], [180], [196], [142]])\n",
    "\n",
    "w1 = torch.zeros(1, requires_grad = True)\n",
    "w2 = torch.zeros(1, requires_grad = True)\n",
    "w3 = torch.zeros(1, requires_grad = True)\n",
    "b = torch.zeros(1, requires_grad = True)\n",
    "\n",
    "optimizer = optim.SGD([w1, w2, w3, b], lr=1e-5) #lr =  leaning rate == 1 * 10^-5\n",
    "\n",
    "nb_epochs = 1000\n",
    "\n",
    "for epoch in range(nb_epochs + 1):\n",
    "  #H(x) calculation\n",
    "  hypothesis = x1_torch * w1 + x2_torch * w2 + x3_torch * w3 + b\n",
    "  # cost caltulation\n",
    "  cost = torch.mean((hypothesis - y_torch)**2)\n",
    "\n",
    "  # improve H(x) with cost\n",
    "  optimizer.zero_grad() #\n",
    "  cost.backward() \n",
    "  optimizer.step() # + cal * lr \n",
    "  if epoch % 100 == 0:\n",
    "    print(\"Epoch %4d/%d w1 : %f w2 : %f w3 : %f b : %f Cost : %f\"%(epoch,nb_epochs,w1.item(),w2.item(),w3.item(),b.item(),cost.item()))\n"
   ]
  },
  {
   "cell_type": "code",
   "execution_count": 8,
   "metadata": {},
   "outputs": [
    {
     "name": "stdout",
     "output_type": "stream",
     "text": [
      "@@@@@@@@@@@@@@@@@@@@@@@@@@@@@@@\n",
      "Epoch   0/100 W : 0.294012 b : 0.003420 Cost : 29661.800781\n",
      "Epoch  20/100 W : 0.669053 b : 0.007799 Cost : 1.619046\n",
      "Epoch  40/100 W : 0.670177 b : 0.007829 Cost : 1.604980\n",
      "Epoch  60/100 W : 0.671293 b : 0.007859 Cost : 1.591033\n",
      "Epoch  80/100 W : 0.672402 b : 0.007890 Cost : 1.577265\n",
      "Epoch 100/100 W : 0.673506 b : 0.007920 Cost : 1.563626\n"
     ]
    }
   ],
   "source": [
    "\n",
    "x_torch = torch.FloatTensor([[73, 80, 75],\n",
    "                             [93, 88, 93],\n",
    "                             [89, 91, 90],\n",
    "                             [96, 98, 100],\n",
    "                             [73, 66, 70]])\n",
    "y_torch = torch.FloatTensor([[152], [185], [180], [196], [142]])\n",
    "\n",
    "\"\"\"#check if something goes wrong\n",
    "print(x_torch)\n",
    "print(x_torch.shape)\n",
    "print(y_torch)\n",
    "print(y_torch.shape)\n",
    "\"\"\"\n",
    "W = torch.zeros((3,1), requires_grad=True)\n",
    "b = torch.zeros(1,requires_grad=True)\n",
    "\n",
    "optimizer = optim.SGD([W,b], lr=1e-5)\n",
    "\n",
    "nb_epochs = 100\n",
    "print(\"@@@@@@@@@@@@@@@@@@@@@@@@@@@@@@@\")\n",
    "for epoch in range(nb_epochs + 1):\n",
    "  #H(x) my matrix multiply\n",
    "  hypothesis = x_torch.matmul(W) + b\n",
    "  cost = torch.mean((hypothesis - y_torch) ** 2)\n",
    "  \n",
    "  #inhace cost\n",
    "  optimizer.zero_grad()\n",
    "  cost.backward()\n",
    "  optimizer.step()\n",
    "  \n",
    "  #repeat\n",
    "  W1 = W[0][0].item()\n",
    "  W2 = W[1][0].item()\n",
    "  W3 = W[2][0].item()\n",
    "\n",
    "  if epoch % 20 == 0:\n",
    "    print(\"Epoch %3d/%d W : %f b : %f Cost : %f\"%(epoch,nb_epochs,W1,b.item(),cost.item()))# i didnt print w2 and w3 cuz I am lazy sorry\n",
    "    "
   ]
  }
 ],
 "metadata": {
  "kernelspec": {
   "display_name": "Python 3",
   "language": "python",
   "name": "python3"
  },
  "language_info": {
   "codemirror_mode": {
    "name": "ipython",
    "version": 3
   },
   "file_extension": ".py",
   "mimetype": "text/x-python",
   "name": "python",
   "nbconvert_exporter": "python",
   "pygments_lexer": "ipython3",
   "version": "3.10.8 (tags/v3.10.8:aaaf517, Oct 11 2022, 16:50:30) [MSC v.1933 64 bit (AMD64)]"
  },
  "orig_nbformat": 4,
  "vscode": {
   "interpreter": {
    "hash": "a209eb2817ab8eda6678894618a38749d2d78aa1b9fc972772f61f2d8753ff75"
   }
  }
 },
 "nbformat": 4,
 "nbformat_minor": 2
}
