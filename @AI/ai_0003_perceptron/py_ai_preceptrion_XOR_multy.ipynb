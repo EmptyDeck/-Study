{
 "cells": [
  {
   "cell_type": "code",
   "execution_count": null,
   "metadata": {},
   "outputs": [],
   "source": []
  },
  {
   "cell_type": "code",
   "execution_count": 13,
   "metadata": {},
   "outputs": [
    {
     "name": "stdout",
     "output_type": "stream",
     "text": [
      "0.7041123509407043\n",
      "0.6668897271156311\n",
      "0.0017887100111693144\n",
      "0.0007039483170956373\n",
      "0.00042433448834344745\n",
      "0.0002996667171828449\n",
      "0.0002299090992892161\n",
      "0.00018564259517006576\n",
      "0.0001551789464429021\n",
      "0.00013303232844918966\n"
     ]
    }
   ],
   "source": [
    "import torch\n",
    "\n",
    "\n",
    "\n",
    "X = torch.FloatTensor([[0,0], [0,1], [1,0],[1,1]])\n",
    "Y = torch.FloatTensor([[0],[1],[1],[0]])\n",
    "\n",
    "layer1 = torch.nn.Linear(2,10,bias = True)\n",
    "layer2 = torch.nn.Linear(10,10,bias = True)\n",
    "layer3 = torch.nn.Linear(10,1,bias = True)\n",
    "\n",
    "sigmoid = torch.nn.Sigmoid()\n",
    "\n",
    "model = torch.nn.Sequential(layer1,sigmoid,layer2,sigmoid,layer3,sigmoid)\n",
    "\n",
    "optimizer = torch.optim.SGD(model.parameters(),lr = 1)#parameters means the things that changes just like W and b\n",
    "loss = torch.nn.BCELoss()\n",
    "for i in range(10000):\n",
    "  \n",
    "  optimizer.zero_grad()\n",
    "  hypothesis = model(X)\n",
    "  cost = loss(hypothesis,Y)\n",
    "  cost.backward()\n",
    "  optimizer.step()\n",
    "  if i % 1000 == 0:\n",
    "    print(cost.item())\n",
    "    \n",
    "    \n"
   ]
  },
  {
   "cell_type": "code",
   "execution_count": 15,
   "metadata": {},
   "outputs": [
    {
     "name": "stdout",
     "output_type": "stream",
     "text": [
      "tensor([[6.7933e-05],\n",
      "        [9.9989e-01],\n",
      "        [9.9988e-01],\n",
      "        [1.6698e-04]], grad_fn=<SigmoidBackward0>)\n",
      "tensor([[False],\n",
      "        [ True],\n",
      "        [ True],\n",
      "        [False]])\n",
      "tensor(100.) %\n"
     ]
    }
   ],
   "source": [
    "prediction = (hypothesis > 0.5)\n",
    "accuracy= prediction == Y\n",
    "print(hypothesis)\n",
    "print(prediction)\n",
    "print(accuracy.sum()/len(Y)*100,\"%\")"
   ]
  }
 ],
 "metadata": {
  "kernelspec": {
   "display_name": "base",
   "language": "python",
   "name": "python3"
  },
  "language_info": {
   "codemirror_mode": {
    "name": "ipython",
    "version": 3
   },
   "file_extension": ".py",
   "mimetype": "text/x-python",
   "name": "python",
   "nbconvert_exporter": "python",
   "pygments_lexer": "ipython3",
   "version": "3.9.13 (main, Aug 25 2022, 23:51:50) [MSC v.1916 64 bit (AMD64)]"
  },
  "orig_nbformat": 4,
  "vscode": {
   "interpreter": {
    "hash": "ad2bdc8ecc057115af97d19610ffacc2b4e99fae6737bb82f5d7fb13d2f2c186"
   }
  }
 },
 "nbformat": 4,
 "nbformat_minor": 2
}
