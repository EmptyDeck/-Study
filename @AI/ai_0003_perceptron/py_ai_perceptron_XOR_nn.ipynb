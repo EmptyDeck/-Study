{
 "cells": [
  {
   "attachments": {},
   "cell_type": "markdown",
   "metadata": {},
   "source": [
    "# Perceptron XOR with using nn"
   ]
  },
  {
   "cell_type": "code",
   "execution_count": 2,
   "metadata": {},
   "outputs": [
    {
     "name": "stdout",
     "output_type": "stream",
     "text": [
      "cost :  0.7278653383255005\n",
      "cost :  0.6931865215301514\n",
      "cost :  0.6928398013114929\n",
      "cost :  0.691431999206543\n",
      "cost :  0.6780802011489868\n",
      "cost :  0.590701699256897\n",
      "cost :  0.4904520511627197\n",
      "cost :  0.42061343789100647\n",
      "cost :  0.23347926139831543\n",
      "cost :  0.08924970030784607\n"
     ]
    }
   ],
   "source": [
    "import torch\n",
    "\n",
    "\n",
    "#import xor data\n",
    "X = torch.FloatTensor([[0,0], [0,1], [1,0],[1,1]])\n",
    "Y = torch.FloatTensor([[0],[1],[1],[0]])\n",
    "\n",
    "layer1 = torch.nn.Linear(2,2,bias=True)\n",
    "layer2 = torch.nn.Linear(2,1,bias=True)\n",
    "sigmoid = torch.nn.Sigmoid()\n",
    "\n",
    "model = torch.nn.Sequential(layer1,sigmoid,layer2,sigmoid)\n",
    "loss = torch.nn.BCELoss()\n",
    "optimizer = torch.optim.SGD(model.parameters(),lr=1)\n",
    "\n",
    "loss = torch.nn.BCELoss()\n",
    "for i in range(1000):\n",
    "  optimizer.zero_grad()\n",
    "  hypothesis = model(X)\n",
    "  cost = loss(hypothesis,Y)\n",
    "  cost.backward()\n",
    "  optimizer.step()\n",
    "  if i % 100 == 0:\n",
    "    print(\"cost : \",cost.item())\n",
    "\n"
   ]
  },
  {
   "attachments": {},
   "cell_type": "markdown",
   "metadata": {},
   "source": [
    "# Evaluation"
   ]
  },
  {
   "cell_type": "code",
   "execution_count": 9,
   "metadata": {},
   "outputs": [
    {
     "name": "stdout",
     "output_type": "stream",
     "text": [
      "accuracy : 100.0 %\n"
     ]
    }
   ],
   "source": [
    "with torch.no_grad():\n",
    "  hypothesis = model(X)\n",
    "  predicted = (hypothesis>0.5).float()\n",
    "  accuracy = predicted == Y\n",
    "  print(\"accuracy :\" ,(accuracy.sum()/len(Y)*100).item(),\"%\")\n",
    "  "
   ]
  }
 ],
 "metadata": {
  "kernelspec": {
   "display_name": "base",
   "language": "python",
   "name": "python3"
  },
  "language_info": {
   "codemirror_mode": {
    "name": "ipython",
    "version": 3
   },
   "file_extension": ".py",
   "mimetype": "text/x-python",
   "name": "python",
   "nbconvert_exporter": "python",
   "pygments_lexer": "ipython3",
   "version": "3.9.13 (main, Aug 25 2022, 23:51:50) [MSC v.1916 64 bit (AMD64)]"
  },
  "orig_nbformat": 4,
  "vscode": {
   "interpreter": {
    "hash": "ad2bdc8ecc057115af97d19610ffacc2b4e99fae6737bb82f5d7fb13d2f2c186"
   }
  }
 },
 "nbformat": 4,
 "nbformat_minor": 2
}
