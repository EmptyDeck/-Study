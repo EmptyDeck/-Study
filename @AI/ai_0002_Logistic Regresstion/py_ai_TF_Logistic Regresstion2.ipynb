{
 "cells": [
  {
   "attachments": {},
   "cell_type": "markdown",
   "metadata": {},
   "source": [
    "2023/01/11\n",
    "home alone coding\n",
    "lets get init\n",
    "\n",
    "#Soft Max Classification\n",
    "more the three Class"
   ]
  },
  {
   "attachments": {},
   "cell_type": "markdown",
   "metadata": {},
   "source": [
    "**Data**"
   ]
  },
  {
   "cell_type": "code",
   "execution_count": 2,
   "metadata": {},
   "outputs": [
    {
     "name": "stdout",
     "output_type": "stream",
     "text": [
      "tensor([[1., 2.],\n",
      "        [2., 3.],\n",
      "        [3., 1.],\n",
      "        [4., 3.],\n",
      "        [5., 3.],\n",
      "        [6., 2.]])\n",
      "tensor([[0.],\n",
      "        [0.],\n",
      "        [0.],\n",
      "        [1.],\n",
      "        [1.],\n",
      "        [1.]])\n",
      "torch.Size([6, 2])\n",
      "torch.Size([6, 1])\n"
     ]
    }
   ],
   "source": [
    "import torch\n",
    "import torch.optim as optim\n",
    "\n",
    "\n",
    "#data\n",
    "x_train = [[1, 2], [2, 3], [3, 1], [4, 3], [5, 3], [6, 2]]\n",
    "y_train = [[0], [0], [0], [1], [1], [1]]\n",
    "\n",
    "x_train = torch.FloatTensor(x_train)\n",
    "y_train = torch.FloatTensor(y_train)\n",
    "\n",
    "#varification\n",
    "print(x_train)\n",
    "print(y_train)\n",
    "print(x_train.shape)\n",
    "print(y_train.shape)\n",
    "\n",
    "\n"
   ]
  },
  {
   "attachments": {},
   "cell_type": "markdown",
   "metadata": {},
   "source": [
    "**Leanring**"
   ]
  },
  {
   "cell_type": "code",
   "execution_count": 3,
   "metadata": {},
   "outputs": [
    {
     "name": "stdout",
     "output_type": "stream",
     "text": [
      "Epoch :    0/1000 W1 : 0.020350 W2 : 0.022888 cost : 2.012506\n",
      "Epoch :  100/1000 W1 : 1.575697 W2 : 0.409051 cost : 0.131138\n",
      "Epoch :  200/1000 W1 : 1.974023 W2 : 0.744595 cost : 0.079377\n",
      "Epoch :  300/1000 W1 : 2.258494 W2 : 0.939603 cost : 0.057256\n",
      "Epoch :  400/1000 W1 : 2.478613 W2 : 1.077984 cost : 0.044908\n",
      "Epoch :  500/1000 W1 : 2.658341 W2 : 1.185349 cost : 0.036998\n",
      "Epoch :  600/1000 W1 : 2.810326 W2 : 1.273142 cost : 0.031483\n",
      "Epoch :  700/1000 W1 : 2.942051 W2 : 1.347455 cost : 0.027413\n",
      "Epoch :  800/1000 W1 : 3.058321 W2 : 1.411914 cost : 0.024282\n",
      "Epoch :  900/1000 W1 : 3.162399 W2 : 1.468849 cost : 0.021798\n",
      "Epoch : 1000/1000 W1 : 3.256615 W2 : 1.519849 cost : 0.019778\n"
     ]
    }
   ],
   "source": [
    "\n",
    "\n",
    "W = torch.ones((2,1),requires_grad=True)\n",
    "b = torch.zeros(1, requires_grad=True)\n",
    "\n",
    "#set optimizer\n",
    "optimizer = optim.SGD([W,b] , lr = 1)\n",
    "\n",
    "nb_epoch = 1000 #how many times are you going to enhance it\n",
    "\n",
    "for epoch in range(nb_epoch + 1):\n",
    "  #Cost calcualtion\n",
    "  hypothesis = torch.sigmoid(x_train.matmul(W) + b)\n",
    "  cost = -((y_train * torch.log(hypothesis)) + ((1-y_train)*torch.log(1 - hypothesis))).mean()\n",
    "  optimizer.zero_grad()\n",
    "  cost.backward()\n",
    "  optimizer.step()\n",
    "  W1 = W[0][0].item()\n",
    "  W2 = W[1][0].item()\n",
    "  \n",
    "  \n",
    "  #every 100 times\n",
    "  if epoch % 100 == 0:\n",
    "    print(\"Epoch : %4d/%d W1 : %f W2 : %f cost : %f\"%(epoch,nb_epoch,W1,W2,cost))"
   ]
  },
  {
   "cell_type": "code",
   "execution_count": 4,
   "metadata": {},
   "outputs": [
    {
     "name": "stdout",
     "output_type": "stream",
     "text": [
      "tensor([[True],\n",
      "        [True],\n",
      "        [True],\n",
      "        [True],\n",
      "        [True]])\n",
      "The model has an accuracy of 100.00% for the training set.\n"
     ]
    }
   ],
   "source": [
    "hypothesis = torch.sigmoid(x_train.matmul(W) + b)\n",
    "\n",
    "prediction = hypothesis >= torch.FloatTensor([0.5])\n",
    "\n",
    "\n",
    "correct_prediction = prediction.float() == y_train\n",
    "print(correct_prediction[:5])\n",
    "\n",
    "accuracy = correct_prediction.sum().item() / len(correct_prediction)\n",
    "print('The model has an accuracy of {:2.2f}% for the training set.'.format(accuracy * 100))"
   ]
  },
  {
   "cell_type": "code",
   "execution_count": 11,
   "metadata": {},
   "outputs": [
    {
     "name": "stdout",
     "output_type": "stream",
     "text": [
      "[[2, 6]]\n",
      "tensor([[True]])\n"
     ]
    }
   ],
   "source": [
    "ManualInput = [[int(input()) for i in range(2)]]\n",
    "print(ManualInput)\n",
    "input_train = torch.FloatTensor(ManualInput);\n",
    "hypothesis = torch.sigmoid(input_train.matmul(W) + b)\n",
    "prediction = hypothesis >= torch.FloatTensor([0.5])\n",
    "print(prediction)"
   ]
  }
 ],
 "metadata": {
  "kernelspec": {
   "display_name": "base",
   "language": "python",
   "name": "python3"
  },
  "language_info": {
   "codemirror_mode": {
    "name": "ipython",
    "version": 3
   },
   "file_extension": ".py",
   "mimetype": "text/x-python",
   "name": "python",
   "nbconvert_exporter": "python",
   "pygments_lexer": "ipython3",
   "version": "3.9.13 (main, Aug 25 2022, 23:51:50) [MSC v.1916 64 bit (AMD64)]"
  },
  "orig_nbformat": 4,
  "vscode": {
   "interpreter": {
    "hash": "ad2bdc8ecc057115af97d19610ffacc2b4e99fae6737bb82f5d7fb13d2f2c186"
   }
  }
 },
 "nbformat": 4,
 "nbformat_minor": 2
}
