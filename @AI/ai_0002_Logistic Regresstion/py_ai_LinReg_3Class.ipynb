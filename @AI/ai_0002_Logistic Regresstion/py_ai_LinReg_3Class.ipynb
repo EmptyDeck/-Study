{
 "cells": [
  {
   "attachments": {},
   "cell_type": "markdown",
   "metadata": {},
   "source": [
    "2023/01/11\n",
    "\n",
    "2132i\n",
    "\n",
    "damn... I dont feel tired but I dont wont to do anything\n",
    "\n",
    "lets get init\n",
    "\n",
    "##Soft Max classification with more then 3 class##"
   ]
  },
  {
   "cell_type": "code",
   "execution_count": 2,
   "metadata": {},
   "outputs": [
    {
     "name": "stdout",
     "output_type": "stream",
     "text": [
      "[[8, 2, 2, 8], [6, 7, 7, 8], [4, 1, 8, 5], [4, 5, 8, 5], [5, 3, 2, 4], [5, 7, 7, 5], [6, 1, 1, 2], [4, 4, 1, 7]]\n",
      "[2, 0, 0, 0, 1, 0, 1, 2]\n",
      "tensor([[8., 2., 2., 8.],\n",
      "        [6., 7., 7., 8.],\n",
      "        [4., 1., 8., 5.],\n",
      "        [4., 5., 8., 5.],\n",
      "        [5., 3., 2., 4.],\n",
      "        [5., 7., 7., 5.],\n",
      "        [6., 1., 1., 2.],\n",
      "        [4., 4., 1., 7.]])\n",
      "tensor([2, 0, 0, 0, 1, 0, 1, 2])\n"
     ]
    }
   ],
   "source": [
    "import torch\n",
    "import torch.optim as optim\n",
    "import random\n",
    "\n",
    "#data stuctures\n",
    "feature = 4 #inputs\n",
    "data = 8 #how many data\n",
    "start_range = 1 #range of start\n",
    "end_range = 9 #range of end\n",
    "count_class = 3 #class count\n",
    "\n",
    "x_train = [[random.randrange(start_range,end_range) for i in range(feature)] for i in range(data)]\n",
    "\n",
    "print(x_train)\n",
    "\n",
    "y_train = [random.randrange(0,count_class) for i in range(data)]\n",
    "\n",
    "print(y_train)\n",
    "\n",
    "x_train = torch.FloatTensor(x_train)\n",
    "y_train = torch.LongTensor(y_train)#becasue scatter only gets long tensors\n",
    "\n",
    "print(x_train)\n",
    "print(y_train)"
   ]
  },
  {
   "attachments": {},
   "cell_type": "markdown",
   "metadata": {},
   "source": [
    "##Prepare data and stucture"
   ]
  },
  {
   "cell_type": "code",
   "execution_count": 25,
   "metadata": {},
   "outputs": [
    {
     "name": "stdout",
     "output_type": "stream",
     "text": [
      "tensor([[2],\n",
      "        [0],\n",
      "        [0],\n",
      "        [0],\n",
      "        [1],\n",
      "        [0],\n",
      "        [1],\n",
      "        [2]])\n",
      "tensor([[0., 0., 1.],\n",
      "        [1., 0., 0.],\n",
      "        [1., 0., 0.],\n",
      "        [1., 0., 0.],\n",
      "        [0., 1., 0.],\n",
      "        [1., 0., 0.],\n",
      "        [0., 1., 0.],\n",
      "        [0., 0., 1.]])\n",
      "7\n"
     ]
    }
   ],
   "source": [
    "def how_many_number_type_torch(list):#I made this to see how many nuber types there are (little bit important)\n",
    "  list = list.tolist()#this is for torch list\n",
    "  list.sort()\n",
    "  cnt = 1\n",
    "  first = list[0]\n",
    "  for i in range(1, len(list)):\n",
    "    if list[i-1] != list[i]:\n",
    "      cnt = cnt + 1\n",
    "  return cnt\n",
    "\n",
    "\n",
    "\n",
    "print(y_train.unsqueeze(1))#unsqeeze is making a demention and the (numberhere) means in what demetion \n",
    "\n",
    "nb_class = how_many_number_type_torch(y_train) # how many class?\n",
    "\n",
    "nb_data = len(y_train) #how many data?\n",
    "\n",
    "y_one_hot = torch.zeros(nb_data,nb_class) #IDK why people call it hot\n",
    "y_one_hot.scatter_(1,y_train.unsqueeze(1),1) #(index standard,making a 2 dimention long list and index(only long tensors), fill it up as 1)\n",
    "\n",
    "print(y_one_hot)\n"
   ]
  },
  {
   "attachments": {},
   "cell_type": "markdown",
   "metadata": {},
   "source": [
    "#Actual learning"
   ]
  },
  {
   "cell_type": "code",
   "execution_count": 26,
   "metadata": {},
   "outputs": [
    {
     "name": "stdout",
     "output_type": "stream",
     "text": [
      "data 0 is 0 with 33.333334% posibility\n",
      "data 1 is 0 with 33.333334% posibility\n",
      "data 2 is 0 with 33.333334% posibility\n",
      "data 3 is 0 with 33.333334% posibility\n",
      "data 4 is 0 with 33.333334% posibility\n",
      "data 5 is 0 with 33.333334% posibility\n",
      "data 6 is 0 with 33.333334% posibility\n",
      "data 7 is 0 with 33.333334% posibility\n",
      "Epoch :   0/1000 Cost: 1.098612\n",
      "data 0 is 2 with 68.872654% posibility\n",
      "data 1 is 0 with 85.365266% posibility\n",
      "data 2 is 0 with 89.089209% posibility\n",
      "data 3 is 0 with 93.461615% posibility\n",
      "data 4 is 2 with 41.323712% posibility\n",
      "data 5 is 0 with 90.927821% posibility\n",
      "data 6 is 2 with 42.057136% posibility\n",
      "data 7 is 2 with 62.155563% posibility\n",
      "Epoch : 100/1000 Cost: 0.798992\n",
      "data 0 is 2 with 74.407506% posibility\n",
      "data 1 is 0 with 89.110279% posibility\n",
      "data 2 is 0 with 94.271457% posibility\n",
      "data 3 is 0 with 97.109836% posibility\n",
      "data 4 is 2 with 40.635827% posibility\n",
      "data 5 is 0 with 94.924212% posibility\n",
      "data 6 is 1 with 55.337745% posibility\n",
      "data 7 is 2 with 75.415677% posibility\n",
      "Epoch : 200/1000 Cost: 0.730858\n",
      "data 0 is 2 with 75.814146% posibility\n",
      "data 1 is 0 with 91.136122% posibility\n",
      "data 2 is 0 with 96.228570% posibility\n",
      "data 3 is 0 with 98.262781% posibility\n",
      "data 4 is 2 with 38.207126% posibility\n",
      "data 5 is 0 with 96.314031% posibility\n",
      "data 6 is 1 with 70.083833% posibility\n",
      "data 7 is 2 with 82.602733% posibility\n",
      "Epoch : 300/1000 Cost: 0.692374\n",
      "data 0 is 2 with 77.622187% posibility\n",
      "data 1 is 0 with 92.578709% posibility\n",
      "data 2 is 0 with 97.271526% posibility\n",
      "data 3 is 0 with 98.800486% posibility\n",
      "data 4 is 1 with 43.786418% posibility\n",
      "data 5 is 0 with 96.991056% posibility\n",
      "data 6 is 1 with 78.823942% posibility\n",
      "data 7 is 2 with 86.978120% posibility\n",
      "Epoch : 400/1000 Cost: 0.668259\n",
      "data 0 is 2 with 79.372692% posibility\n",
      "data 1 is 0 with 93.622625% posibility\n",
      "data 2 is 0 with 97.899717% posibility\n",
      "data 3 is 0 with 99.089432% posibility\n",
      "data 4 is 1 with 48.568267% posibility\n",
      "data 5 is 0 with 97.330409% posibility\n",
      "data 6 is 1 with 84.228468% posibility\n",
      "data 7 is 2 with 89.695007% posibility\n",
      "Epoch : 500/1000 Cost: 0.651693\n",
      "data 0 is 2 with 80.966204% posibility\n",
      "data 1 is 0 with 94.404435% posibility\n",
      "data 2 is 0 with 98.318142% posibility\n",
      "data 3 is 0 with 99.265164% posibility\n",
      "data 4 is 1 with 52.717102% posibility\n",
      "data 5 is 0 with 97.507316% posibility\n",
      "data 6 is 1 with 87.766600% posibility\n",
      "data 7 is 2 with 91.491193% posibility\n",
      "Epoch : 600/1000 Cost: 0.639444\n",
      "data 0 is 2 with 82.397324% posibility\n",
      "data 1 is 0 with 95.012695% posibility\n",
      "data 2 is 0 with 98.618060% posibility\n",
      "data 3 is 0 with 99.383646% posibility\n",
      "data 4 is 1 with 56.338996% posibility\n",
      "data 5 is 0 with 97.606760% posibility\n",
      "data 6 is 1 with 90.203285% posibility\n",
      "data 7 is 2 with 92.752731% posibility\n",
      "Epoch : 700/1000 Cost: 0.629922\n",
      "data 0 is 2 with 83.676273% posibility\n",
      "data 1 is 0 with 95.501268% posibility\n",
      "data 2 is 0 with 98.843944% posibility\n",
      "data 3 is 0 with 99.470115% posibility\n",
      "data 4 is 1 with 59.509283% posibility\n",
      "data 5 is 0 with 97.670311% posibility\n",
      "data 6 is 1 with 91.954154% posibility\n",
      "data 7 is 2 with 93.683690% posibility\n",
      "Epoch : 800/1000 Cost: 0.622260\n",
      "data 0 is 2 with 84.816587% posibility\n",
      "data 1 is 0 with 95.903617% posibility\n",
      "data 2 is 0 with 99.019754% posibility\n",
      "data 3 is 0 with 99.536902% posibility\n",
      "data 4 is 1 with 62.293786% posibility\n",
      "data 5 is 0 with 97.718292% posibility\n",
      "data 6 is 1 with 93.256950% posibility\n",
      "data 7 is 2 with 94.398093% posibility\n",
      "Epoch : 900/1000 Cost: 0.615945\n",
      "data 0 is 2 with 85.832852% posibility\n",
      "data 1 is 0 with 96.241397% posibility\n",
      "data 2 is 0 with 99.159688% posibility\n",
      "data 3 is 0 with 99.590564% posibility\n",
      "data 4 is 1 with 64.750236% posibility\n",
      "data 5 is 0 with 97.760469% posibility\n",
      "data 6 is 1 with 94.254613% posibility\n",
      "data 7 is 2 with 94.963622% posibility\n",
      "Epoch :1000/1000 Cost: 0.610641\n"
     ]
    }
   ],
   "source": [
    "import torch.nn.functional as F #fucntional means its same as nn but nn is class and funciontal is function\n",
    "\n",
    "data = 8 #catuion ! you have to match this with the top data\n",
    "\n",
    "W = torch.zeros((feature,nb_class), requires_grad=True)\n",
    "b = torch.zeros(1, requires_grad=True)\n",
    "\n",
    "#set optimizer\n",
    "optimizer = optim.SGD([W,b], lr=0.01)\n",
    "nb_epochs = 1000\n",
    "\n",
    "\n",
    "\n",
    "#graph ready\n",
    "y_hypothesis_list = []\n",
    "y_hypothesis_percent = []\n",
    "\n",
    "\n",
    "#leaning\n",
    "for epoch in range(nb_epochs + 1):\n",
    "  \n",
    "  #Calculate Cost\n",
    "  hypothesis = F.softmax(x_train.matmul(W) + b, dim=1)#soft max is that (in very short) sum of all is 1 //dim = 1 means 2nd dimention \n",
    "  \n",
    "\n",
    "  \n",
    "  #cost calculation 1\n",
    "  #y_one_hot = torch.zeros(nb_data,nb_class) \n",
    "  #y_one_hot.scatter_(1,y_train.unsqueeze(1),1)\n",
    "  \n",
    "  cost = (y_one_hot * -torch.log(F.softmax(hypothesis, dim = 1))).sum(dim=1).mean()\n",
    "  \n",
    "  #second way to calculate cost :\n",
    "  #if you use cross_entropy you dont have to use scatter  // basicly the short cut same thing\n",
    "  \n",
    "  #inhace cost \n",
    "  optimizer.zero_grad()\n",
    "  cost.backward()\n",
    "  optimizer.step()\n",
    "  \n",
    "  \n",
    "  #change so we can print\n",
    "  hypothesis_list = hypothesis.tolist()\n",
    "\n",
    "  \n",
    "  #if epoch % 100 == 0:\n",
    "    \n",
    "  \n",
    "  \n",
    "  if epoch % 100 == 0:#for every 100 times\n",
    "    \n",
    "    y_templist1 = []\n",
    "    y_templist2 = []\n",
    "    \n",
    "    for i in range(0,data):\n",
    "      #status\n",
    "      print(\"data %d is %d with %f%% posibility\"%(i,hypothesis_list[i].index(max(hypothesis_list[i])),max(hypothesis_list[i])*100))\n",
    "      \n",
    "      \n",
    "      #graph\n",
    "      y_templist1.append(hypothesis_list[i].index(max(hypothesis_list[i])))#making temp list\n",
    "      y_templist2.append(max(hypothesis_list[i]))#making temp list\n",
    "      \n",
    "      \n",
    "    y_hypothesis_list.append(y_templist1)#appending the temp list to make a 2 dimensional array\n",
    "    y_hypothesis_percent.append(y_templist2)#appending the temp list to make a 2 dimensional array\n",
    "\n",
    "    print(\"Epoch :%4d/%d Cost: %f\"%(epoch,nb_epochs,cost.item()))"
   ]
  },
  {
   "cell_type": "code",
   "execution_count": 27,
   "metadata": {},
   "outputs": [
    {
     "name": "stdout",
     "output_type": "stream",
     "text": [
      "what we need : [2, 0, 0, 0, 1, 0, 1, 2]\n",
      "green = 0\n",
      "purple : 1\n",
      "red : 2\n"
     ]
    },
    {
     "data": {
      "image/png": "[encoded data removed]",
      "text/plain": [
       "<Figure size 640x480 with 1 Axes>"
      ]
     },
     "metadata": {},
     "output_type": "display_data"
    },
    {
     "name": "stdout",
     "output_type": "stream",
     "text": [
      "explation : the y axis means the percentiage of the data \n"
     ]
    }
   ],
   "source": [
    "#graph\n",
    "\n",
    "import matplotlib.pyplot as plt\n",
    "\n",
    "\n",
    "#explain\n",
    "print(\"what we need : \",end=\"\")\n",
    "print(y_train.tolist())\n",
    "\n",
    "\n",
    "datas = 8 #caution! you have to match this with the top data\n",
    "\n",
    "for data in range(0,datas):\n",
    "  data_yline = []\n",
    "  data_yline_percent = []\n",
    "  for epoch in range(0,11):#how many times they made this list\n",
    "    data_yline.append(y_hypothesis_list[epoch][data])\n",
    "    data_yline_percent.append(y_hypothesis_percent[epoch][data])\n",
    "  if y_train[data].item() == 0:\n",
    "    plt.plot(data_yline,data_yline_percent,color = 'green')\n",
    "  elif y_train[data].item() == 1:\n",
    "    plt.plot(data_yline,data_yline_percent,color = 'purple')\n",
    "  elif y_train[data].item() == 2:\n",
    "    plt.plot(data_yline,data_yline_percent,color = 'red')\n",
    "\n",
    "    \n",
    "\n",
    "\n",
    "\n",
    "  \n",
    "plt.plot(data_yline,data_yline_percent,color = 'red')\n",
    "plt.xlim(-0.05,2.05)\n",
    "print(\"green = 0\\npurple : 1\\nred : 2\")\n",
    "plt.show()\n",
    "print(\"explation : the y axis means the percentiage of the data \")"
   ]
  },
  {
   "attachments": {},
   "cell_type": "markdown",
   "metadata": {},
   "source": [
    "#Data **evaluation**"
   ]
  },
  {
   "cell_type": "code",
   "execution_count": 41,
   "metadata": {},
   "outputs": [
    {
     "name": "stdout",
     "output_type": "stream",
     "text": [
      "What we need : [2, 0, 0, 0, 1, 0, 1, 2]\n",
      "100.0%\n"
     ]
    }
   ],
   "source": [
    "\n",
    "\n",
    "#explain\n",
    "print(\"What we need : \",end=\"\")\n",
    "print(y_train.tolist())\n",
    "\n",
    "\n",
    "prediction = torch.argmax(hypothesis,dim=1)#argmax returns the INDEX #dim = 0 means max in column // dim = 1 means max in row\n",
    "\n",
    "evaluation =  y_train == prediction\n",
    "\n",
    "print(str(evaluation.sum().item()/len(evaluation)*100)+\"%\")"
   ]
  }
 ],
 "metadata": {
  "kernelspec": {
   "display_name": "Pytorch",
   "language": "python",
   "name": "python3"
  },
  "language_info": {
   "codemirror_mode": {
    "name": "ipython",
    "version": 3
   },
   "file_extension": ".py",
   "mimetype": "text/x-python",
   "name": "python",
   "nbconvert_exporter": "python",
   "pygments_lexer": "ipython3",
   "version": "3.10.8 | packaged by conda-forge | (main, Nov 24 2022, 14:07:00) [MSC v.1916 64 bit (AMD64)]"
  },
  "orig_nbformat": 4,
  "vscode": {
   "interpreter": {
    "hash": "3dccc2083b900c7e4253a45875410f77045ddb96f227ca83eb40747880cff069"
   }
  }
 },
 "nbformat": 4,
 "nbformat_minor": 2
}
