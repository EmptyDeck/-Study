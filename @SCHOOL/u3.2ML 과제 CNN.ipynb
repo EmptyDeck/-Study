{
 "cells": [
  {
   "cell_type": "code",
   "execution_count": null,
   "metadata": {},
   "outputs": [],
   "source": [
    "device = torch.device(\"cuda\" if torch.cuda.is_available() else \"cpu\")"
   ]
  },
  {
   "cell_type": "code",
   "execution_count": 27,
   "metadata": {},
   "outputs": [
    {
     "ename": "KeyboardInterrupt",
     "evalue": "",
     "output_type": "error",
     "traceback": [
      "\u001b[0;31m---------------------------------------------------------------------------\u001b[0m",
      "\u001b[0;31mKeyboardInterrupt\u001b[0m                         Traceback (most recent call last)",
      "\u001b[1;32m/Users/owo/HOUSE/@Code/-Study/@SCHOOL/u3.2ML 과제 CNN.ipynb 셀 2\u001b[0m line \u001b[0;36m1\n\u001b[1;32m    <a href='vscode-notebook-cell:/Users/owo/HOUSE/%40Code/-Study/%40SCHOOL/u3.2ML%20%EA%B3%BC%EC%A0%9C%20CNN.ipynb#W0sZmlsZQ%3D%3D?line=99'>100</a>\u001b[0m         \u001b[39mfor\u001b[39;00m opt_class \u001b[39min\u001b[39;00m optimizers:\n\u001b[1;32m    <a href='vscode-notebook-cell:/Users/owo/HOUSE/%40Code/-Study/%40SCHOOL/u3.2ML%20%EA%B3%BC%EC%A0%9C%20CNN.ipynb#W0sZmlsZQ%3D%3D?line=100'>101</a>\u001b[0m             optimizer \u001b[39m=\u001b[39m opt_class(model\u001b[39m.\u001b[39mparameters(), lr\u001b[39m=\u001b[39m\u001b[39m0.001\u001b[39m)\n\u001b[0;32m--> <a href='vscode-notebook-cell:/Users/owo/HOUSE/%40Code/-Study/%40SCHOOL/u3.2ML%20%EA%B3%BC%EC%A0%9C%20CNN.ipynb#W0sZmlsZQ%3D%3D?line=101'>102</a>\u001b[0m             train_model(model, criterion, optimizer)\n\u001b[1;32m    <a href='vscode-notebook-cell:/Users/owo/HOUSE/%40Code/-Study/%40SCHOOL/u3.2ML%20%EA%B3%BC%EC%A0%9C%20CNN.ipynb#W0sZmlsZQ%3D%3D?line=103'>104</a>\u001b[0m \u001b[39m# 모든 실험의 손실 그래프 그리기\u001b[39;00m\n\u001b[1;32m    <a href='vscode-notebook-cell:/Users/owo/HOUSE/%40Code/-Study/%40SCHOOL/u3.2ML%20%EA%B3%BC%EC%A0%9C%20CNN.ipynb#W0sZmlsZQ%3D%3D?line=104'>105</a>\u001b[0m plt\u001b[39m.\u001b[39mfigure(figsize\u001b[39m=\u001b[39m(\u001b[39m12\u001b[39m, \u001b[39m8\u001b[39m))\n",
      "\u001b[1;32m/Users/owo/HOUSE/@Code/-Study/@SCHOOL/u3.2ML 과제 CNN.ipynb 셀 2\u001b[0m line \u001b[0;36m8\n\u001b[1;32m     <a href='vscode-notebook-cell:/Users/owo/HOUSE/%40Code/-Study/%40SCHOOL/u3.2ML%20%EA%B3%BC%EC%A0%9C%20CNN.ipynb#W0sZmlsZQ%3D%3D?line=78'>79</a>\u001b[0m \u001b[39mfor\u001b[39;00m data, target \u001b[39min\u001b[39;00m train_loader:\n\u001b[1;32m     <a href='vscode-notebook-cell:/Users/owo/HOUSE/%40Code/-Study/%40SCHOOL/u3.2ML%20%EA%B3%BC%EC%A0%9C%20CNN.ipynb#W0sZmlsZQ%3D%3D?line=79'>80</a>\u001b[0m     optimizer\u001b[39m.\u001b[39mzero_grad()\n\u001b[0;32m---> <a href='vscode-notebook-cell:/Users/owo/HOUSE/%40Code/-Study/%40SCHOOL/u3.2ML%20%EA%B3%BC%EC%A0%9C%20CNN.ipynb#W0sZmlsZQ%3D%3D?line=80'>81</a>\u001b[0m     output \u001b[39m=\u001b[39m model(data)\n\u001b[1;32m     <a href='vscode-notebook-cell:/Users/owo/HOUSE/%40Code/-Study/%40SCHOOL/u3.2ML%20%EA%B3%BC%EC%A0%9C%20CNN.ipynb#W0sZmlsZQ%3D%3D?line=81'>82</a>\u001b[0m     \u001b[39mif\u001b[39;00m \u001b[39misinstance\u001b[39m(criterion, nn\u001b[39m.\u001b[39mBCEWithLogitsLoss):\n\u001b[1;32m     <a href='vscode-notebook-cell:/Users/owo/HOUSE/%40Code/-Study/%40SCHOOL/u3.2ML%20%EA%B3%BC%EC%A0%9C%20CNN.ipynb#W0sZmlsZQ%3D%3D?line=82'>83</a>\u001b[0m         \u001b[39m# BCEWithLogitsLoss를 위한 타겟 변환\u001b[39;00m\n\u001b[1;32m     <a href='vscode-notebook-cell:/Users/owo/HOUSE/%40Code/-Study/%40SCHOOL/u3.2ML%20%EA%B3%BC%EC%A0%9C%20CNN.ipynb#W0sZmlsZQ%3D%3D?line=83'>84</a>\u001b[0m         target \u001b[39m=\u001b[39m torch\u001b[39m.\u001b[39mnn\u001b[39m.\u001b[39mfunctional\u001b[39m.\u001b[39mone_hot(target, num_classes\u001b[39m=\u001b[39m\u001b[39m10\u001b[39m)\u001b[39m.\u001b[39mfloat()\n",
      "File \u001b[0;32m~/anaconda3/envs/torchenv/lib/python3.11/site-packages/torch/nn/modules/module.py:1501\u001b[0m, in \u001b[0;36mModule._call_impl\u001b[0;34m(self, *args, **kwargs)\u001b[0m\n\u001b[1;32m   1496\u001b[0m \u001b[39m# If we don't have any hooks, we want to skip the rest of the logic in\u001b[39;00m\n\u001b[1;32m   1497\u001b[0m \u001b[39m# this function, and just call forward.\u001b[39;00m\n\u001b[1;32m   1498\u001b[0m \u001b[39mif\u001b[39;00m \u001b[39mnot\u001b[39;00m (\u001b[39mself\u001b[39m\u001b[39m.\u001b[39m_backward_hooks \u001b[39mor\u001b[39;00m \u001b[39mself\u001b[39m\u001b[39m.\u001b[39m_backward_pre_hooks \u001b[39mor\u001b[39;00m \u001b[39mself\u001b[39m\u001b[39m.\u001b[39m_forward_hooks \u001b[39mor\u001b[39;00m \u001b[39mself\u001b[39m\u001b[39m.\u001b[39m_forward_pre_hooks\n\u001b[1;32m   1499\u001b[0m         \u001b[39mor\u001b[39;00m _global_backward_pre_hooks \u001b[39mor\u001b[39;00m _global_backward_hooks\n\u001b[1;32m   1500\u001b[0m         \u001b[39mor\u001b[39;00m _global_forward_hooks \u001b[39mor\u001b[39;00m _global_forward_pre_hooks):\n\u001b[0;32m-> 1501\u001b[0m     \u001b[39mreturn\u001b[39;00m forward_call(\u001b[39m*\u001b[39margs, \u001b[39m*\u001b[39m\u001b[39m*\u001b[39mkwargs)\n\u001b[1;32m   1502\u001b[0m \u001b[39m# Do not call functions when jit is used\u001b[39;00m\n\u001b[1;32m   1503\u001b[0m full_backward_hooks, non_full_backward_hooks \u001b[39m=\u001b[39m [], []\n",
      "\u001b[1;32m/Users/owo/HOUSE/@Code/-Study/@SCHOOL/u3.2ML 과제 CNN.ipynb 셀 2\u001b[0m line \u001b[0;36m6\n\u001b[1;32m     <a href='vscode-notebook-cell:/Users/owo/HOUSE/%40Code/-Study/%40SCHOOL/u3.2ML%20%EA%B3%BC%EC%A0%9C%20CNN.ipynb#W0sZmlsZQ%3D%3D?line=58'>59</a>\u001b[0m x \u001b[39m=\u001b[39m \u001b[39mself\u001b[39m\u001b[39m.\u001b[39mpool(F\u001b[39m.\u001b[39mrelu(\u001b[39mself\u001b[39m\u001b[39m.\u001b[39mconv3(x)))\n\u001b[1;32m     <a href='vscode-notebook-cell:/Users/owo/HOUSE/%40Code/-Study/%40SCHOOL/u3.2ML%20%EA%B3%BC%EC%A0%9C%20CNN.ipynb#W0sZmlsZQ%3D%3D?line=59'>60</a>\u001b[0m x \u001b[39m=\u001b[39m x\u001b[39m.\u001b[39mview(\u001b[39m-\u001b[39m\u001b[39m1\u001b[39m, \u001b[39m3\u001b[39m \u001b[39m*\u001b[39m \u001b[39m3\u001b[39m \u001b[39m*\u001b[39m \u001b[39m128\u001b[39m) \n\u001b[0;32m---> <a href='vscode-notebook-cell:/Users/owo/HOUSE/%40Code/-Study/%40SCHOOL/u3.2ML%20%EA%B3%BC%EC%A0%9C%20CNN.ipynb#W0sZmlsZQ%3D%3D?line=60'>61</a>\u001b[0m x \u001b[39m=\u001b[39m F\u001b[39m.\u001b[39mrelu(\u001b[39mself\u001b[39m\u001b[39m.\u001b[39mfc1(x))\n\u001b[1;32m     <a href='vscode-notebook-cell:/Users/owo/HOUSE/%40Code/-Study/%40SCHOOL/u3.2ML%20%EA%B3%BC%EC%A0%9C%20CNN.ipynb#W0sZmlsZQ%3D%3D?line=61'>62</a>\u001b[0m x \u001b[39m=\u001b[39m \u001b[39mself\u001b[39m\u001b[39m.\u001b[39mfc2(x)\n\u001b[1;32m     <a href='vscode-notebook-cell:/Users/owo/HOUSE/%40Code/-Study/%40SCHOOL/u3.2ML%20%EA%B3%BC%EC%A0%9C%20CNN.ipynb#W0sZmlsZQ%3D%3D?line=62'>63</a>\u001b[0m \u001b[39mreturn\u001b[39;00m x\n",
      "File \u001b[0;32m~/anaconda3/envs/torchenv/lib/python3.11/site-packages/torch/nn/functional.py:1457\u001b[0m, in \u001b[0;36mrelu\u001b[0;34m(input, inplace)\u001b[0m\n\u001b[1;32m   1455\u001b[0m     result \u001b[39m=\u001b[39m torch\u001b[39m.\u001b[39mrelu_(\u001b[39minput\u001b[39m)\n\u001b[1;32m   1456\u001b[0m \u001b[39melse\u001b[39;00m:\n\u001b[0;32m-> 1457\u001b[0m     result \u001b[39m=\u001b[39m torch\u001b[39m.\u001b[39mrelu(\u001b[39minput\u001b[39m)\n\u001b[1;32m   1458\u001b[0m \u001b[39mreturn\u001b[39;00m result\n",
      "\u001b[0;31mKeyboardInterrupt\u001b[0m: "
     ]
    }
   ],
   "source": [
    "import torch\n",
    "import torch.nn as nn\n",
    "import torch.optim as optim\n",
    "from torchvision import datasets, transforms\n",
    "from torch.utils.data import DataLoader\n",
    "import torch.nn.functional as F\n",
    "import matplotlib.pyplot as plt\n",
    "\n",
    "# 데이터셋 로드\n",
    "transform = transforms.Compose([transforms.ToTensor()])\n",
    "# 훈련 데이터셋 로드\n",
    "train_dataset = datasets.FashionMNIST(root='./data', train=True, download=True, transform=transform)\n",
    "train_loader = DataLoader(train_dataset, batch_size=64, shuffle=True)\n",
    "\n",
    "\n",
    "# 모델 정의\n",
    "class Model1(nn.Module): #2 layer no dropout\n",
    "    def __init__(self):\n",
    "        super(Model1, self).__init__()\n",
    "        self.conv1 = nn.Conv2d(1, 10, kernel_size=5)\n",
    "        self.conv2 = nn.Conv2d(10, 20, kernel_size=5)\n",
    "        self.fc = nn.Linear(320, 10)\n",
    "\n",
    "    def forward(self, x):\n",
    "        x = torch.relu(torch.max_pool2d(self.conv1(x), 2))\n",
    "        x = torch.relu(torch.max_pool2d(self.conv2(x), 2))\n",
    "        x = torch.flatten(x, 1)\n",
    "        x = self.fc(x)\n",
    "        return x\n",
    "\n",
    "class Model2(nn.Module): # 2layer dropout\n",
    "    def __init__(self):\n",
    "        super(Model2, self).__init__()\n",
    "        self.conv1 = nn.Conv2d(1, 10, kernel_size=5)\n",
    "        self.conv2 = nn.Conv2d(10, 20, kernel_size=5)\n",
    "        self.dropout = nn.Dropout2d()\n",
    "        self.fc = nn.Linear(320, 10)\n",
    "\n",
    "    def forward(self, x):\n",
    "        x = torch.relu(torch.max_pool2d(self.conv1(x), 2))\n",
    "        x = torch.relu(torch.max_pool2d(self.dropout(self.conv2(x)), 2))\n",
    "        x = torch.flatten(x, 1)\n",
    "        x = self.fc(x)\n",
    "        return x\n",
    "        \n",
    "class Model3(nn.Module): # 3 레이어 \n",
    "    def __init__(self):\n",
    "        super(Model3, self).__init__()\n",
    "        self.conv1 = nn.Conv2d(1, 32, kernel_size=3, padding=1)\n",
    "        self.conv2 = nn.Conv2d(32, 64, kernel_size=3, padding=1)\n",
    "        self.conv3 = nn.Conv2d(64, 128, kernel_size=3, padding=1)\n",
    "        self.pool = nn.MaxPool2d(2, 2)\n",
    "        self.fc1 = nn.Linear(3 * 3 * 128, 128) \n",
    "        self.fc2 = nn.Linear(128, 10)\n",
    "\n",
    "    def forward(self, x):\n",
    "        x = self.pool(F.relu(self.conv1(x)))\n",
    "        x = self.pool(F.relu(self.conv2(x)))\n",
    "        x = self.pool(F.relu(self.conv3(x)))\n",
    "        x = x.view(-1, 3 * 3 * 128) \n",
    "        x = F.relu(self.fc1(x))\n",
    "        x = self.fc2(x)\n",
    "        return x\n",
    "\n",
    "\n",
    "# Criterion과 Optimizer 정의\n",
    "criterions = [nn.CrossEntropyLoss(), nn.BCEWithLogitsLoss()]\n",
    "optimizers = [optim.Adam, optim.SGD, optim.RMSprop]\n",
    "NB_EPOCH = 10\n",
    "# 실험 결과를 저장하기 위한 딕셔너리\n",
    "experiment_losses = {}\n",
    "\n",
    "# 실험 진행 함수\n",
    "def train_model(model, criterion, optimizer, epochs=NB_EPOCH):\n",
    "    model.to(device)  # Move model to the appropriate device\n",
    "    model.train()\n",
    "    loss_values = []  \n",
    "    for epoch in range(epochs):\n",
    "        total_loss = 0\n",
    "        for data, target in train_loader:\n",
    "            data, target = data.to(device), target.to(device)  # Move data to the device\n",
    "            optimizer.zero_grad()\n",
    "            output = model(data)\n",
    "            if isinstance(criterion, nn.BCEWithLogitsLoss):\n",
    "                target = torch.nn.functional.one_hot(target, num_classes=10).float()\n",
    "            loss = criterion(output, target)\n",
    "            loss.backward()\n",
    "            optimizer.step()\n",
    "            total_loss += loss.item()\n",
    "        avg_loss = total_loss / len(train_loader)\n",
    "        loss_values.append(avg_loss)  \n",
    "\n",
    "    # 실험 결과 저장\n",
    "    experiment_label = f'{model.__class__.__name__} with {criterion.__class__.__name__} and {optimizer.__class__.__name__}'\n",
    "    experiment_losses[experiment_label] = loss_values\n",
    "\n",
    "# 모델, Criterion, Optimizer 조합\n",
    "models = [Model1(), Model2(), Model3()]\n",
    "for model in models:\n",
    "    for criterion in criterions:\n",
    "        for opt_class in optimizers:\n",
    "            optimizer = opt_class(model.parameters(), lr=0.001)\n",
    "            train_model(model, criterion, optimizer)\n",
    "\n",
    "# 모든 실험의 손실 그래프 그리기\n",
    "plt.figure(figsize=(12, 8))\n",
    "for experiment_label, loss_values in experiment_losses.items():\n",
    "    plt.plot(range(1, NB_EPOCH+1), loss_values, label=experiment_label)\n",
    "plt.xlabel('Epochs')\n",
    "plt.ylabel('Loss')\n",
    "plt.legend()\n",
    "plt.show()"
   ]
  },
  {
   "cell_type": "markdown",
   "metadata": {},
   "source": [
    "# 최종 선정 모델"
   ]
  },
  {
   "cell_type": "code",
   "execution_count": null,
   "metadata": {},
   "outputs": [],
   "source": []
  },
  {
   "cell_type": "code",
   "execution_count": null,
   "metadata": {},
   "outputs": [
    {
     "name": "stderr",
     "output_type": "stream",
     "text": [
      "100%|██████████| 157/157 [00:02<00:00, 66.14it/s]"
     ]
    },
    {
     "name": "stdout",
     "output_type": "stream",
     "text": [
      "Test Loss: 0.0362, Test Accuracy: 10.00%\n"
     ]
    },
    {
     "name": "stderr",
     "output_type": "stream",
     "text": [
      "\n"
     ]
    }
   ],
   "source": [
    "from tqdm import  tqdm\n",
    "# 테스트 데이터셋 로드\n",
    "test_dataset = datasets.FashionMNIST(root='./data', train=False, download=True, transform=transform)\n",
    "test_loader = DataLoader(test_dataset, batch_size=64, shuffle=False)\n",
    "\n",
    "train_losses = []\n",
    "train_accuracies = []\n",
    "\n",
    "def evaluate_model(model, test_loader, criterion):\n",
    "    model.to(device)\n",
    "    model.eval()\n",
    "    test_loss = 0\n",
    "    correct = 0\n",
    "    with torch.no_grad():\n",
    "        for data, target in tqdm(test_loader):\n",
    "            data, target = data.to(device), target.to(device)  # Move data to the device\n",
    "            output = model(data)\n",
    "            test_loss += criterion(output, target).item()\n",
    "            pred = output.argmax(dim=1, keepdim=True)\n",
    "            correct += pred.eq(target.view_as(pred)).sum().item()\n",
    "\n",
    "    test_loss /= len(test_loader.dataset)\n",
    "    accuracy = 100. * correct / len(test_loader.dataset)\n",
    "    return test_loss, accuracy\n",
    "\n",
    "criterion = nn.CrossEntropyLoss()\n",
    "\n",
    "\n",
    "\n",
    "test_loss, test_accuracy = evaluate_model(model, test_loader, criterion)\n",
    "print(f'Test Loss: {test_loss:.4f}, Test Accuracy: {test_accuracy:.2f}%')"
   ]
  }
 ],
 "metadata": {
  "kernelspec": {
   "display_name": "torchenv",
   "language": "python",
   "name": "python3"
  },
  "language_info": {
   "codemirror_mode": {
    "name": "ipython",
    "version": 3
   },
   "file_extension": ".py",
   "mimetype": "text/x-python",
   "name": "python",
   "nbconvert_exporter": "python",
   "pygments_lexer": "ipython3",
   "version": "3.11.4"
  }
 },
 "nbformat": 4,
 "nbformat_minor": 2
}
