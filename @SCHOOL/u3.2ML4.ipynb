{
 "cells": [
  {
   "cell_type": "code",
   "execution_count": 1,
   "metadata": {},
   "outputs": [
    {
     "name": "stdout",
     "output_type": "stream",
     "text": [
      "[[2. 2.]] [-1.]\n",
      "[-1  1  1  1]\n",
      "100.0\n"
     ]
    }
   ],
   "source": [
    "from sklearn.linear_model import Perceptron\n",
    "\n",
    "X = [[0,0],[0,1],[1,0],[1,1]]\n",
    "y = [-1,1,1,1]\n",
    "\n",
    "p = Perceptron()\n",
    "p.fit(X,y)\n",
    "\n",
    "\n",
    "print(p.coef_,p.intercept_)\n",
    "print(p.predict(X))\n",
    "print(p.score(X,y)*100)"
   ]
  },
  {
   "cell_type": "code",
   "execution_count": 8,
   "metadata": {},
   "outputs": [
    {
     "data": {
      "text/plain": [
       "0.9276773296244785"
      ]
     },
     "execution_count": 8,
     "metadata": {},
     "output_type": "execute_result"
    }
   ],
   "source": [
    "from sklearn import  datasets\n",
    "from sklearn.linear_model import  Perceptron\n",
    "from sklearn.model_selection import  train_test_split\n",
    "import numpy as np\n",
    "\n",
    "digit=datasets.load_digits()\n",
    "\n",
    "x_train,x_test,y_train,y_test = train_test_split(digit.data,digit.target,train_size=0.6)\n",
    "\n",
    "p = Perceptron(max_iter = 100,eta0 = 0.001,verbose = 0)\n",
    "p.fit(x_train,y_train)\n",
    "res=p.predict(x_test)\n",
    "sum(res==y_test)/len(res)"
   ]
  },
  {
   "cell_type": "code",
   "execution_count": 2,
   "metadata": {},
   "outputs": [
    {
     "name": "stderr",
     "output_type": "stream",
     "text": [
      "/Users/owo/anaconda3/envs/torchenv/lib/python3.11/site-packages/sklearn/datasets/_openml.py:968: FutureWarning: The default value of `parser` will change from `'liac-arff'` to `'auto'` in 1.4. You can set `parser='auto'` to silence this warning. Therefore, an `ImportError` will be raised from 1.4 if the dataset is dense and pandas is not installed. Note that the pandas parser may return different data types. See the Notes Section in fetch_openml's API doc for details.\n",
      "  warn(\n"
     ]
    },
    {
     "ename": "KeyboardInterrupt",
     "evalue": "",
     "output_type": "error",
     "traceback": [
      "\u001b[0;31m---------------------------------------------------------------------------\u001b[0m",
      "\u001b[0;31mKeyboardInterrupt\u001b[0m                         Traceback (most recent call last)",
      "\u001b[1;32m/Users/owo/HOUSE/@Code/-Study/@SCHOOL/u3.2ML4.ipynb 셀 3\u001b[0m line \u001b[0;36m7\n\u001b[1;32m      <a href='vscode-notebook-cell:/Users/owo/HOUSE/%40Code/-Study/%40SCHOOL/u3.2ML4.ipynb#W2sZmlsZQ%3D%3D?line=3'>4</a>\u001b[0m \u001b[39mfrom\u001b[39;00m \u001b[39msklearn\u001b[39;00m\u001b[39m.\u001b[39;00m\u001b[39mmetrics\u001b[39;00m \u001b[39mimport\u001b[39;00m accuracy_score, confusion_matrix, classification_report\n\u001b[1;32m      <a href='vscode-notebook-cell:/Users/owo/HOUSE/%40Code/-Study/%40SCHOOL/u3.2ML4.ipynb#W2sZmlsZQ%3D%3D?line=5'>6</a>\u001b[0m \u001b[39m# MNIST 데이터 불러오기\u001b[39;00m\n\u001b[0;32m----> <a href='vscode-notebook-cell:/Users/owo/HOUSE/%40Code/-Study/%40SCHOOL/u3.2ML4.ipynb#W2sZmlsZQ%3D%3D?line=6'>7</a>\u001b[0m mnist \u001b[39m=\u001b[39m fetch_openml(\u001b[39m'\u001b[39m\u001b[39mmnist_784\u001b[39m\u001b[39m'\u001b[39m)\n\u001b[1;32m      <a href='vscode-notebook-cell:/Users/owo/HOUSE/%40Code/-Study/%40SCHOOL/u3.2ML4.ipynb#W2sZmlsZQ%3D%3D?line=7'>8</a>\u001b[0m X, y \u001b[39m=\u001b[39m mnist[\u001b[39m\"\u001b[39m\u001b[39mdata\u001b[39m\u001b[39m\"\u001b[39m], mnist[\u001b[39m\"\u001b[39m\u001b[39mtarget\u001b[39m\u001b[39m\"\u001b[39m]\n\u001b[1;32m     <a href='vscode-notebook-cell:/Users/owo/HOUSE/%40Code/-Study/%40SCHOOL/u3.2ML4.ipynb#W2sZmlsZQ%3D%3D?line=9'>10</a>\u001b[0m \u001b[39m# 데이터를 학습 및 테스트 세트로 분할\u001b[39;00m\n",
      "File \u001b[0;32m~/anaconda3/envs/torchenv/lib/python3.11/site-packages/sklearn/datasets/_openml.py:1080\u001b[0m, in \u001b[0;36mfetch_openml\u001b[0;34m(name, version, data_id, data_home, target_column, cache, return_X_y, as_frame, n_retries, delay, parser)\u001b[0m\n\u001b[1;32m   1078\u001b[0m \u001b[39m# obtain the data\u001b[39;00m\n\u001b[1;32m   1079\u001b[0m url \u001b[39m=\u001b[39m _DATA_FILE\u001b[39m.\u001b[39mformat(data_description[\u001b[39m\"\u001b[39m\u001b[39mfile_id\u001b[39m\u001b[39m\"\u001b[39m])\n\u001b[0;32m-> 1080\u001b[0m bunch \u001b[39m=\u001b[39m _download_data_to_bunch(\n\u001b[1;32m   1081\u001b[0m     url,\n\u001b[1;32m   1082\u001b[0m     return_sparse,\n\u001b[1;32m   1083\u001b[0m     data_home,\n\u001b[1;32m   1084\u001b[0m     as_frame\u001b[39m=\u001b[39m\u001b[39mbool\u001b[39m(as_frame),\n\u001b[1;32m   1085\u001b[0m     openml_columns_info\u001b[39m=\u001b[39mfeatures_list,\n\u001b[1;32m   1086\u001b[0m     shape\u001b[39m=\u001b[39mshape,\n\u001b[1;32m   1087\u001b[0m     target_columns\u001b[39m=\u001b[39mtarget_columns,\n\u001b[1;32m   1088\u001b[0m     data_columns\u001b[39m=\u001b[39mdata_columns,\n\u001b[1;32m   1089\u001b[0m     md5_checksum\u001b[39m=\u001b[39mdata_description[\u001b[39m\"\u001b[39m\u001b[39mmd5_checksum\u001b[39m\u001b[39m\"\u001b[39m],\n\u001b[1;32m   1090\u001b[0m     n_retries\u001b[39m=\u001b[39mn_retries,\n\u001b[1;32m   1091\u001b[0m     delay\u001b[39m=\u001b[39mdelay,\n\u001b[1;32m   1092\u001b[0m     parser\u001b[39m=\u001b[39mparser_,\n\u001b[1;32m   1093\u001b[0m )\n\u001b[1;32m   1095\u001b[0m \u001b[39mif\u001b[39;00m return_X_y:\n\u001b[1;32m   1096\u001b[0m     \u001b[39mreturn\u001b[39;00m bunch\u001b[39m.\u001b[39mdata, bunch\u001b[39m.\u001b[39mtarget\n",
      "File \u001b[0;32m~/anaconda3/envs/torchenv/lib/python3.11/site-packages/sklearn/datasets/_openml.py:644\u001b[0m, in \u001b[0;36m_download_data_to_bunch\u001b[0;34m(url, sparse, data_home, as_frame, openml_columns_info, data_columns, target_columns, shape, md5_checksum, n_retries, delay, parser)\u001b[0m\n\u001b[1;32m    640\u001b[0m     \u001b[39mfrom\u001b[39;00m \u001b[39mpandas\u001b[39;00m\u001b[39m.\u001b[39;00m\u001b[39merrors\u001b[39;00m \u001b[39mimport\u001b[39;00m ParserError\n\u001b[1;32m    642\u001b[0m     no_retry_exception \u001b[39m=\u001b[39m ParserError\n\u001b[0;32m--> 644\u001b[0m X, y, frame, categories \u001b[39m=\u001b[39m _retry_with_clean_cache(\n\u001b[1;32m    645\u001b[0m     url, data_home, no_retry_exception\n\u001b[1;32m    646\u001b[0m )(_load_arff_response)(\n\u001b[1;32m    647\u001b[0m     url,\n\u001b[1;32m    648\u001b[0m     data_home,\n\u001b[1;32m    649\u001b[0m     parser\u001b[39m=\u001b[39mparser,\n\u001b[1;32m    650\u001b[0m     output_type\u001b[39m=\u001b[39moutput_type,\n\u001b[1;32m    651\u001b[0m     openml_columns_info\u001b[39m=\u001b[39mfeatures_dict,\n\u001b[1;32m    652\u001b[0m     feature_names_to_select\u001b[39m=\u001b[39mdata_columns,\n\u001b[1;32m    653\u001b[0m     target_names_to_select\u001b[39m=\u001b[39mtarget_columns,\n\u001b[1;32m    654\u001b[0m     shape\u001b[39m=\u001b[39mshape,\n\u001b[1;32m    655\u001b[0m     md5_checksum\u001b[39m=\u001b[39mmd5_checksum,\n\u001b[1;32m    656\u001b[0m     n_retries\u001b[39m=\u001b[39mn_retries,\n\u001b[1;32m    657\u001b[0m     delay\u001b[39m=\u001b[39mdelay,\n\u001b[1;32m    658\u001b[0m )\n\u001b[1;32m    660\u001b[0m \u001b[39mreturn\u001b[39;00m Bunch(\n\u001b[1;32m    661\u001b[0m     data\u001b[39m=\u001b[39mX,\n\u001b[1;32m    662\u001b[0m     target\u001b[39m=\u001b[39my,\n\u001b[0;32m   (...)\u001b[0m\n\u001b[1;32m    666\u001b[0m     target_names\u001b[39m=\u001b[39mtarget_columns,\n\u001b[1;32m    667\u001b[0m )\n",
      "File \u001b[0;32m~/anaconda3/envs/torchenv/lib/python3.11/site-packages/sklearn/datasets/_openml.py:57\u001b[0m, in \u001b[0;36m_retry_with_clean_cache.<locals>.decorator.<locals>.wrapper\u001b[0;34m(*args, **kw)\u001b[0m\n\u001b[1;32m     55\u001b[0m     \u001b[39mreturn\u001b[39;00m f(\u001b[39m*\u001b[39margs, \u001b[39m*\u001b[39m\u001b[39m*\u001b[39mkw)\n\u001b[1;32m     56\u001b[0m \u001b[39mtry\u001b[39;00m:\n\u001b[0;32m---> 57\u001b[0m     \u001b[39mreturn\u001b[39;00m f(\u001b[39m*\u001b[39margs, \u001b[39m*\u001b[39m\u001b[39m*\u001b[39mkw)\n\u001b[1;32m     58\u001b[0m \u001b[39mexcept\u001b[39;00m URLError:\n\u001b[1;32m     59\u001b[0m     \u001b[39mraise\u001b[39;00m\n",
      "File \u001b[0;32m~/anaconda3/envs/torchenv/lib/python3.11/site-packages/sklearn/datasets/_openml.py:518\u001b[0m, in \u001b[0;36m_load_arff_response\u001b[0;34m(url, data_home, parser, output_type, openml_columns_info, feature_names_to_select, target_names_to_select, shape, md5_checksum, n_retries, delay)\u001b[0m\n\u001b[1;32m    509\u001b[0m arff_params \u001b[39m=\u001b[39m \u001b[39mdict\u001b[39m(\n\u001b[1;32m    510\u001b[0m     parser\u001b[39m=\u001b[39mparser,\n\u001b[1;32m    511\u001b[0m     output_type\u001b[39m=\u001b[39moutput_type,\n\u001b[0;32m   (...)\u001b[0m\n\u001b[1;32m    515\u001b[0m     shape\u001b[39m=\u001b[39mshape,\n\u001b[1;32m    516\u001b[0m )\n\u001b[1;32m    517\u001b[0m \u001b[39mtry\u001b[39;00m:\n\u001b[0;32m--> 518\u001b[0m     X, y, frame, categories \u001b[39m=\u001b[39m _open_url_and_load_gzip_file(\n\u001b[1;32m    519\u001b[0m         url, data_home, n_retries, delay, arff_params\n\u001b[1;32m    520\u001b[0m     )\n\u001b[1;32m    521\u001b[0m \u001b[39mexcept\u001b[39;00m \u001b[39mException\u001b[39;00m \u001b[39mas\u001b[39;00m exc:\n\u001b[1;32m    522\u001b[0m     \u001b[39mif\u001b[39;00m parser \u001b[39m==\u001b[39m \u001b[39m\"\u001b[39m\u001b[39mpandas\u001b[39m\u001b[39m\"\u001b[39m:\n",
      "File \u001b[0;32m~/anaconda3/envs/torchenv/lib/python3.11/site-packages/sklearn/datasets/_openml.py:507\u001b[0m, in \u001b[0;36m_load_arff_response.<locals>._open_url_and_load_gzip_file\u001b[0;34m(url, data_home, n_retries, delay, arff_params)\u001b[0m\n\u001b[1;32m    505\u001b[0m gzip_file \u001b[39m=\u001b[39m _open_openml_url(url, data_home, n_retries\u001b[39m=\u001b[39mn_retries, delay\u001b[39m=\u001b[39mdelay)\n\u001b[1;32m    506\u001b[0m \u001b[39mwith\u001b[39;00m closing(gzip_file):\n\u001b[0;32m--> 507\u001b[0m     \u001b[39mreturn\u001b[39;00m load_arff_from_gzip_file(gzip_file, \u001b[39m*\u001b[39m\u001b[39m*\u001b[39marff_params)\n",
      "File \u001b[0;32m~/anaconda3/envs/torchenv/lib/python3.11/site-packages/sklearn/datasets/_arff_parser.py:510\u001b[0m, in \u001b[0;36mload_arff_from_gzip_file\u001b[0;34m(gzip_file, parser, output_type, openml_columns_info, feature_names_to_select, target_names_to_select, shape, read_csv_kwargs)\u001b[0m\n\u001b[1;32m    460\u001b[0m \u001b[39m\u001b[39m\u001b[39m\"\"\"Load a compressed ARFF file using a given parser.\u001b[39;00m\n\u001b[1;32m    461\u001b[0m \n\u001b[1;32m    462\u001b[0m \u001b[39mParameters\u001b[39;00m\n\u001b[0;32m   (...)\u001b[0m\n\u001b[1;32m    507\u001b[0m \u001b[39m    `output_array_type == \"pandas\"`.\u001b[39;00m\n\u001b[1;32m    508\u001b[0m \u001b[39m\"\"\"\u001b[39;00m\n\u001b[1;32m    509\u001b[0m \u001b[39mif\u001b[39;00m parser \u001b[39m==\u001b[39m \u001b[39m\"\u001b[39m\u001b[39mliac-arff\u001b[39m\u001b[39m\"\u001b[39m:\n\u001b[0;32m--> 510\u001b[0m     \u001b[39mreturn\u001b[39;00m _liac_arff_parser(\n\u001b[1;32m    511\u001b[0m         gzip_file,\n\u001b[1;32m    512\u001b[0m         output_type,\n\u001b[1;32m    513\u001b[0m         openml_columns_info,\n\u001b[1;32m    514\u001b[0m         feature_names_to_select,\n\u001b[1;32m    515\u001b[0m         target_names_to_select,\n\u001b[1;32m    516\u001b[0m         shape,\n\u001b[1;32m    517\u001b[0m     )\n\u001b[1;32m    518\u001b[0m \u001b[39melif\u001b[39;00m parser \u001b[39m==\u001b[39m \u001b[39m\"\u001b[39m\u001b[39mpandas\u001b[39m\u001b[39m\"\u001b[39m:\n\u001b[1;32m    519\u001b[0m     \u001b[39mreturn\u001b[39;00m _pandas_arff_parser(\n\u001b[1;32m    520\u001b[0m         gzip_file,\n\u001b[1;32m    521\u001b[0m         output_type,\n\u001b[0;32m   (...)\u001b[0m\n\u001b[1;32m    525\u001b[0m         read_csv_kwargs,\n\u001b[1;32m    526\u001b[0m     )\n",
      "File \u001b[0;32m~/anaconda3/envs/torchenv/lib/python3.11/site-packages/sklearn/datasets/_arff_parser.py:199\u001b[0m, in \u001b[0;36m_liac_arff_parser\u001b[0;34m(gzip_file, output_arrays_type, openml_columns_info, feature_names_to_select, target_names_to_select, shape)\u001b[0m\n\u001b[1;32m    197\u001b[0m dfs \u001b[39m=\u001b[39m [first_df[columns_to_keep]]\n\u001b[1;32m    198\u001b[0m \u001b[39mfor\u001b[39;00m data \u001b[39min\u001b[39;00m _chunk_generator(arff_container[\u001b[39m\"\u001b[39m\u001b[39mdata\u001b[39m\u001b[39m\"\u001b[39m], chunksize):\n\u001b[0;32m--> 199\u001b[0m     dfs\u001b[39m.\u001b[39mappend(pd\u001b[39m.\u001b[39mDataFrame(data, columns\u001b[39m=\u001b[39mcolumns_names)[columns_to_keep])\n\u001b[1;32m    200\u001b[0m frame \u001b[39m=\u001b[39m pd\u001b[39m.\u001b[39mconcat(dfs, ignore_index\u001b[39m=\u001b[39m\u001b[39mTrue\u001b[39;00m)\n\u001b[1;32m    201\u001b[0m \u001b[39mdel\u001b[39;00m dfs, first_df\n",
      "File \u001b[0;32m~/anaconda3/envs/torchenv/lib/python3.11/site-packages/pandas/core/frame.py:746\u001b[0m, in \u001b[0;36mDataFrame.__init__\u001b[0;34m(self, data, index, columns, dtype, copy)\u001b[0m\n\u001b[1;32m    744\u001b[0m     \u001b[39mif\u001b[39;00m columns \u001b[39mis\u001b[39;00m \u001b[39mnot\u001b[39;00m \u001b[39mNone\u001b[39;00m:\n\u001b[1;32m    745\u001b[0m         columns \u001b[39m=\u001b[39m ensure_index(columns)\n\u001b[0;32m--> 746\u001b[0m     arrays, columns, index \u001b[39m=\u001b[39m nested_data_to_arrays(\n\u001b[1;32m    747\u001b[0m         \u001b[39m# error: Argument 3 to \"nested_data_to_arrays\" has incompatible\u001b[39;00m\n\u001b[1;32m    748\u001b[0m         \u001b[39m# type \"Optional[Collection[Any]]\"; expected \"Optional[Index]\"\u001b[39;00m\n\u001b[1;32m    749\u001b[0m         data,\n\u001b[1;32m    750\u001b[0m         columns,\n\u001b[1;32m    751\u001b[0m         index,  \u001b[39m# type: ignore[arg-type]\u001b[39;00m\n\u001b[1;32m    752\u001b[0m         dtype,\n\u001b[1;32m    753\u001b[0m     )\n\u001b[1;32m    754\u001b[0m     mgr \u001b[39m=\u001b[39m arrays_to_mgr(\n\u001b[1;32m    755\u001b[0m         arrays,\n\u001b[1;32m    756\u001b[0m         columns,\n\u001b[0;32m   (...)\u001b[0m\n\u001b[1;32m    759\u001b[0m         typ\u001b[39m=\u001b[39mmanager,\n\u001b[1;32m    760\u001b[0m     )\n\u001b[1;32m    761\u001b[0m \u001b[39melse\u001b[39;00m:\n",
      "File \u001b[0;32m~/anaconda3/envs/torchenv/lib/python3.11/site-packages/pandas/core/internals/construction.py:510\u001b[0m, in \u001b[0;36mnested_data_to_arrays\u001b[0;34m(data, columns, index, dtype)\u001b[0m\n\u001b[1;32m    507\u001b[0m \u001b[39mif\u001b[39;00m is_named_tuple(data[\u001b[39m0\u001b[39m]) \u001b[39mand\u001b[39;00m columns \u001b[39mis\u001b[39;00m \u001b[39mNone\u001b[39;00m:\n\u001b[1;32m    508\u001b[0m     columns \u001b[39m=\u001b[39m ensure_index(data[\u001b[39m0\u001b[39m]\u001b[39m.\u001b[39m_fields)\n\u001b[0;32m--> 510\u001b[0m arrays, columns \u001b[39m=\u001b[39m to_arrays(data, columns, dtype\u001b[39m=\u001b[39mdtype)\n\u001b[1;32m    511\u001b[0m columns \u001b[39m=\u001b[39m ensure_index(columns)\n\u001b[1;32m    513\u001b[0m \u001b[39mif\u001b[39;00m index \u001b[39mis\u001b[39;00m \u001b[39mNone\u001b[39;00m:\n",
      "File \u001b[0;32m~/anaconda3/envs/torchenv/lib/python3.11/site-packages/pandas/core/internals/construction.py:875\u001b[0m, in \u001b[0;36mto_arrays\u001b[0;34m(data, columns, dtype)\u001b[0m\n\u001b[1;32m    872\u001b[0m     data \u001b[39m=\u001b[39m [\u001b[39mtuple\u001b[39m(x) \u001b[39mfor\u001b[39;00m x \u001b[39min\u001b[39;00m data]\n\u001b[1;32m    873\u001b[0m     arr \u001b[39m=\u001b[39m _list_to_arrays(data)\n\u001b[0;32m--> 875\u001b[0m content, columns \u001b[39m=\u001b[39m _finalize_columns_and_data(arr, columns, dtype)\n\u001b[1;32m    876\u001b[0m \u001b[39mreturn\u001b[39;00m content, columns\n",
      "File \u001b[0;32m~/anaconda3/envs/torchenv/lib/python3.11/site-packages/pandas/core/internals/construction.py:975\u001b[0m, in \u001b[0;36m_finalize_columns_and_data\u001b[0;34m(content, columns, dtype)\u001b[0m\n\u001b[1;32m    972\u001b[0m     \u001b[39mraise\u001b[39;00m \u001b[39mValueError\u001b[39;00m(err) \u001b[39mfrom\u001b[39;00m \u001b[39merr\u001b[39;00m\n\u001b[1;32m    974\u001b[0m \u001b[39mif\u001b[39;00m \u001b[39mlen\u001b[39m(contents) \u001b[39mand\u001b[39;00m contents[\u001b[39m0\u001b[39m]\u001b[39m.\u001b[39mdtype \u001b[39m==\u001b[39m np\u001b[39m.\u001b[39mobject_:\n\u001b[0;32m--> 975\u001b[0m     contents \u001b[39m=\u001b[39m _convert_object_array(contents, dtype\u001b[39m=\u001b[39mdtype)\n\u001b[1;32m    977\u001b[0m \u001b[39mreturn\u001b[39;00m contents, columns\n",
      "File \u001b[0;32m~/anaconda3/envs/torchenv/lib/python3.11/site-packages/pandas/core/internals/construction.py:1060\u001b[0m, in \u001b[0;36m_convert_object_array\u001b[0;34m(content, dtype)\u001b[0m\n\u001b[1;32m   1057\u001b[0m         arr \u001b[39m=\u001b[39m maybe_cast_to_datetime(arr, dtype)\n\u001b[1;32m   1058\u001b[0m     \u001b[39mreturn\u001b[39;00m arr\n\u001b[0;32m-> 1060\u001b[0m arrays \u001b[39m=\u001b[39m [convert(arr) \u001b[39mfor\u001b[39;00m arr \u001b[39min\u001b[39;00m content]\n\u001b[1;32m   1062\u001b[0m \u001b[39mreturn\u001b[39;00m arrays\n",
      "File \u001b[0;32m~/anaconda3/envs/torchenv/lib/python3.11/site-packages/pandas/core/internals/construction.py:1060\u001b[0m, in \u001b[0;36m<listcomp>\u001b[0;34m(.0)\u001b[0m\n\u001b[1;32m   1057\u001b[0m         arr \u001b[39m=\u001b[39m maybe_cast_to_datetime(arr, dtype)\n\u001b[1;32m   1058\u001b[0m     \u001b[39mreturn\u001b[39;00m arr\n\u001b[0;32m-> 1060\u001b[0m arrays \u001b[39m=\u001b[39m [convert(arr) \u001b[39mfor\u001b[39;00m arr \u001b[39min\u001b[39;00m content]\n\u001b[1;32m   1062\u001b[0m \u001b[39mreturn\u001b[39;00m arrays\n",
      "File \u001b[0;32m~/anaconda3/envs/torchenv/lib/python3.11/site-packages/pandas/core/internals/construction.py:1056\u001b[0m, in \u001b[0;36m_convert_object_array.<locals>.convert\u001b[0;34m(arr)\u001b[0m\n\u001b[1;32m   1054\u001b[0m \u001b[39mdef\u001b[39;00m \u001b[39mconvert\u001b[39m(arr):\n\u001b[1;32m   1055\u001b[0m     \u001b[39mif\u001b[39;00m dtype \u001b[39m!=\u001b[39m np\u001b[39m.\u001b[39mdtype(\u001b[39m\"\u001b[39m\u001b[39mO\u001b[39m\u001b[39m\"\u001b[39m):\n\u001b[0;32m-> 1056\u001b[0m         arr \u001b[39m=\u001b[39m lib\u001b[39m.\u001b[39mmaybe_convert_objects(arr)\n\u001b[1;32m   1057\u001b[0m         arr \u001b[39m=\u001b[39m maybe_cast_to_datetime(arr, dtype)\n\u001b[1;32m   1058\u001b[0m     \u001b[39mreturn\u001b[39;00m arr\n",
      "\u001b[0;31mKeyboardInterrupt\u001b[0m: "
     ]
    }
   ],
   "source": [
    "from sklearn.datasets import fetch_openml\n",
    "from sklearn.neural_network import MLPClassifier\n",
    "from sklearn.model_selection import train_test_split\n",
    "from sklearn.metrics import accuracy_score, confusion_matrix, classification_report\n",
    "\n",
    "# MNIST 데이터 불러오기\n",
    "mnist = fetch_openml('mnist_784')\n",
    "X, y = mnist[\"data\"], mnist[\"target\"]\n",
    "\n",
    "# 데이터를 학습 및 테스트 세트로 분할\n",
    "X_train, X_test, y_train, y_test = train_test_split(X, y)\n",
    "\n",
    "# MLPClassifier 모델 초기화 및 학습\n",
    "mlp = MLPClassifier(hidden_layer_sizes=(5,), max_iter=10, alpha=1e-4,\n",
    "                    solver='adam', verbose=10, random_state=1)\n",
    "mlp.fit(X_train, y_train)\n",
    "\n",
    "# 테스트 데이터로 예측\n",
    "y_pred = mlp.predict(X_test)\n",
    "\n",
    "# 성능 평가\n",
    "accuracy = accuracy_score(y_test, y_pred)\n",
    "conf_matrix = confusion_matrix(y_test, y_pred)\n",
    "report = classification_report(y_test, y_pred)\n",
    "\n",
    "print(f\"Accuracy: {accuracy}\")\n",
    "print(f\"Confusion Matrix:\\n{conf_matrix}\")\n",
    "print(f\"Classification Report:\\n{report}\")\n"
   ]
  },
  {
   "cell_type": "code",
   "execution_count": null,
   "metadata": {},
   "outputs": [],
   "source": []
  },
  {
   "cell_type": "code",
   "execution_count": null,
   "metadata": {},
   "outputs": [],
   "source": [
    "# 예측이 틀린 이미지 출력\n",
    "incorrect_indices = np.where(y_pred != y_test)[0]\n",
    "\n",
    "for idx in incorrect_indices:\n",
    "    plt.figure()\n",
    "    plt.imshow(X_test[idx].reshape(28, 28), cmap='gray')\n",
    "    plt.title(f\"True: {y_test[idx]}, Predicted: {y_pred[idx]}\")\n",
    "    plt.show()"
   ]
  },
  {
   "cell_type": "code",
   "execution_count": 5,
   "metadata": {},
   "outputs": [],
   "source": [
    "def GPU():\n",
    "    if torch.cuda.is_available() == True:\n",
    "        device = 'cuda'\n",
    "        templist = [1, 2, 3]\n",
    "        templist = torch.FloatTensor(templist).to(device)\n",
    "        print(\"Cuda torch working : \", end=\"\")\n",
    "        print(templist.is_cuda)\n",
    "        print(\"current device no. : \", end=\"\")\n",
    "        print(torch.cuda.current_device())\n",
    "        print(\"GPU device count : \", end=\"\")\n",
    "        print(torch.cuda.device_count())\n",
    "        print(\"GPU name : \", end=\"\")\n",
    "        print(torch.cuda.get_device_name(0))\n",
    "        print(\"device : \", device)\n",
    "        # Execute the nvidia-smi command using subprocess\n",
    "        try:\n",
    "            output = subprocess.check_output(['nvidia-smi']).decode('utf-8')\n",
    "            print(\"nvidia-smi output:\")\n",
    "            print(output)\n",
    "        except (subprocess.CalledProcessError, FileNotFoundError) as e:\n",
    "            print(\"Error executing nvidia-smi command:\", str(e))\n",
    "    elif torch.backends.mps.is_available() == True:\n",
    "        print(\"Apple device detected\\nActivating Apple Silicon GPU\")\n",
    "        device = torch.device(\"mps\")\n",
    "    else:\n",
    "        print(\"cant use gpu , activating cpu\")\n",
    "        device = 'cpu'\n",
    "\n",
    "    return device"
   ]
  },
  {
   "cell_type": "code",
   "execution_count": 1,
   "metadata": {},
   "outputs": [
    {
     "name": "stdout",
     "output_type": "stream",
     "text": [
      "Apple device detected\n",
      "Activating Apple Silicon GPU\n",
      "current device :  mps\n",
      "mps\n"
     ]
    }
   ],
   "source": [
    "import torch\n",
    "import torchvision\n",
    "import torchvision.transforms as transforms\n",
    "from torch import nn, optim\n",
    "if torch.backends.mps.is_available() == True:\n",
    "    print(\"Apple device detected\\nActivating Apple Silicon GPU\")\n",
    "    device = torch.device(\"mps\")\n",
    "else:\n",
    "    device = 'cpu'\n",
    "print(\"current device : \",device)\n",
    "print(device)\n",
    "\n",
    "# MNIST 데이터 불러오기\n",
    "transform = transforms.Compose([transforms.ToTensor(), transforms.Normalize((0.5,), (0.5,))])\n",
    "trainset = torchvision.datasets.MNIST(root='./data', train=True, download=True, transform=transform)\n",
    "testset = torchvision.datasets.MNIST(root='./data', train=False, download=True, transform=transform)\n",
    "trainloader = torch.utils.data.DataLoader(trainset, batch_size=64, shuffle=True)\n",
    "testloader = torch.utils.data.DataLoader(testset, batch_size=64, shuffle=False)\n"
   ]
  },
  {
   "cell_type": "code",
   "execution_count": 2,
   "metadata": {},
   "outputs": [],
   "source": [
    "import torch\n",
    "import torch.nn as nn\n",
    "import torch.nn.functional as F\n",
    "\n",
    "# Original MLP Model\n",
    "class MLP(nn.Module):\n",
    "    def __init__(self):\n",
    "        super(MLP, self).__init__()\n",
    "        self.fc1 = nn.Linear(28*28, 512)\n",
    "        self.fc2 = nn.Linear(512, 10)\n",
    "\n",
    "    def forward(self, x):\n",
    "        x = x.view(-1, 28*28)\n",
    "        x = F.relu(self.fc1(x))\n",
    "        x = self.fc2(x)\n",
    "        return x\n",
    "\n",
    "# Model with One Hidden Layer (3200 neurons)\n",
    "class MLP1Layer(nn.Module):\n",
    "    def __init__(self):\n",
    "        super(MLP1Layer, self).__init__()\n",
    "        self.fc1 = nn.Linear(28*28, 3200)\n",
    "        self.fc2 = nn.Linear(3200, 10)\n",
    "\n",
    "    def forward(self, x):\n",
    "        x = x.view(-1, 28*28)\n",
    "        x = F.relu(self.fc1(x))\n",
    "        x = self.fc2(x)\n",
    "        return x\n",
    "\n",
    "# Model with Ten Hidden Layers\n",
    "class MLP10Layers(nn.Module):\n",
    "    def __init__(self):\n",
    "        super(MLP10Layers, self).__init__()\n",
    "        self.fc1 = nn.Linear(28*28, 512)\n",
    "        # Define additional hidden layers\n",
    "        self.hidden_layers = nn.ModuleList([nn.Linear(512, 512) for _ in range(9)])\n",
    "        self.fc_last = nn.Linear(512, 10)\n",
    "\n",
    "    def forward(self, x):\n",
    "        x = x.view(-1, 28*28)\n",
    "        x = F.relu(self.fc1(x))\n",
    "        for layer in self.hidden_layers:\n",
    "            x = F.relu(layer(x))\n",
    "        x = self.fc_last(x)\n",
    "        return x\n"
   ]
  },
  {
   "cell_type": "code",
   "execution_count": 11,
   "metadata": {},
   "outputs": [
    {
     "name": "stdout",
     "output_type": "stream",
     "text": [
      "model : MLP1Layer(\n",
      "  (fc1): Linear(in_features=784, out_features=3200, bias=True)\n",
      "  (fc2): Linear(in_features=3200, out_features=10, bias=True)\n",
      ") Epoch 10, Loss: 0.04593837633728981\n"
     ]
    }
   ],
   "source": [
    "models = [MLP().to(device),MLP1Layer().to(device),MLP10Layers().to(device)] # all\n",
    "models = [MLP1Layer().to(device)] # one\n",
    "\n",
    "for m in models:\n",
    "    model = m\n",
    "    criterion = nn.CrossEntropyLoss()\n",
    "    optimizer = optim.SGD(model.parameters(), lr=0.01)\n",
    "    for epoch in range(10):  # 에포크 설정\n",
    "        for i, (inputs, labels) in enumerate(trainloader):\n",
    "            inputs, labels = inputs.to(device), labels.to(device)\n",
    "            \n",
    "            # 순전파\n",
    "            outputs = model(inputs)\n",
    "            loss = criterion(outputs, labels)\n",
    "            \n",
    "            # 역전파 및 최적화\n",
    "            optimizer.zero_grad()\n",
    "            loss.backward()\n",
    "            optimizer.step()\n",
    "\n",
    "    print(f\"model : {m} Epoch {epoch+1}, Loss: {loss.item()}\")"
   ]
  },
  {
   "cell_type": "code",
   "execution_count": 13,
   "metadata": {},
   "outputs": [
    {
     "name": "stdout",
     "output_type": "stream",
     "text": [
      "Accuracy: 95.35%\n",
      "Overall F1 Score: 0.9530125592953158\n"
     ]
    },
    {
     "data": {
      "image/png": "[encoded data removed]",
      "text/plain": [
       "<Figure size 1000x600 with 15 Axes>"
      ]
     },
     "metadata": {},
     "output_type": "display_data"
    }
   ],
   "source": [
    "import matplotlib.pyplot as plt\n",
    "import numpy as np\n",
    "import torch\n",
    "\n",
    "\n",
    "\n",
    "true_positives = np.zeros(10)\n",
    "false_positives = np.zeros(10)\n",
    "false_negatives = np.zeros(10)\n",
    "\n",
    "misclassified_images = []\n",
    "misclassified_labels = []\n",
    "misclassified_preds = []\n",
    "\n",
    "model.eval()  \n",
    "total_samples = 0\n",
    "correct_predictions = 0\n",
    "with torch.no_grad():\n",
    "    for images, labels in testloader:\n",
    "        images, labels = images.to(device), labels.to(device)\n",
    "        outputs = model(images)\n",
    "        _, predicted = torch.max(outputs, 1)\n",
    "        \n",
    "        misclassified = predicted != labels\n",
    "        for image, label, pred in zip(images[misclassified], labels[misclassified], predicted[misclassified]):\n",
    "            if len(misclassified_images) < 15:\n",
    "                misclassified_images.append(image.cpu())\n",
    "                misclassified_labels.append(label.cpu())\n",
    "                misclassified_preds.append(pred.cpu())\n",
    "        \n",
    "        total_samples += labels.size(0)\n",
    "        correct_predictions += (predicted == labels).sum().item()\n",
    "\n",
    "        for i in range(10): \n",
    "            true_positives[i] += ((predicted == labels) & (labels == i)).sum().item()\n",
    "            false_positives[i] += ((predicted != labels) & (predicted == i)).sum().item()\n",
    "            false_negatives[i] += ((predicted != labels) & (labels == i)).sum().item()\n",
    "\n",
    "precision = np.divide(true_positives, true_positives + false_positives, out=np.zeros_like(true_positives), where=true_positives + false_positives != 0)\n",
    "recall = np.divide(true_positives, true_positives + false_negatives, out=np.zeros_like(true_positives), where=true_positives + false_negatives != 0)\n",
    "f1_scores = 2 * (precision * recall) / (precision + recall)\n",
    "\n",
    "f1_scores = np.nan_to_num(f1_scores)\n",
    "\n",
    "overall_f1 = np.mean(f1_scores)\n",
    "\n",
    "accuracy = 100 * correct_predictions / total_samples\n",
    "print(f\"Accuracy: {accuracy:.2f}%\")\n",
    "print(f\"Overall F1 Score: {overall_f1}\")\n",
    "\n",
    "# 이미지 출력\n",
    "plt.figure(figsize=(10, 6))\n",
    "for i in range(15):\n",
    "    plt.subplot(3, 5, i+1)\n",
    "    plt.imshow(misclassified_images[i].reshape(28, 28), cmap='gray')\n",
    "    plt.title(f'True: {misclassified_labels[i].item()}\\nPred: {misclassified_preds[i].item()}')\n",
    "    plt.axis('off')\n",
    "plt.tight_layout()\n",
    "plt.show()"
   ]
  }
 ],
 "metadata": {
  "kernelspec": {
   "display_name": "torchenv",
   "language": "python",
   "name": "python3"
  },
  "language_info": {
   "codemirror_mode": {
    "name": "ipython",
    "version": 3
   },
   "file_extension": ".py",
   "mimetype": "text/x-python",
   "name": "python",
   "nbconvert_exporter": "python",
   "pygments_lexer": "ipython3",
   "version": "3.11.4"
  }
 },
 "nbformat": 4,
 "nbformat_minor": 2
}
