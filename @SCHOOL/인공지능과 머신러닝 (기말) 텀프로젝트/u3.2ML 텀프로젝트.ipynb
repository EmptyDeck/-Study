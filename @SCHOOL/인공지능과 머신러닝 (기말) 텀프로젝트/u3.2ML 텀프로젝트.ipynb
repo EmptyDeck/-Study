{
 "cells": [
  {
   "cell_type": "code",
   "execution_count": 1,
   "id": "c2caab79",
   "metadata": {
    "execution": {
     "iopub.execute_input": "2023-12-07T14:08:01.850738Z",
     "iopub.status.busy": "2023-12-07T14:08:01.850358Z",
     "iopub.status.idle": "2023-12-07T14:08:02.545194Z",
     "shell.execute_reply": "2023-12-07T14:08:02.543778Z"
    },
    "papermill": {
     "duration": 0.704441,
     "end_time": "2023-12-07T14:08:02.547629",
     "exception": false,
     "start_time": "2023-12-07T14:08:01.843188",
     "status": "completed"
    },
    "tags": []
   },
   "outputs": [
    {
     "name": "stdout",
     "output_type": "stream",
     "text": [
      "/kaggle/input/handwritten-az/handwritten_data_785.csv\n"
     ]
    }
   ],
   "source": [
    "# This Python 3 environment comes with many helpful analytics libraries installed\n",
    "# It is defined by the kaggle/python Docker image: https://github.com/kaggle/docker-python\n",
    "# For example, here's several helpful packages to load\n",
    "\n",
    "import numpy as np # linear algebra\n",
    "import pandas as pd # data processing, CSV file I/O (e.g. pd.read_csv)\n",
    "\n",
    "# Input data files are available in the read-only \"../input/\" directory\n",
    "# For example, running this (by clicking run or pressing Shift+Enter) will list all files under the input directory\n",
    "\n",
    "import os\n",
    "for dirname, _, filenames in os.walk('/kaggle/input'):\n",
    "    for filename in filenames:\n",
    "        print(os.path.join(dirname, filename))\n",
    "\n",
    "# You can write up to 20GB to the current directory (/kaggle/working/) that gets preserved as output when you create a version using \"Save & Run All\" \n",
    "# You can also write temporary files to /kaggle/temp/, but they won't be saved outside of the current session"
   ]
  },
  {
   "cell_type": "markdown",
   "id": "60b20cb1",
   "metadata": {
    "papermill": {
     "duration": 0.006204,
     "end_time": "2023-12-07T14:08:02.560547",
     "exception": false,
     "start_time": "2023-12-07T14:08:02.554343",
     "status": "completed"
    },
    "tags": []
   },
   "source": [
    "# GPU"
   ]
  },
  {
   "cell_type": "code",
   "execution_count": 2,
   "id": "a8f3146f",
   "metadata": {
    "execution": {
     "iopub.execute_input": "2023-12-07T14:08:02.575029Z",
     "iopub.status.busy": "2023-12-07T14:08:02.574231Z",
     "iopub.status.idle": "2023-12-07T14:08:05.667218Z",
     "shell.execute_reply": "2023-12-07T14:08:05.666393Z"
    },
    "papermill": {
     "duration": 3.102677,
     "end_time": "2023-12-07T14:08:05.669474",
     "exception": false,
     "start_time": "2023-12-07T14:08:02.566797",
     "status": "completed"
    },
    "tags": []
   },
   "outputs": [],
   "source": [
    "import torch\n",
    "device = torch.device(\"cuda\" if torch.cuda.is_available() else \"cpu\")\n",
    "device = 'cpu'"
   ]
  },
  {
   "cell_type": "code",
   "execution_count": 3,
   "id": "c6c1dc42",
   "metadata": {
    "execution": {
     "iopub.execute_input": "2023-12-07T14:08:05.682309Z",
     "iopub.status.busy": "2023-12-07T14:08:05.681899Z",
     "iopub.status.idle": "2023-12-07T14:08:06.800043Z",
     "shell.execute_reply": "2023-12-07T14:08:06.799255Z"
    },
    "papermill": {
     "duration": 1.127049,
     "end_time": "2023-12-07T14:08:06.802576",
     "exception": false,
     "start_time": "2023-12-07T14:08:05.675527",
     "status": "completed"
    },
    "tags": []
   },
   "outputs": [
    {
     "name": "stderr",
     "output_type": "stream",
     "text": [
      "/opt/conda/lib/python3.10/site-packages/scipy/__init__.py:146: UserWarning: A NumPy version >=1.16.5 and <1.23.0 is required for this version of SciPy (detected version 1.24.3\n",
      "  warnings.warn(f\"A NumPy version >={np_minversion} and <{np_maxversion}\"\n"
     ]
    }
   ],
   "source": [
    "import pandas as pd\n",
    "import numpy as np\n",
    "from torch.utils.data import Dataset, DataLoader\n",
    "from torchvision import transforms\n",
    "from sklearn.model_selection import train_test_split"
   ]
  },
  {
   "cell_type": "code",
   "execution_count": 4,
   "id": "9cecbbc5",
   "metadata": {
    "execution": {
     "iopub.execute_input": "2023-12-07T14:08:06.815781Z",
     "iopub.status.busy": "2023-12-07T14:08:06.815475Z",
     "iopub.status.idle": "2023-12-07T14:08:38.286142Z",
     "shell.execute_reply": "2023-12-07T14:08:38.285205Z"
    },
    "papermill": {
     "duration": 31.484068,
     "end_time": "2023-12-07T14:08:38.293089",
     "exception": false,
     "start_time": "2023-12-07T14:08:06.809021",
     "status": "completed"
    },
    "tags": []
   },
   "outputs": [
    {
     "data": {
      "text/html": [
       "<div>\n",
       "<style scoped>\n",
       "    .dataframe tbody tr th:only-of-type {\n",
       "        vertical-align: middle;\n",
       "    }\n",
       "\n",
       "    .dataframe tbody tr th {\n",
       "        vertical-align: top;\n",
       "    }\n",
       "\n",
       "    .dataframe thead th {\n",
       "        text-align: right;\n",
       "    }\n",
       "</style>\n",
       "<table border=\"1\" class=\"dataframe\">\n",
       "  <thead>\n",
       "    <tr style=\"text-align: right;\">\n",
       "      <th></th>\n",
       "      <th>0</th>\n",
       "      <th>0.1</th>\n",
       "      <th>0.2</th>\n",
       "      <th>0.3</th>\n",
       "      <th>0.4</th>\n",
       "      <th>0.5</th>\n",
       "      <th>0.6</th>\n",
       "      <th>0.7</th>\n",
       "      <th>0.8</th>\n",
       "      <th>0.9</th>\n",
       "      <th>...</th>\n",
       "      <th>0.562</th>\n",
       "      <th>0.563</th>\n",
       "      <th>0.564</th>\n",
       "      <th>0.565</th>\n",
       "      <th>0.566</th>\n",
       "      <th>0.567</th>\n",
       "      <th>0.568</th>\n",
       "      <th>0.569</th>\n",
       "      <th>0.570</th>\n",
       "      <th>0.571</th>\n",
       "    </tr>\n",
       "  </thead>\n",
       "  <tbody>\n",
       "    <tr>\n",
       "      <th>0</th>\n",
       "      <td>0</td>\n",
       "      <td>0</td>\n",
       "      <td>0</td>\n",
       "      <td>0</td>\n",
       "      <td>0</td>\n",
       "      <td>0</td>\n",
       "      <td>0</td>\n",
       "      <td>0</td>\n",
       "      <td>0</td>\n",
       "      <td>0</td>\n",
       "      <td>...</td>\n",
       "      <td>0</td>\n",
       "      <td>0</td>\n",
       "      <td>0</td>\n",
       "      <td>0</td>\n",
       "      <td>0</td>\n",
       "      <td>0</td>\n",
       "      <td>0</td>\n",
       "      <td>0</td>\n",
       "      <td>0</td>\n",
       "      <td>0</td>\n",
       "    </tr>\n",
       "    <tr>\n",
       "      <th>1</th>\n",
       "      <td>0</td>\n",
       "      <td>0</td>\n",
       "      <td>0</td>\n",
       "      <td>0</td>\n",
       "      <td>0</td>\n",
       "      <td>0</td>\n",
       "      <td>0</td>\n",
       "      <td>0</td>\n",
       "      <td>0</td>\n",
       "      <td>0</td>\n",
       "      <td>...</td>\n",
       "      <td>0</td>\n",
       "      <td>0</td>\n",
       "      <td>0</td>\n",
       "      <td>0</td>\n",
       "      <td>0</td>\n",
       "      <td>0</td>\n",
       "      <td>0</td>\n",
       "      <td>0</td>\n",
       "      <td>0</td>\n",
       "      <td>0</td>\n",
       "    </tr>\n",
       "    <tr>\n",
       "      <th>2</th>\n",
       "      <td>0</td>\n",
       "      <td>0</td>\n",
       "      <td>0</td>\n",
       "      <td>0</td>\n",
       "      <td>0</td>\n",
       "      <td>0</td>\n",
       "      <td>0</td>\n",
       "      <td>0</td>\n",
       "      <td>0</td>\n",
       "      <td>0</td>\n",
       "      <td>...</td>\n",
       "      <td>0</td>\n",
       "      <td>0</td>\n",
       "      <td>0</td>\n",
       "      <td>0</td>\n",
       "      <td>0</td>\n",
       "      <td>0</td>\n",
       "      <td>0</td>\n",
       "      <td>0</td>\n",
       "      <td>0</td>\n",
       "      <td>0</td>\n",
       "    </tr>\n",
       "    <tr>\n",
       "      <th>3</th>\n",
       "      <td>0</td>\n",
       "      <td>0</td>\n",
       "      <td>0</td>\n",
       "      <td>0</td>\n",
       "      <td>0</td>\n",
       "      <td>0</td>\n",
       "      <td>0</td>\n",
       "      <td>0</td>\n",
       "      <td>0</td>\n",
       "      <td>0</td>\n",
       "      <td>...</td>\n",
       "      <td>0</td>\n",
       "      <td>0</td>\n",
       "      <td>0</td>\n",
       "      <td>0</td>\n",
       "      <td>0</td>\n",
       "      <td>0</td>\n",
       "      <td>0</td>\n",
       "      <td>0</td>\n",
       "      <td>0</td>\n",
       "      <td>0</td>\n",
       "    </tr>\n",
       "    <tr>\n",
       "      <th>4</th>\n",
       "      <td>0</td>\n",
       "      <td>0</td>\n",
       "      <td>0</td>\n",
       "      <td>0</td>\n",
       "      <td>0</td>\n",
       "      <td>0</td>\n",
       "      <td>0</td>\n",
       "      <td>0</td>\n",
       "      <td>0</td>\n",
       "      <td>0</td>\n",
       "      <td>...</td>\n",
       "      <td>0</td>\n",
       "      <td>0</td>\n",
       "      <td>0</td>\n",
       "      <td>0</td>\n",
       "      <td>0</td>\n",
       "      <td>0</td>\n",
       "      <td>0</td>\n",
       "      <td>0</td>\n",
       "      <td>0</td>\n",
       "      <td>0</td>\n",
       "    </tr>\n",
       "  </tbody>\n",
       "</table>\n",
       "<p>5 rows × 785 columns</p>\n",
       "</div>"
      ],
      "text/plain": [
       "   0  0.1  0.2  0.3  0.4  0.5  0.6  0.7  0.8  0.9  ...  0.562  0.563  0.564  \\\n",
       "0  0    0    0    0    0    0    0    0    0    0  ...      0      0      0   \n",
       "1  0    0    0    0    0    0    0    0    0    0  ...      0      0      0   \n",
       "2  0    0    0    0    0    0    0    0    0    0  ...      0      0      0   \n",
       "3  0    0    0    0    0    0    0    0    0    0  ...      0      0      0   \n",
       "4  0    0    0    0    0    0    0    0    0    0  ...      0      0      0   \n",
       "\n",
       "   0.565  0.566  0.567  0.568  0.569  0.570  0.571  \n",
       "0      0      0      0      0      0      0      0  \n",
       "1      0      0      0      0      0      0      0  \n",
       "2      0      0      0      0      0      0      0  \n",
       "3      0      0      0      0      0      0      0  \n",
       "4      0      0      0      0      0      0      0  \n",
       "\n",
       "[5 rows x 785 columns]"
      ]
     },
     "execution_count": 4,
     "metadata": {},
     "output_type": "execute_result"
    }
   ],
   "source": [
    "# Load the dataset\n",
    "file_path = '/kaggle/input/handwritten-az/handwritten_data_785.csv'\n",
    "data = pd.read_csv(file_path)\n",
    "data.head()"
   ]
  },
  {
   "cell_type": "code",
   "execution_count": 5,
   "id": "da9a3fd2",
   "metadata": {
    "execution": {
     "iopub.execute_input": "2023-12-07T14:08:38.306229Z",
     "iopub.status.busy": "2023-12-07T14:08:38.305922Z",
     "iopub.status.idle": "2023-12-07T14:08:42.890140Z",
     "shell.execute_reply": "2023-12-07T14:08:42.889112Z"
    },
    "papermill": {
     "duration": 4.593278,
     "end_time": "2023-12-07T14:08:42.892495",
     "exception": false,
     "start_time": "2023-12-07T14:08:38.299217",
     "status": "completed"
    },
    "tags": []
   },
   "outputs": [],
   "source": [
    "X = data.iloc[:, 1:].values # Pixels\n",
    "y = data.iloc[:, 0].values  # Labels (A-Z, 0-25)\n",
    "\n",
    "# Normalize\n",
    "X = X / 255.0\n",
    "X = X.reshape(-1, 28, 28).astype('float32')\n",
    "\n",
    "# First split to separate out the test set\n",
    "X_train_val, X_test, y_train_val, y_test = train_test_split(X, y, test_size=0.2, random_state=42)\n",
    "\n",
    "# Second split to divide the remaining data into training and validation sets\n",
    "X_train, X_val, y_train, y_val = train_test_split(X_train_val, y_train_val, test_size=0.25, random_state=42)  # 0.25 x 0.8 = 0.2"
   ]
  },
  {
   "cell_type": "code",
   "execution_count": 6,
   "id": "6d1b2ee4",
   "metadata": {
    "execution": {
     "iopub.execute_input": "2023-12-07T14:08:42.906714Z",
     "iopub.status.busy": "2023-12-07T14:08:42.905963Z",
     "iopub.status.idle": "2023-12-07T14:08:42.912108Z",
     "shell.execute_reply": "2023-12-07T14:08:42.911276Z"
    },
    "papermill": {
     "duration": 0.014812,
     "end_time": "2023-12-07T14:08:42.913990",
     "exception": false,
     "start_time": "2023-12-07T14:08:42.899178",
     "status": "completed"
    },
    "tags": []
   },
   "outputs": [],
   "source": [
    "# Create a custom dataset class\n",
    "class HandwrittenAlphabetsDataset(Dataset):\n",
    "    def __init__(self, images, labels, transform=None):\n",
    "        self.images = images\n",
    "        self.labels = labels\n",
    "        self.transform = transform\n",
    "\n",
    "    def __len__(self):\n",
    "        return len(self.images)\n",
    "\n",
    "    def __getitem__(self, idx):\n",
    "        image = self.images[idx]\n",
    "        label = self.labels[idx]\n",
    "\n",
    "        if self.transform:\n",
    "            image = self.transform(image)\n",
    "\n",
    "        return image, label"
   ]
  },
  {
   "cell_type": "code",
   "execution_count": 7,
   "id": "af96308b",
   "metadata": {
    "execution": {
     "iopub.execute_input": "2023-12-07T14:08:42.926789Z",
     "iopub.status.busy": "2023-12-07T14:08:42.926535Z",
     "iopub.status.idle": "2023-12-07T14:08:42.930824Z",
     "shell.execute_reply": "2023-12-07T14:08:42.929958Z"
    },
    "papermill": {
     "duration": 0.012735,
     "end_time": "2023-12-07T14:08:42.932661",
     "exception": false,
     "start_time": "2023-12-07T14:08:42.919926",
     "status": "completed"
    },
    "tags": []
   },
   "outputs": [],
   "source": [
    "# Define transformations\n",
    "transform = transforms.Compose([\n",
    "    transforms.ToTensor(),\n",
    "    transforms.Normalize((0.5,), (0.5,))\n",
    "])"
   ]
  },
  {
   "cell_type": "code",
   "execution_count": 8,
   "id": "233754b8",
   "metadata": {
    "execution": {
     "iopub.execute_input": "2023-12-07T14:08:42.945546Z",
     "iopub.status.busy": "2023-12-07T14:08:42.944996Z",
     "iopub.status.idle": "2023-12-07T14:08:42.949284Z",
     "shell.execute_reply": "2023-12-07T14:08:42.948479Z"
    },
    "papermill": {
     "duration": 0.012577,
     "end_time": "2023-12-07T14:08:42.951161",
     "exception": false,
     "start_time": "2023-12-07T14:08:42.938584",
     "status": "completed"
    },
    "tags": []
   },
   "outputs": [],
   "source": [
    "# Create datasets\n",
    "train_dataset = HandwrittenAlphabetsDataset(X_train, y_train, transform=transform)\n",
    "val_dataset = HandwrittenAlphabetsDataset(X_val, y_val, transform=transform)\n",
    "test_dataset = HandwrittenAlphabetsDataset(X_test, y_test, transform=transform)"
   ]
  },
  {
   "cell_type": "code",
   "execution_count": 9,
   "id": "6271238c",
   "metadata": {
    "execution": {
     "iopub.execute_input": "2023-12-07T14:08:42.963832Z",
     "iopub.status.busy": "2023-12-07T14:08:42.963586Z",
     "iopub.status.idle": "2023-12-07T14:08:43.028182Z",
     "shell.execute_reply": "2023-12-07T14:08:43.027371Z"
    },
    "papermill": {
     "duration": 0.07314,
     "end_time": "2023-12-07T14:08:43.030256",
     "exception": false,
     "start_time": "2023-12-07T14:08:42.957116",
     "status": "completed"
    },
    "tags": []
   },
   "outputs": [
    {
     "data": {
      "text/plain": [
       "(torch.Size([1, 28, 28]), 10, 223221)"
      ]
     },
     "execution_count": 9,
     "metadata": {},
     "output_type": "execute_result"
    }
   ],
   "source": [
    "# Check the shape of a sample from the dataset\n",
    "train_dataset[0][0].shape, train_dataset[0][1] , len(train_dataset)"
   ]
  },
  {
   "cell_type": "code",
   "execution_count": 10,
   "id": "cafb5cc6",
   "metadata": {
    "execution": {
     "iopub.execute_input": "2023-12-07T14:08:43.043182Z",
     "iopub.status.busy": "2023-12-07T14:08:43.042917Z",
     "iopub.status.idle": "2023-12-07T14:08:43.048020Z",
     "shell.execute_reply": "2023-12-07T14:08:43.047185Z"
    },
    "papermill": {
     "duration": 0.013581,
     "end_time": "2023-12-07T14:08:43.049812",
     "exception": false,
     "start_time": "2023-12-07T14:08:43.036231",
     "status": "completed"
    },
    "tags": []
   },
   "outputs": [],
   "source": [
    "from torch.utils.data import DataLoader\n",
    "\n",
    "batch_size = 64  # You can adjust the batch size according to your system's capability\n",
    "\n",
    "# Creating data loaders\n",
    "train_loader = DataLoader(train_dataset, batch_size=batch_size, shuffle=True)\n",
    "val_loader = DataLoader(val_dataset, batch_size=batch_size, shuffle=False)\n",
    "test_loader = DataLoader(test_dataset, batch_size=batch_size, shuffle=False)"
   ]
  },
  {
   "cell_type": "code",
   "execution_count": 11,
   "id": "cc13eaa3",
   "metadata": {
    "execution": {
     "iopub.execute_input": "2023-12-07T14:08:43.062790Z",
     "iopub.status.busy": "2023-12-07T14:08:43.062529Z",
     "iopub.status.idle": "2023-12-07T14:08:44.196406Z",
     "shell.execute_reply": "2023-12-07T14:08:44.195289Z"
    },
    "papermill": {
     "duration": 1.14286,
     "end_time": "2023-12-07T14:08:44.198534",
     "exception": false,
     "start_time": "2023-12-07T14:08:43.055674",
     "status": "completed"
    },
    "tags": []
   },
   "outputs": [
    {
     "name": "stderr",
     "output_type": "stream",
     "text": [
      "/opt/conda/lib/python3.10/site-packages/torchvision/models/_utils.py:208: UserWarning: The parameter 'pretrained' is deprecated since 0.13 and may be removed in the future, please use 'weights' instead.\n",
      "  warnings.warn(\n",
      "/opt/conda/lib/python3.10/site-packages/torchvision/models/_utils.py:223: UserWarning: Arguments other than a weight enum or `None` for 'weights' are deprecated since 0.13 and may be removed in the future. The current behavior is equivalent to passing `weights=ResNet18_Weights.IMAGENET1K_V1`. You can also use `weights=ResNet18_Weights.DEFAULT` to get the most up-to-date weights.\n",
      "  warnings.warn(msg)\n",
      "Downloading: \"https://download.pytorch.org/models/resnet18-f37072fd.pth\" to /root/.cache/torch/hub/checkpoints/resnet18-f37072fd.pth\n",
      "100%|██████████| 44.7M/44.7M [00:00<00:00, 59.9MB/s]\n"
     ]
    }
   ],
   "source": [
    "import torchvision.models as models\n",
    "import torch.nn as nn\n",
    "\n",
    "# Load pre-trained ResNet-18\n",
    "model = models.resnet18(pretrained=True)\n",
    "\n",
    "# Modify the first convolutional layer to accept 1 channel input\n",
    "model.conv1 = nn.Conv2d(1, 64, kernel_size=(7, 7), stride=(2, 2), padding=(3, 3), bias=False)\n",
    "\n",
    "# Modify the final fully connected layer for 26 classes (A-Z)\n",
    "model.fc = nn.Linear(model.fc.in_features, 26)"
   ]
  },
  {
   "cell_type": "code",
   "execution_count": 12,
   "id": "8b50179d",
   "metadata": {
    "execution": {
     "iopub.execute_input": "2023-12-07T14:08:44.215857Z",
     "iopub.status.busy": "2023-12-07T14:08:44.215505Z",
     "iopub.status.idle": "2023-12-07T14:08:44.225683Z",
     "shell.execute_reply": "2023-12-07T14:08:44.224751Z"
    },
    "papermill": {
     "duration": 0.020742,
     "end_time": "2023-12-07T14:08:44.227637",
     "exception": false,
     "start_time": "2023-12-07T14:08:44.206895",
     "status": "completed"
    },
    "tags": []
   },
   "outputs": [
    {
     "data": {
      "text/plain": [
       "ResNet(\n",
       "  (conv1): Conv2d(1, 64, kernel_size=(7, 7), stride=(2, 2), padding=(3, 3), bias=False)\n",
       "  (bn1): BatchNorm2d(64, eps=1e-05, momentum=0.1, affine=True, track_running_stats=True)\n",
       "  (relu): ReLU(inplace=True)\n",
       "  (maxpool): MaxPool2d(kernel_size=3, stride=2, padding=1, dilation=1, ceil_mode=False)\n",
       "  (layer1): Sequential(\n",
       "    (0): BasicBlock(\n",
       "      (conv1): Conv2d(64, 64, kernel_size=(3, 3), stride=(1, 1), padding=(1, 1), bias=False)\n",
       "      (bn1): BatchNorm2d(64, eps=1e-05, momentum=0.1, affine=True, track_running_stats=True)\n",
       "      (relu): ReLU(inplace=True)\n",
       "      (conv2): Conv2d(64, 64, kernel_size=(3, 3), stride=(1, 1), padding=(1, 1), bias=False)\n",
       "      (bn2): BatchNorm2d(64, eps=1e-05, momentum=0.1, affine=True, track_running_stats=True)\n",
       "    )\n",
       "    (1): BasicBlock(\n",
       "      (conv1): Conv2d(64, 64, kernel_size=(3, 3), stride=(1, 1), padding=(1, 1), bias=False)\n",
       "      (bn1): BatchNorm2d(64, eps=1e-05, momentum=0.1, affine=True, track_running_stats=True)\n",
       "      (relu): ReLU(inplace=True)\n",
       "      (conv2): Conv2d(64, 64, kernel_size=(3, 3), stride=(1, 1), padding=(1, 1), bias=False)\n",
       "      (bn2): BatchNorm2d(64, eps=1e-05, momentum=0.1, affine=True, track_running_stats=True)\n",
       "    )\n",
       "  )\n",
       "  (layer2): Sequential(\n",
       "    (0): BasicBlock(\n",
       "      (conv1): Conv2d(64, 128, kernel_size=(3, 3), stride=(2, 2), padding=(1, 1), bias=False)\n",
       "      (bn1): BatchNorm2d(128, eps=1e-05, momentum=0.1, affine=True, track_running_stats=True)\n",
       "      (relu): ReLU(inplace=True)\n",
       "      (conv2): Conv2d(128, 128, kernel_size=(3, 3), stride=(1, 1), padding=(1, 1), bias=False)\n",
       "      (bn2): BatchNorm2d(128, eps=1e-05, momentum=0.1, affine=True, track_running_stats=True)\n",
       "      (downsample): Sequential(\n",
       "        (0): Conv2d(64, 128, kernel_size=(1, 1), stride=(2, 2), bias=False)\n",
       "        (1): BatchNorm2d(128, eps=1e-05, momentum=0.1, affine=True, track_running_stats=True)\n",
       "      )\n",
       "    )\n",
       "    (1): BasicBlock(\n",
       "      (conv1): Conv2d(128, 128, kernel_size=(3, 3), stride=(1, 1), padding=(1, 1), bias=False)\n",
       "      (bn1): BatchNorm2d(128, eps=1e-05, momentum=0.1, affine=True, track_running_stats=True)\n",
       "      (relu): ReLU(inplace=True)\n",
       "      (conv2): Conv2d(128, 128, kernel_size=(3, 3), stride=(1, 1), padding=(1, 1), bias=False)\n",
       "      (bn2): BatchNorm2d(128, eps=1e-05, momentum=0.1, affine=True, track_running_stats=True)\n",
       "    )\n",
       "  )\n",
       "  (layer3): Sequential(\n",
       "    (0): BasicBlock(\n",
       "      (conv1): Conv2d(128, 256, kernel_size=(3, 3), stride=(2, 2), padding=(1, 1), bias=False)\n",
       "      (bn1): BatchNorm2d(256, eps=1e-05, momentum=0.1, affine=True, track_running_stats=True)\n",
       "      (relu): ReLU(inplace=True)\n",
       "      (conv2): Conv2d(256, 256, kernel_size=(3, 3), stride=(1, 1), padding=(1, 1), bias=False)\n",
       "      (bn2): BatchNorm2d(256, eps=1e-05, momentum=0.1, affine=True, track_running_stats=True)\n",
       "      (downsample): Sequential(\n",
       "        (0): Conv2d(128, 256, kernel_size=(1, 1), stride=(2, 2), bias=False)\n",
       "        (1): BatchNorm2d(256, eps=1e-05, momentum=0.1, affine=True, track_running_stats=True)\n",
       "      )\n",
       "    )\n",
       "    (1): BasicBlock(\n",
       "      (conv1): Conv2d(256, 256, kernel_size=(3, 3), stride=(1, 1), padding=(1, 1), bias=False)\n",
       "      (bn1): BatchNorm2d(256, eps=1e-05, momentum=0.1, affine=True, track_running_stats=True)\n",
       "      (relu): ReLU(inplace=True)\n",
       "      (conv2): Conv2d(256, 256, kernel_size=(3, 3), stride=(1, 1), padding=(1, 1), bias=False)\n",
       "      (bn2): BatchNorm2d(256, eps=1e-05, momentum=0.1, affine=True, track_running_stats=True)\n",
       "    )\n",
       "  )\n",
       "  (layer4): Sequential(\n",
       "    (0): BasicBlock(\n",
       "      (conv1): Conv2d(256, 512, kernel_size=(3, 3), stride=(2, 2), padding=(1, 1), bias=False)\n",
       "      (bn1): BatchNorm2d(512, eps=1e-05, momentum=0.1, affine=True, track_running_stats=True)\n",
       "      (relu): ReLU(inplace=True)\n",
       "      (conv2): Conv2d(512, 512, kernel_size=(3, 3), stride=(1, 1), padding=(1, 1), bias=False)\n",
       "      (bn2): BatchNorm2d(512, eps=1e-05, momentum=0.1, affine=True, track_running_stats=True)\n",
       "      (downsample): Sequential(\n",
       "        (0): Conv2d(256, 512, kernel_size=(1, 1), stride=(2, 2), bias=False)\n",
       "        (1): BatchNorm2d(512, eps=1e-05, momentum=0.1, affine=True, track_running_stats=True)\n",
       "      )\n",
       "    )\n",
       "    (1): BasicBlock(\n",
       "      (conv1): Conv2d(512, 512, kernel_size=(3, 3), stride=(1, 1), padding=(1, 1), bias=False)\n",
       "      (bn1): BatchNorm2d(512, eps=1e-05, momentum=0.1, affine=True, track_running_stats=True)\n",
       "      (relu): ReLU(inplace=True)\n",
       "      (conv2): Conv2d(512, 512, kernel_size=(3, 3), stride=(1, 1), padding=(1, 1), bias=False)\n",
       "      (bn2): BatchNorm2d(512, eps=1e-05, momentum=0.1, affine=True, track_running_stats=True)\n",
       "    )\n",
       "  )\n",
       "  (avgpool): AdaptiveAvgPool2d(output_size=(1, 1))\n",
       "  (fc): Linear(in_features=512, out_features=26, bias=True)\n",
       ")"
      ]
     },
     "execution_count": 12,
     "metadata": {},
     "output_type": "execute_result"
    }
   ],
   "source": [
    "model.to(device)"
   ]
  },
  {
   "cell_type": "code",
   "execution_count": 13,
   "id": "51d06bf4",
   "metadata": {
    "execution": {
     "iopub.execute_input": "2023-12-07T14:08:44.243586Z",
     "iopub.status.busy": "2023-12-07T14:08:44.243265Z",
     "iopub.status.idle": "2023-12-07T14:08:44.249240Z",
     "shell.execute_reply": "2023-12-07T14:08:44.248318Z"
    },
    "papermill": {
     "duration": 0.016183,
     "end_time": "2023-12-07T14:08:44.251192",
     "exception": false,
     "start_time": "2023-12-07T14:08:44.235009",
     "status": "completed"
    },
    "tags": []
   },
   "outputs": [],
   "source": [
    "import torch.optim as optim\n",
    "\n",
    "criterions = [nn.CrossEntropyLoss()]\n",
    "optimizers = [optim.Adam(model.parameters(), lr=0.001), optim.SGD(model.parameters(), lr=0.001, momentum=0.9)]"
   ]
  },
  {
   "cell_type": "code",
   "execution_count": 14,
   "id": "52e27157",
   "metadata": {
    "execution": {
     "iopub.execute_input": "2023-12-07T14:08:44.267914Z",
     "iopub.status.busy": "2023-12-07T14:08:44.267185Z",
     "iopub.status.idle": "2023-12-07T17:54:20.909042Z",
     "shell.execute_reply": "2023-12-07T17:54:20.907960Z"
    },
    "papermill": {
     "duration": 13542.593843,
     "end_time": "2023-12-07T17:54:26.852716",
     "exception": false,
     "start_time": "2023-12-07T14:08:44.258873",
     "status": "completed"
    },
    "tags": []
   },
   "outputs": [
    {
     "name": "stderr",
     "output_type": "stream",
     "text": [
      "100%|██████████| 3488/3488 [11:02<00:00,  5.26it/s]\n"
     ]
    },
    {
     "name": "stdout",
     "output_type": "stream",
     "text": [
      "New best model found!\n",
      "Criterion: CrossEntropyLoss\n",
      "Optimizer: Adam\n",
      "Epoch: 1\n",
      "Validation Loss: 0.1022629012694656\n",
      "Epoch 1, Train Loss: 0.18906467808426547, Validation Loss: 0.1022629012694656\n"
     ]
    },
    {
     "name": "stderr",
     "output_type": "stream",
     "text": [
      "100%|██████████| 3488/3488 [11:07<00:00,  5.23it/s]\n"
     ]
    },
    {
     "name": "stdout",
     "output_type": "stream",
     "text": [
      "New best model found!\n",
      "Criterion: CrossEntropyLoss\n",
      "Optimizer: Adam\n",
      "Epoch: 2\n",
      "Validation Loss: 0.08579871608508928\n",
      "Epoch 2, Train Loss: 0.09694284207243398, Validation Loss: 0.08579871608508928\n"
     ]
    },
    {
     "name": "stderr",
     "output_type": "stream",
     "text": [
      "100%|██████████| 3488/3488 [11:07<00:00,  5.22it/s]\n"
     ]
    },
    {
     "name": "stdout",
     "output_type": "stream",
     "text": [
      "New best model found!\n",
      "Criterion: CrossEntropyLoss\n",
      "Optimizer: Adam\n",
      "Epoch: 3\n",
      "Validation Loss: 0.06533128001436075\n",
      "Epoch 3, Train Loss: 0.0741440954909795, Validation Loss: 0.06533128001436075\n"
     ]
    },
    {
     "name": "stderr",
     "output_type": "stream",
     "text": [
      "100%|██████████| 3488/3488 [11:13<00:00,  5.18it/s]\n"
     ]
    },
    {
     "name": "stdout",
     "output_type": "stream",
     "text": [
      "New best model found!\n",
      "Criterion: CrossEntropyLoss\n",
      "Optimizer: Adam\n",
      "Epoch: 4\n",
      "Validation Loss: 0.05835845490289141\n",
      "Epoch 4, Train Loss: 0.06038112278299504, Validation Loss: 0.05835845490289141\n"
     ]
    },
    {
     "name": "stderr",
     "output_type": "stream",
     "text": [
      "100%|██████████| 3488/3488 [11:18<00:00,  5.14it/s]\n"
     ]
    },
    {
     "name": "stdout",
     "output_type": "stream",
     "text": [
      "New best model found!\n",
      "Criterion: CrossEntropyLoss\n",
      "Optimizer: Adam\n",
      "Epoch: 5\n",
      "Validation Loss: 0.0540656983858993\n",
      "Epoch 5, Train Loss: 0.056337065331542674, Validation Loss: 0.0540656983858993\n"
     ]
    },
    {
     "name": "stderr",
     "output_type": "stream",
     "text": [
      "100%|██████████| 3488/3488 [11:37<00:00,  5.00it/s]\n"
     ]
    },
    {
     "name": "stdout",
     "output_type": "stream",
     "text": [
      "Epoch 6, Train Loss: 0.04216757543992671, Validation Loss: 0.05799350394498595\n"
     ]
    },
    {
     "name": "stderr",
     "output_type": "stream",
     "text": [
      "100%|██████████| 3488/3488 [11:50<00:00,  4.91it/s]\n"
     ]
    },
    {
     "name": "stdout",
     "output_type": "stream",
     "text": [
      "New best model found!\n",
      "Criterion: CrossEntropyLoss\n",
      "Optimizer: Adam\n",
      "Epoch: 7\n",
      "Validation Loss: 0.049579522273011156\n",
      "Epoch 7, Train Loss: 0.04526376613109587, Validation Loss: 0.049579522273011156\n"
     ]
    },
    {
     "name": "stderr",
     "output_type": "stream",
     "text": [
      "100%|██████████| 3488/3488 [11:56<00:00,  4.87it/s]\n"
     ]
    },
    {
     "name": "stdout",
     "output_type": "stream",
     "text": [
      "Epoch 8, Train Loss: 0.03873168201731259, Validation Loss: 0.0498558482447143\n"
     ]
    },
    {
     "name": "stderr",
     "output_type": "stream",
     "text": [
      "100%|██████████| 3488/3488 [11:59<00:00,  4.84it/s]\n"
     ]
    },
    {
     "name": "stdout",
     "output_type": "stream",
     "text": [
      "New best model found!\n",
      "Criterion: CrossEntropyLoss\n",
      "Optimizer: Adam\n",
      "Epoch: 9\n",
      "Validation Loss: 0.04384574357107696\n",
      "Epoch 9, Train Loss: 0.031447674423336576, Validation Loss: 0.04384574357107696\n"
     ]
    },
    {
     "name": "stderr",
     "output_type": "stream",
     "text": [
      "100%|██████████| 3488/3488 [12:24<00:00,  4.69it/s]\n"
     ]
    },
    {
     "name": "stdout",
     "output_type": "stream",
     "text": [
      "New best model found!\n",
      "Criterion: CrossEntropyLoss\n",
      "Optimizer: Adam\n",
      "Epoch: 10\n",
      "Validation Loss: 0.04178381038655812\n",
      "Epoch 10, Train Loss: 0.03346146137193183, Validation Loss: 0.04178381038655812\n"
     ]
    },
    {
     "name": "stderr",
     "output_type": "stream",
     "text": [
      "100%|██████████| 3488/3488 [09:00<00:00,  6.46it/s]\n"
     ]
    },
    {
     "name": "stdout",
     "output_type": "stream",
     "text": [
      "New best model found!\n",
      "Criterion: CrossEntropyLoss\n",
      "Optimizer: SGD\n",
      "Epoch: 1\n",
      "Validation Loss: 0.0380774249008351\n",
      "Epoch 1, Train Loss: 0.018062693823869953, Validation Loss: 0.0380774249008351\n"
     ]
    },
    {
     "name": "stderr",
     "output_type": "stream",
     "text": [
      "100%|██████████| 3488/3488 [09:06<00:00,  6.38it/s]\n"
     ]
    },
    {
     "name": "stdout",
     "output_type": "stream",
     "text": [
      "New best model found!\n",
      "Criterion: CrossEntropyLoss\n",
      "Optimizer: SGD\n",
      "Epoch: 2\n",
      "Validation Loss: 0.03730384985066375\n",
      "Epoch 2, Train Loss: 0.016428648018526632, Validation Loss: 0.03730384985066375\n"
     ]
    },
    {
     "name": "stderr",
     "output_type": "stream",
     "text": [
      "100%|██████████| 3488/3488 [09:17<00:00,  6.25it/s]\n"
     ]
    },
    {
     "name": "stdout",
     "output_type": "stream",
     "text": [
      "New best model found!\n",
      "Criterion: CrossEntropyLoss\n",
      "Optimizer: SGD\n",
      "Epoch: 3\n",
      "Validation Loss: 0.03672562971758105\n",
      "Epoch 3, Train Loss: 0.015150319653637096, Validation Loss: 0.03672562971758105\n"
     ]
    },
    {
     "name": "stderr",
     "output_type": "stream",
     "text": [
      "100%|██████████| 3488/3488 [09:22<00:00,  6.20it/s]\n"
     ]
    },
    {
     "name": "stdout",
     "output_type": "stream",
     "text": [
      "Epoch 4, Train Loss: 0.015087493068835386, Validation Loss: 0.036727785924084204\n"
     ]
    },
    {
     "name": "stderr",
     "output_type": "stream",
     "text": [
      "100%|██████████| 3488/3488 [09:26<00:00,  6.15it/s]\n"
     ]
    },
    {
     "name": "stdout",
     "output_type": "stream",
     "text": [
      "New best model found!\n",
      "Criterion: CrossEntropyLoss\n",
      "Optimizer: SGD\n",
      "Epoch: 5\n",
      "Validation Loss: 0.03625345450625991\n",
      "Epoch 5, Train Loss: 0.014046984907901053, Validation Loss: 0.03625345450625991\n"
     ]
    },
    {
     "name": "stderr",
     "output_type": "stream",
     "text": [
      "100%|██████████| 3488/3488 [09:23<00:00,  6.18it/s]\n"
     ]
    },
    {
     "name": "stdout",
     "output_type": "stream",
     "text": [
      "Epoch 6, Train Loss: 0.014377438398871765, Validation Loss: 0.03664532348161555\n"
     ]
    },
    {
     "name": "stderr",
     "output_type": "stream",
     "text": [
      "100%|██████████| 3488/3488 [09:26<00:00,  6.16it/s]\n"
     ]
    },
    {
     "name": "stdout",
     "output_type": "stream",
     "text": [
      "Epoch 7, Train Loss: 0.013851269379126587, Validation Loss: 0.03643851850132719\n"
     ]
    },
    {
     "name": "stderr",
     "output_type": "stream",
     "text": [
      "100%|██████████| 3488/3488 [09:32<00:00,  6.09it/s]\n"
     ]
    },
    {
     "name": "stdout",
     "output_type": "stream",
     "text": [
      "Epoch 8, Train Loss: 0.013517977985329624, Validation Loss: 0.03651781182069048\n"
     ]
    },
    {
     "name": "stderr",
     "output_type": "stream",
     "text": [
      "100%|██████████| 3488/3488 [09:54<00:00,  5.87it/s]\n"
     ]
    },
    {
     "name": "stdout",
     "output_type": "stream",
     "text": [
      "Epoch 9, Train Loss: 0.013255057311169266, Validation Loss: 0.036582720896134256\n"
     ]
    },
    {
     "name": "stderr",
     "output_type": "stream",
     "text": [
      "100%|██████████| 3488/3488 [09:52<00:00,  5.89it/s]\n"
     ]
    },
    {
     "name": "stdout",
     "output_type": "stream",
     "text": [
      "New best model found!\n",
      "Criterion: CrossEntropyLoss\n",
      "Optimizer: SGD\n",
      "Epoch: 10\n",
      "Validation Loss: 0.036243055707775355\n",
      "Epoch 10, Train Loss: 0.013308928653881127, Validation Loss: 0.036243055707775355\n"
     ]
    }
   ],
   "source": [
    "from tqdm import tqdm\n",
    "\n",
    "# 각 조합에 대한 결과 저장\n",
    "\n",
    "results = {}\n",
    "best_val_loss = 9999999\n",
    "epochs = 10\n",
    "\n",
    "for criterion in criterions:\n",
    "    for optimizer in optimizers:\n",
    "        # 손실 저장을 위한 리스트 초기화\n",
    "        train_losses, val_losses = [], []\n",
    "\n",
    "        for epoch in range(epochs):\n",
    "            # Training\n",
    "            model.train()\n",
    "            total_train_loss = 0\n",
    "            for images, labels in tqdm(train_loader):\n",
    "                images, labels = images.to(device), labels.to(device)\n",
    "                images = images.float()\n",
    "\n",
    "                optimizer.zero_grad()\n",
    "                outputs = model(images)\n",
    "                loss = criterion(outputs, labels)\n",
    "                loss.backward()\n",
    "                optimizer.step()\n",
    "                total_train_loss += loss.item()\n",
    "\n",
    "            avg_train_loss = total_train_loss / len(train_loader)\n",
    "            train_losses.append(avg_train_loss)\n",
    "\n",
    "            # Validation\n",
    "            model.eval()\n",
    "            total_val_loss = 0\n",
    "            with torch.no_grad():\n",
    "                for images, labels in val_loader:\n",
    "                    outputs = model(images)\n",
    "                    loss = criterion(outputs, labels)\n",
    "                    total_val_loss += loss.item()\n",
    "\n",
    "            avg_val_loss = total_val_loss / len(val_loader)\n",
    "            val_losses.append(avg_val_loss)\n",
    "\n",
    "            # Save best model\n",
    "            if avg_val_loss < best_val_loss:\n",
    "                best_val_loss = avg_val_loss\n",
    "                best_model = model.state_dict()\n",
    "                print(f\"New best model found!\")\n",
    "                print(f\"Criterion: {criterion.__class__.__name__}\")\n",
    "                print(f\"Optimizer: {optimizer.__class__.__name__}\")\n",
    "                print(f\"Epoch: {epoch + 1}\")\n",
    "                print(f\"Validation Loss: {avg_val_loss}\")\n",
    "\n",
    "            print(f'Epoch {epoch+1}, Train Loss: {avg_train_loss}, Validation Loss: {avg_val_loss}')\n",
    "\n",
    "        combination_name = f'{criterion.__class__.__name__}_{optimizer.__class__.__name__}'\n",
    "        results[combination_name] = {\n",
    "            'train_losses': train_losses,\n",
    "            'val_losses': val_losses\n",
    "        }"
   ]
  },
  {
   "cell_type": "code",
   "execution_count": 15,
   "id": "584fe495",
   "metadata": {
    "execution": {
     "iopub.execute_input": "2023-12-07T17:54:38.415672Z",
     "iopub.status.busy": "2023-12-07T17:54:38.414753Z",
     "iopub.status.idle": "2023-12-07T17:54:38.475459Z",
     "shell.execute_reply": "2023-12-07T17:54:38.474474Z"
    },
    "papermill": {
     "duration": 5.837753,
     "end_time": "2023-12-07T17:54:38.477538",
     "exception": false,
     "start_time": "2023-12-07T17:54:32.639785",
     "status": "completed"
    },
    "tags": []
   },
   "outputs": [],
   "source": [
    "# Save the best model\n",
    "torch.save(best_model, 'best_model.pth')"
   ]
  },
  {
   "cell_type": "code",
   "execution_count": 16,
   "id": "5e215031",
   "metadata": {
    "execution": {
     "iopub.execute_input": "2023-12-07T17:54:50.270359Z",
     "iopub.status.busy": "2023-12-07T17:54:50.269975Z",
     "iopub.status.idle": "2023-12-07T17:54:50.668516Z",
     "shell.execute_reply": "2023-12-07T17:54:50.667514Z"
    },
    "papermill": {
     "duration": 6.287757,
     "end_time": "2023-12-07T17:54:50.670598",
     "exception": false,
     "start_time": "2023-12-07T17:54:44.382841",
     "status": "completed"
    },
    "tags": []
   },
   "outputs": [
    {
     "data": {
      "image/png": "[encoded data removed]",
      "text/plain": [
       "<Figure size 1500x700 with 1 Axes>"
      ]
     },
     "metadata": {},
     "output_type": "display_data"
    }
   ],
   "source": [
    "import matplotlib.pyplot as plt\n",
    "\n",
    "plt.figure(figsize=(15, 7))\n",
    "\n",
    "# 각 조합에 대한 손실을 그래프에 추가\n",
    "for combination_name, losses in results.items():\n",
    "    plt.plot(losses['train_losses'], label=f'{combination_name} - Train Loss')\n",
    "    plt.plot(losses['val_losses'], label=f'{combination_name} - Validation Loss')\n",
    "\n",
    "# 그래프 제목 및 축 레이블 설정\n",
    "plt.title('Training and Validation Losses for All Combinations')\n",
    "plt.xlabel('Epochs')\n",
    "plt.ylabel('Loss')\n",
    "\n",
    "# 범례 표시\n",
    "plt.legend()\n",
    "\n",
    "# 그래프 표시\n",
    "plt.show()"
   ]
  },
  {
   "cell_type": "code",
   "execution_count": 17,
   "id": "d4ff11b9",
   "metadata": {
    "execution": {
     "iopub.execute_input": "2023-12-07T17:55:02.426650Z",
     "iopub.status.busy": "2023-12-07T17:55:02.426248Z",
     "iopub.status.idle": "2023-12-07T17:55:52.737513Z",
     "shell.execute_reply": "2023-12-07T17:55:52.736504Z"
    },
    "papermill": {
     "duration": 56.195084,
     "end_time": "2023-12-07T17:55:52.739858",
     "exception": false,
     "start_time": "2023-12-07T17:54:56.544774",
     "status": "completed"
    },
    "tags": []
   },
   "outputs": [
    {
     "name": "stdout",
     "output_type": "stream",
     "text": [
      "Accuracy on the test set: 99.15 %\n"
     ]
    }
   ],
   "source": [
    "# Load the best model\n",
    "model.load_state_dict(torch.load('best_model.pth'))\n",
    "\n",
    "# Ensure the model is in evaluation mode\n",
    "model.eval()\n",
    "\n",
    "# Initialize counters for correct predictions and total samples\n",
    "correct = 0\n",
    "total = 0\n",
    "\n",
    "# No gradient calculation needed during evaluation\n",
    "with torch.no_grad():\n",
    "    for images, labels in test_loader:  # Use test_loader here\n",
    "        images, labels = images.to(device), labels.to(device)\n",
    "        \n",
    "        outputs = model(images)\n",
    "        _, predicted = torch.max(outputs.data, 1)\n",
    "        \n",
    "        total += labels.size(0)\n",
    "        correct += (predicted == labels).sum().item()\n",
    "\n",
    "# Calculate and print the accuracy\n",
    "accuracy = 100 * correct / total\n",
    "print(f'Accuracy on the test set: {accuracy:.2f} %')"
   ]
  }
 ],
 "metadata": {
  "kaggle": {
   "accelerator": "gpu",
   "dataSources": [
    {
     "datasetId": 11037,
     "sourceId": 15367,
     "sourceType": "datasetVersion"
    }
   ],
   "dockerImageVersionId": 30588,
   "isGpuEnabled": true,
   "isInternetEnabled": true,
   "language": "python",
   "sourceType": "notebook"
  },
  "kernelspec": {
   "display_name": "Python 3",
   "language": "python",
   "name": "python3"
  },
  "language_info": {
   "codemirror_mode": {
    "name": "ipython",
    "version": 3
   },
   "file_extension": ".py",
   "mimetype": "text/x-python",
   "name": "python",
   "nbconvert_exporter": "python",
   "pygments_lexer": "ipython3",
   "version": "3.10.12"
  },
  "papermill": {
   "default_parameters": {},
   "duration": 13682.672143,
   "end_time": "2023-12-07T17:56:01.251828",
   "environment_variables": {},
   "exception": null,
   "input_path": "__notebook__.ipynb",
   "output_path": "__notebook__.ipynb",
   "parameters": {},
   "start_time": "2023-12-07T14:07:58.579685",
   "version": "2.4.0"
  }
 },
 "nbformat": 4,
 "nbformat_minor": 5
}
