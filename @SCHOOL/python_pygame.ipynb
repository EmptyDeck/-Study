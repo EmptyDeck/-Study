{
 "cells": [
  {
   "cell_type": "code",
   "execution_count": 1,
   "metadata": {},
   "outputs": [
    {
     "name": "stdout",
     "output_type": "stream",
     "text": [
      "Collecting pygame\n",
      "  Downloading pygame-2.5.2-cp311-cp311-macosx_11_0_arm64.whl.metadata (13 kB)\n",
      "Downloading pygame-2.5.2-cp311-cp311-macosx_11_0_arm64.whl (12.2 MB)\n",
      "\u001b[2K   \u001b[90m━━━━━━━━━━━━━━━━━━━━━━━━━━━━━━━━━━━━━━━━\u001b[0m \u001b[32m12.2/12.2 MB\u001b[0m \u001b[31m6.3 MB/s\u001b[0m eta \u001b[36m0:00:00\u001b[0m00:01\u001b[0m00:01\u001b[0m\n",
      "\u001b[?25hInstalling collected packages: pygame\n",
      "Successfully installed pygame-2.5.2\n"
     ]
    }
   ],
   "source": [
    "! pip install pygame"
   ]
  },
  {
   "cell_type": "code",
   "execution_count": 3,
   "metadata": {},
   "outputs": [
    {
     "name": "stdout",
     "output_type": "stream",
     "text": [
      "pygame 2.5.2 (SDL 2.28.3, Python 3.11.6)\n",
      "Hello from the pygame community. https://www.pygame.org/contribute.html\n",
      "/Users/owo/anaconda3/envs/auto/lib/python3.11/site-packages/pygame/__init__.py\n"
     ]
    }
   ],
   "source": [
    "! python -c 'import pygame; print(pygame.__file__)'"
   ]
  },
  {
   "cell_type": "code",
   "execution_count": 1,
   "metadata": {},
   "outputs": [
    {
     "name": "stdout",
     "output_type": "stream",
     "text": [
      "pygame 2.5.2 (SDL 2.28.3, Python 3.11.6)\n",
      "Hello from the pygame community. https://www.pygame.org/contribute.html\n"
     ]
    },
    {
     "name": "stderr",
     "output_type": "stream",
     "text": [
      "libpng warning: iCCP: known incorrect sRGB profile\n"
     ]
    },
    {
     "name": "stdout",
     "output_type": "stream",
     "text": [
      "[<rect(190, 100, 30, 30)>, <rect(53, 0, 30, 30)>, <rect(159, 0, 30, 30)>, <rect(768, 0, 30, 30)>, <rect(675, 100, 30, 30)>, <rect(277, 100, 30, 30)>, <rect(216, 0, 30, 30)>, <rect(377, 100, 30, 30)>, <rect(140, 0, 30, 30)>, <rect(508, 0, 30, 30)>]\n"
     ]
    },
    {
     "name": "stderr",
     "output_type": "stream",
     "text": [
      "2023-12-05 10:34:57.324 python[38215:448972] TSM AdjustCapsLockLEDForKeyTransitionHandling - _ISSetPhysicalKeyboardCapsLockLED Inhibit\n"
     ]
    },
    {
     "name": "stdout",
     "output_type": "stream",
     "text": [
      "[<rect(190, 100, 30, 30)>, <rect(53, 0, 30, 30)>, <rect(159, 0, 30, 30)>, <rect(768, 0, 30, 30)>, <rect(675, 100, 30, 30)>, <rect(277, 100, 30, 30)>, <rect(216, 0, 30, 30)>, <rect(140, 0, 30, 30)>, <rect(508, 0, 30, 30)>]\n",
      "200\n",
      "faster\n",
      "[<rect(189, 100, 30, 30)>, <rect(56, 0, 30, 30)>, <rect(152, 0, 30, 30)>, <rect(769, 0, 30, 30)>, <rect(680, 100, 30, 30)>, <rect(218, 0, 30, 30)>, <rect(142, 0, 30, 30)>, <rect(510, 0, 30, 30)>]\n",
      "[<rect(57, 0, 30, 30)>, <rect(151, 0, 30, 30)>, <rect(768, 0, 30, 30)>, <rect(691, 100, 30, 30)>, <rect(224, 0, 30, 30)>, <rect(132, 0, 30, 30)>, <rect(516, 0, 30, 30)>]\n",
      "[<rect(57, 0, 30, 30)>, <rect(149, 0, 30, 30)>, <rect(768, 0, 30, 30)>, <rect(693, 100, 30, 30)>, <rect(129, 0, 30, 30)>, <rect(513, 0, 30, 30)>]\n",
      "[<rect(54, 0, 30, 30)>, <rect(762, 0, 30, 30)>, <rect(693, 100, 30, 30)>, <rect(128, 0, 30, 30)>, <rect(512, 0, 30, 30)>]\n",
      "[<rect(52, 0, 30, 30)>, <rect(759, 0, 30, 30)>, <rect(694, 100, 30, 30)>, <rect(512, 0, 30, 30)>]\n",
      "400\n",
      "faster\n",
      "[<rect(768, 0, 30, 30)>, <rect(699, 100, 30, 30)>, <rect(494, 0, 30, 30)>]\n",
      "[<rect(764, 0, 30, 30)>, <rect(731, 100, 30, 30)>]\n",
      "600\n",
      "faster\n",
      "[<rect(749, 100, 30, 30)>]\n",
      "[]\n"
     ]
    }
   ],
   "source": [
    "import pygame\n",
    "import random\n",
    "\n",
    "# Pygame 초기화\n",
    "pygame.init()\n",
    "\n",
    "# 화면 설정\n",
    "width, height = 800, 600\n",
    "screen = pygame.display.set_mode((width, height))\n",
    "pygame.display.set_caption(\"Galaga Style Game with Highscore\")\n",
    "\n",
    "# 색상\n",
    "BLACK = (0, 0, 0)\n",
    "WHITE = (255, 255, 255)\n",
    "RED = (255, 0, 0)\n",
    "\n",
    "\n",
    "try: # 이미지 불러오기 성공\n",
    "    # 탱크와 몬스터 이미지 로드\n",
    "    tank_image = pygame.image.load('data/wing.png')\n",
    "    monster_image = pygame.image.load('data/monster.png')\n",
    "\n",
    "    # 이미지를 원하는 크기로 조정\n",
    "    tank_image = pygame.transform.scale(tank_image, (50, 50))  # 예시 크기\n",
    "    monster_image = pygame.transform.scale(monster_image, (30, 30))  # 예시 크기\n",
    "except: #이미지 못불러왔을때\n",
    "    pass\n",
    "\n",
    "\n",
    "background_image_path = 'data/space.jpg'\n",
    "background_image = pygame.image.load(background_image_path)\n",
    "background_image = pygame.transform.scale(background_image, (width, height))\n",
    "\n",
    "\n",
    "\n",
    "\n",
    "# 탱크 설정\n",
    "tank_pos = [width // 2, height - 60]\n",
    "tank_speed = 5\n",
    "tank_rect = tank_image.get_rect(center=tank_pos)\n",
    "\n",
    "# 총알 설정\n",
    "bullets = []\n",
    "monster_bullets = []\n",
    "bullet_speed = 7\n",
    "bullets_fired = 0 \n",
    "monster_count = 10\n",
    "\n",
    "# 몬스터 설정\n",
    "monsters = []\n",
    "monster_speed = 0  # 몬스터의 속도\n",
    "for i in range(monster_count):\n",
    "    x = random.randint(0, width - monster_image.get_width())\n",
    "    random_number = random.randint(0, 1) # 0 or 100\n",
    "    y = random_number * 100\n",
    "    monster_rect = monster_image.get_rect(topleft=(x, y))\n",
    "    monsters.append(monster_rect)\n",
    "\n",
    "print(monsters)\n",
    "\n",
    "# 점수 설정\n",
    "score = 0\n",
    "high_score = 999\n",
    "\n",
    "# 게임 재시작 함수\n",
    "def restart_game():\n",
    "    global monsters, bullets, monster_bullets, score, tank_rect\n",
    "    tank_rect.center = (width // 2, height - 60)\n",
    "    bullets = []\n",
    "    monster_bullets = []\n",
    "    monsters = []\n",
    "    score = 0\n",
    "    for i in range(monster_count):\n",
    "        x = random.randint(0, width - 30)\n",
    "        random_number = random.randint(0, 1) # 1 or 100\n",
    "        y = random_number * 100\n",
    "        monster_rect = monster_image.get_rect(topleft=(x, y))\n",
    "        monsters.append(monster_rect)\n",
    "\n",
    "# 게임 루프\n",
    "running = True\n",
    "game_over = False\n",
    "\n",
    "\n",
    "cnt = 0\n",
    "while running:\n",
    "\n",
    "    # time function\n",
    "    cnt = cnt + 1\n",
    "    if cnt%200 == 0:\n",
    "        print(cnt)\n",
    "        print(\"faster\")\n",
    "        monster_speed = monster_speed + 1\n",
    "\n",
    "\n",
    "    for event in pygame.event.get():\n",
    "        if event.type == pygame.QUIT:\n",
    "            running = False\n",
    "        if game_over and event.type == pygame.KEYDOWN and event.key == pygame.K_SPACE:\n",
    "            game_over = False\n",
    "            restart_game()\n",
    "    screen.blit(background_image, (0, 0))\n",
    "\n",
    "    if not game_over:\n",
    "        keys = pygame.key.get_pressed()\n",
    "        if keys[pygame.K_a]:\n",
    "            tank_rect.move_ip(-tank_speed, 0)\n",
    "        if keys[pygame.K_d]:\n",
    "            tank_rect.move_ip(tank_speed, 0)\n",
    "        if keys[pygame.K_k] and len(bullets) < 10:  # 쏘는것\n",
    "            bullet_rect = pygame.Rect(tank_rect.centerx, tank_rect.top, 5, 10)\n",
    "            bullets.append(bullet_rect)\n",
    "            bullets_fired += 1  # 총알 발사 수 증가\n",
    "\n",
    "        # 총알 업데이트\n",
    "        for bullet in bullets[:]:\n",
    "            bullet.move_ip(0, -bullet_speed)\n",
    "            if bullet.bottom < 0:\n",
    "                bullets.remove(bullet)\n",
    "\n",
    "        # 몬스터 총알 업데이트\n",
    "        for bullet in monster_bullets[:]:\n",
    "            bullet.move_ip(0, bullet_speed)\n",
    "            if bullet.top > height:\n",
    "                monster_bullets.remove(bullet)\n",
    "            if bullet.colliderect(tank_rect):\n",
    "                game_over = True  # 주인공이 맞으면 게임 오버\n",
    "\n",
    "        # 몬스터 충돌 검사\n",
    "        for monster in monsters[:]:\n",
    "            for bullet in bullets[:]:\n",
    "                if bullet.colliderect(monster):\n",
    "                    try:\n",
    "                        bullets.remove(bullet)\n",
    "                        monsters.remove(monster)\n",
    "                    except:\n",
    "                        pass\n",
    "                    print(monsters)\n",
    " \n",
    "                    if not monsters:\n",
    "                        game_over = True  # 게임 오버 상태로 변경\n",
    "                        win = True  # 승리 상태 설정\n",
    "\n",
    "            if random.randint(0, 1000) < 5:  # 몬스터가 총을 쏘는 확률\n",
    "                monster_bullet = pygame.Rect(monster.centerx, monster.bottom, 5, 10)\n",
    "                monster_bullets.append(monster_bullet)\n",
    "            # 몬스터 랜덤 움직임\n",
    "            monster.move_ip(random.choice([-monster_speed, monster_speed]), \n",
    "                            random.choice([0,0]))\n",
    "            monster.clamp_ip(screen.get_rect())  # 화면 밖으로 나가지 않도록\n",
    "\n",
    "        # 화면 업데이트\n",
    "        screen.blit(tank_image, tank_rect)\n",
    "        for bullet in bullets:\n",
    "            pygame.draw.rect(screen, WHITE, bullet)\n",
    "        for bullet in monster_bullets:\n",
    "            pygame.draw.rect(screen, RED, bullet)\n",
    "        for monster in monsters:\n",
    "            screen.blit(monster_image, monster)\n",
    "\n",
    "        # 점수 표시\n",
    "        font = pygame.font.SysFont(None, 36)\n",
    "        score_text = font.render(f'Score: {score}', True, WHITE)\n",
    "        high_score_text = font.render(f'Highscore: {high_score}', True, WHITE)\n",
    "        screen.blit(score_text, (10, 10))\n",
    "        screen.blit(high_score_text, (10, 50))\n",
    "    else:\n",
    "        font = pygame.font.SysFont(None, 74)\n",
    "        if 'win' in locals() and win:\n",
    "            game_over_text = font.render('YOU WIN!', True, RED)\n",
    "            bullets_text = font.render(f'Bullets Used: {bullets_fired}', True, WHITE)\n",
    "            if bullets_fired < high_score:\n",
    "                high_score = bullets_fired  # 하이스코어 갱신\n",
    "            bullets_rect = bullets_text.get_rect(center=(width // 2, height // 2 + 100))\n",
    "            screen.blit(bullets_text, bullets_rect)\n",
    "            restart_text = font.render('Press Space to Restart', True, WHITE)\n",
    "            restart_rect = restart_text.get_rect(center=(width // 2, height // 4 + 150))\n",
    "            screen.blit(restart_text, restart_rect)\n",
    "            cnt = 0\n",
    "            monster_speed = 0\n",
    "        else:\n",
    "            game_over_text = font.render('GAME OVER', True, RED)\n",
    "            game_over_rect = game_over_text.get_rect(center=(width // 2, height // 2))\n",
    "            screen.blit(game_over_text, game_over_rect)\n",
    "            restart_text = font.render('Press Space to Restart', True, WHITE)\n",
    "            restart_rect = restart_text.get_rect(center=(width // 2, height // 2 + 150))\n",
    "            screen.blit(restart_text, restart_rect)\n",
    "            cnt = 0\n",
    "            monster_speed = 0\n",
    "\n",
    "    pygame.display.flip()\n",
    "    pygame.time.delay(30)\n",
    "\n",
    "pygame.quit()"
   ]
  },
  {
   "cell_type": "code",
   "execution_count": 18,
   "metadata": {},
   "outputs": [
    {
     "data": {
      "text/plain": [
       "72"
      ]
     },
     "execution_count": 18,
     "metadata": {},
     "output_type": "execute_result"
    }
   ],
   "source": [
    "y = random.randint(0, 100)\n",
    "y"
   ]
  },
  {
   "cell_type": "code",
   "execution_count": null,
   "metadata": {},
   "outputs": [],
   "source": []
  }
 ],
 "metadata": {
  "kernelspec": {
   "display_name": "auto",
   "language": "python",
   "name": "python3"
  },
  "language_info": {
   "codemirror_mode": {
    "name": "ipython",
    "version": 3
   },
   "file_extension": ".py",
   "mimetype": "text/x-python",
   "name": "python",
   "nbconvert_exporter": "python",
   "pygments_lexer": "ipython3",
   "version": "3.11.6"
  }
 },
 "nbformat": 4,
 "nbformat_minor": 2
}
