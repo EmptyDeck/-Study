{
 "cells": [
  {
   "cell_type": "code",
   "execution_count": null,
   "metadata": {},
   "outputs": [],
   "source": [
    "import pandas as pd\n",
    "\n",
    "titanic_df = pd.read_csv('titanic.csv')\n",
    "\n",
    "newstr = titanic_df.colums\n",
    "\n",
    "new_columns = ['passangerid','survived', 'pclass','name','sex','age','sibsp','parch','ticket','fare','cabin','embarked']\n",
    "\n",
    "titanic_df.columns=new_columns\n",
    "copy_titmnaic_df = titniafc_df.copy()\n",
    "copy_titanic_df.append('1')\n",
    "print(id(titanic_df))\n",
    "print(id(copy)titianc_dif)"
   ]
  },
  {
   "cell_type": "code",
   "execution_count": null,
   "metadata": {},
   "outputs": [],
   "source": []
  }
 ],
 "metadata": {
  "language_info": {
   "name": "python"
  }
 },
 "nbformat": 4,
 "nbformat_minor": 2
}
