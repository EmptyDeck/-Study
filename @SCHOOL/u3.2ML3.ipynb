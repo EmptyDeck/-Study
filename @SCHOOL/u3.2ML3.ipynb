{
 "cells": [
  {
   "cell_type": "code",
   "execution_count": 1,
   "metadata": {},
   "outputs": [
    {
     "name": "stdout",
     "output_type": "stream",
     "text": [
      "Predicted Labels: [0 1 2]\n",
      "Actual Labels: 0 1 2\n",
      "Accuracy: 100.0 %\n"
     ]
    }
   ],
   "source": [
    "from sklearn import datasets\n",
    "from sklearn import svm\n",
    "\n",
    "# Load the digits dataset\n",
    "digit = datasets.load_digits()\n",
    "\n",
    "# Create an SVM classifier model (SC) and train it\n",
    "s = svm.SVC(gamma=0.1, C=10)\n",
    "s.fit(digit.data, digit.target)\n",
    "\n",
    "# Define new samples for recognition\n",
    "new_d = [digit.data[0], digit.data[1], digit.data[2]]\n",
    "\n",
    "# Predict the labels for the new samples\n",
    "res = s.predict(new_d)\n",
    "\n",
    "# Print the results\n",
    "print(\"Predicted Labels:\", res)\n",
    "print(\"Actual Labels:\", digit.target[0], digit.target[1], digit.target[2])\n",
    "\n",
    "# Use the training set as a test set for recognition and measure accuracy\n",
    "res = s.predict(digit.data)\n",
    "\n",
    "# Calculate accuracy\n",
    "correct = [i for i in range(len(res)) if res[i] == digit.target[i]]\n",
    "accuracy = len(correct) / len(res) * 100\n",
    "print(\"Accuracy:\", accuracy, \"%\")\n"
   ]
  },
  {
   "cell_type": "code",
   "execution_count": 4,
   "metadata": {},
   "outputs": [],
   "source": [
    "from sklearn import  datasets\n",
    "from sklearn import  svm\n",
    "from sklearn.model_selection import  train_test_split\n",
    "import numpy as np\n",
    "from sklearn.metrics import accuracy_score, confusion_matrix\n",
    "\n",
    "\n",
    "digit = datasets.load_digits()\n",
    "xtrain,xtest,ytrain,ytest = train_test_split(digit.data,digit.target,train_size=0.6)"
   ]
  },
  {
   "cell_type": "code",
   "execution_count": 5,
   "metadata": {},
   "outputs": [
    {
     "name": "stdout",
     "output_type": "stream",
     "text": [
      "정확도: 0.9860917941585535\n",
      "혼동 행렬:\n",
      " [[67  0  0  0  0  0  0  0  0  0]\n",
      " [ 0 76  0  0  0  0  0  0  0  0]\n",
      " [ 0  0 67  0  0  0  0  0  0  0]\n",
      " [ 0  0  0 74  0  2  0  1  1  0]\n",
      " [ 0  0  0  0 75  0  0  0  1  1]\n",
      " [ 0  0  0  0  0 73  1  0  0  0]\n",
      " [ 0  0  0  0  0  0 74  0  0  0]\n",
      " [ 0  0  0  0  0  0  0 70  0  0]\n",
      " [ 0  2  0  0  0  0  0  0 73  0]\n",
      " [ 0  0  0  0  0  1  0  0  0 60]]\n"
     ]
    }
   ],
   "source": [
    "\n",
    "\n",
    "# SVM 분류기 모델 생성 및 훈련\n",
    "s = svm.SVC(gamma=0.001)\n",
    "s.fit(xtrain, ytrain)\n",
    "\n",
    "# 테스트 데이터에 대한 예측 수행\n",
    "res = s.predict(xtest)\n",
    "\n",
    "# 정확도 측정\n",
    "accuracy = accuracy_score(ytest, res)\n",
    "print(\"정확도:\", accuracy)\n",
    "\n",
    "# 혼동 행렬 계산\n",
    "conf = confusion_matrix(ytest, res)\n",
    "print(\"혼동 행렬:\\n\", conf)\n"
   ]
  },
  {
   "cell_type": "code",
   "execution_count": 7,
   "metadata": {},
   "outputs": [
    {
     "name": "stdout",
     "output_type": "stream",
     "text": [
      "평균 정확도: 0.972\n",
      "표준 편차: 0.015\n"
     ]
    }
   ],
   "source": [
    "from sklearn.model_selection import train_test_split, cross_val_score\n",
    "\n",
    "# 5-겹 교차 검증을 통한 정확도 계산\n",
    "cv_scores = cross_val_score(s, digit.data, digit.target, cv=5, scoring='accuracy')\n",
    "\n",
    "\n",
    "# 소수점 3자리까지 출력\n",
    "print(\"평균 정확도:\", \"{:.3f}\".format(cv_scores.mean()))\n",
    "print(\"표준 편차:\", \"{:.3f}\".format(cv_scores.std()))"
   ]
  }
 ],
 "metadata": {
  "kernelspec": {
   "display_name": "torchenv",
   "language": "python",
   "name": "python3"
  },
  "language_info": {
   "codemirror_mode": {
    "name": "ipython",
    "version": 3
   },
   "file_extension": ".py",
   "mimetype": "text/x-python",
   "name": "python",
   "nbconvert_exporter": "python",
   "pygments_lexer": "ipython3",
   "version": "3.11.4"
  }
 },
 "nbformat": 4,
 "nbformat_minor": 2
}
