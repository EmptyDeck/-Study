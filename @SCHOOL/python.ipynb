{
 "cells": [
  {
   "cell_type": "code",
   "execution_count": 1,
   "metadata": {},
   "outputs": [
    {
     "name": "stdout",
     "output_type": "stream",
     "text": [
      "텍스트 메뉴\n",
      "1. 도서 번호로 책 찾기\n",
      "2. 저자 이름으로 책 찾기\n",
      "3. 제목으로 책 찾기\n",
      "4. 새로운 책 추가\n",
      "5. 도서관이 소장한 도서의 수 표시\n",
      "========================\n",
      "책이 추가되었습니다.\n",
      "텍스트 메뉴\n",
      "1. 도서 번호로 책 찾기\n",
      "2. 저자 이름으로 책 찾기\n",
      "3. 제목으로 책 찾기\n",
      "4. 새로운 책 추가\n",
      "5. 도서관이 소장한 도서의 수 표시\n",
      "========================\n",
      "저자: ㅁ, 제목: ㅁ\n",
      "텍스트 메뉴\n",
      "1. 도서 번호로 책 찾기\n",
      "2. 저자 이름으로 책 찾기\n",
      "3. 제목으로 책 찾기\n",
      "4. 새로운 책 추가\n",
      "5. 도서관이 소장한 도서의 수 표시\n",
      "========================\n"
     ]
    },
    {
     "ename": "ValueError",
     "evalue": "invalid literal for int() with base 10: ''",
     "output_type": "error",
     "traceback": [
      "\u001b[0;31m---------------------------------------------------------------------------\u001b[0m",
      "\u001b[0;31mValueError\u001b[0m                                Traceback (most recent call last)",
      "\u001b[1;32m/Users/owo/HOUSE/@Code/-Study/@SCHOOL/python.ipynb 셀 1\u001b[0m line \u001b[0;36m1\n\u001b[1;32m     <a href='vscode-notebook-cell:/Users/owo/HOUSE/%40Code/-Study/%40SCHOOL/python.ipynb#W0sZmlsZQ%3D%3D?line=11'>12</a>\u001b[0m \u001b[39mprint\u001b[39m(\u001b[39m\"\u001b[39m\u001b[39m5. 도서관이 소장한 도서의 수 표시\u001b[39m\u001b[39m\"\u001b[39m)\n\u001b[1;32m     <a href='vscode-notebook-cell:/Users/owo/HOUSE/%40Code/-Study/%40SCHOOL/python.ipynb#W0sZmlsZQ%3D%3D?line=12'>13</a>\u001b[0m \u001b[39mprint\u001b[39m(\u001b[39m\"\u001b[39m\u001b[39m========================\u001b[39m\u001b[39m\"\u001b[39m)\n\u001b[0;32m---> <a href='vscode-notebook-cell:/Users/owo/HOUSE/%40Code/-Study/%40SCHOOL/python.ipynb#W0sZmlsZQ%3D%3D?line=13'>14</a>\u001b[0m choice \u001b[39m=\u001b[39m \u001b[39mint\u001b[39m(\u001b[39minput\u001b[39m(\u001b[39m\"\u001b[39m\u001b[39m메뉴 중에서 하나를 선택하시오 : \u001b[39m\u001b[39m\"\u001b[39m))\n\u001b[1;32m     <a href='vscode-notebook-cell:/Users/owo/HOUSE/%40Code/-Study/%40SCHOOL/python.ipynb#W0sZmlsZQ%3D%3D?line=15'>16</a>\u001b[0m \u001b[39mif\u001b[39;00m choice \u001b[39m==\u001b[39m \u001b[39m1\u001b[39m:\n\u001b[1;32m     <a href='vscode-notebook-cell:/Users/owo/HOUSE/%40Code/-Study/%40SCHOOL/python.ipynb#W0sZmlsZQ%3D%3D?line=16'>17</a>\u001b[0m     book_id \u001b[39m=\u001b[39m \u001b[39mint\u001b[39m(\u001b[39minput\u001b[39m(\u001b[39m\"\u001b[39m\u001b[39m도서 번호를 입력하세요: \u001b[39m\u001b[39m\"\u001b[39m))\n",
      "\u001b[0;31mValueError\u001b[0m: invalid literal for int() with base 10: ''"
     ]
    }
   ],
   "source": [
    "#03\n",
    "\n",
    "# 도서 정보를 저장할 dictionary\n",
    "library = {}\n",
    "\n",
    "while True:\n",
    "    print(\"텍스트 메뉴\")\n",
    "    print(\"1. 도서 번호로 책 찾기\")\n",
    "    print(\"2. 저자 이름으로 책 찾기\")\n",
    "    print(\"3. 제목으로 책 찾기\")\n",
    "    print(\"4. 새로운 책 추가\")\n",
    "    print(\"5. 도서관이 소장한 도서의 수 표시\")\n",
    "    print(\"========================\")\n",
    "    choice = int(input(\"메뉴 중에서 하나를 선택하시오 : \"))\n",
    "\n",
    "    if choice == 1:\n",
    "        book_id = int(input(\"도서 번호를 입력하세요: \"))\n",
    "        if book_id in library:\n",
    "            book = library[book_id]\n",
    "            print(f\"저자: {book['author']}, 제목: {book['title']}\")\n",
    "        else:\n",
    "            print(\"책을 찾을 수 없습니다.\")\n",
    "\n",
    "    elif choice == 2:\n",
    "        author_input = input(\"저자 이름을 입력하세요: \")\n",
    "        found = False\n",
    "        for book_id, book in library.items():\n",
    "            if book['author'] == author_input:\n",
    "                print(f\"도서 번호: {book_id}, 제목: {book['title']}\")\n",
    "                found = True\n",
    "        if not found:\n",
    "            print(\"책을 찾을 수 없습니다.\")\n",
    "\n",
    "    elif choice == 3:\n",
    "        title_input = input(\"제목을 입력하세요: \")\n",
    "        found = False\n",
    "        for book_id, book in library.items():\n",
    "            if book['title'] == title_input:\n",
    "                print(f\"도서 번호: {book_id}, 저자: {book['author']}\")\n",
    "                found = True\n",
    "        if not found:\n",
    "            print(\"책을 찾을 수 없습니다.\")\n",
    "\n",
    "    elif choice == 4:\n",
    "        book_id = int(input(\"도서 번호를 입력하세요: \"))\n",
    "        author = input(\"저자 이름을 입력하세요: \")\n",
    "        title = input(\"제목을 입력하세요: \")\n",
    "        library[book_id] = {'author': author, 'title': title}\n",
    "        print(\"책이 추가되었습니다.\")\n",
    "\n",
    "    elif choice == 5:\n",
    "        print(f\"도서관이 소장한 도서의 수: {len(library)}권\")\n",
    "\n",
    "    else:\n",
    "        print(\"잘못된 입력 입니다. 다시 선택해주세요.\")\n"
   ]
  }
 ],
 "metadata": {
  "kernelspec": {
   "display_name": "torchenv",
   "language": "python",
   "name": "python3"
  },
  "language_info": {
   "codemirror_mode": {
    "name": "ipython",
    "version": 3
   },
   "file_extension": ".py",
   "mimetype": "text/x-python",
   "name": "python",
   "nbconvert_exporter": "python",
   "pygments_lexer": "ipython3",
   "version": "3.11.4"
  }
 },
 "nbformat": 4,
 "nbformat_minor": 2
}
