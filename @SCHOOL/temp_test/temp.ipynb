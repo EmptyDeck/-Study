{
 "cells": [
  {
   "cell_type": "code",
   "execution_count": null,
   "metadata": {},
   "outputs": [],
   "source": [
    "import csv\n",
    "\n",
    "# 입력 CSV 파일 경로와 출력 CSV 파일 경로 설정\n",
    "input_csv_file = '/Users/owo/Downloads/handwritten_data_785.csv'\n",
    "output_csv_file = '/Users/owo/Downloads/handwritten_data.csv'\n",
    "\n",
    "# 남겨둘 행의 개수 (n 설정)\n",
    "n = 1000\n",
    "\n",
    "# CSV 파일을 읽고 n개의 행만 추출하여 쓰기\n",
    "with open(input_csv_file, 'r', newline='') as input_file, open(output_csv_file, 'w', newline='') as output_file:\n",
    "    csv_reader = csv.reader(input_file)\n",
    "    csv_writer = csv.writer(output_file)\n",
    "\n",
    "    # 헤더 행을 먼저 읽고 쓰기\n",
    "    header = next(csv_reader)\n",
    "    csv_writer.writerow(header)\n",
    "\n",
    "    # n개의 행만 읽고 쓰기\n",
    "    for _ in range(n):\n",
    "        try:\n",
    "            row = next(csv_reader)\n",
    "            csv_writer.writerow(row)\n",
    "        except StopIteration:\n",
    "            break\n",
    "\n",
    "print(f'{n}개의 행이 {output_csv_file} 파일에 저장되었습니다.')\n"
   ]
  }
 ],
 "metadata": {
  "kernelspec": {
   "display_name": "torchenv",
   "language": "python",
   "name": "python3"
  },
  "language_info": {
   "name": "python",
   "version": "3.11.6"
  }
 },
 "nbformat": 4,
 "nbformat_minor": 2
}
