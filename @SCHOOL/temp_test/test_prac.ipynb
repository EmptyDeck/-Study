{
 "cells": [
  {
   "cell_type": "markdown",
   "metadata": {},
   "source": [
    "이번 실습에서는 NIM 게임을 구현하여 보자. 스틱들의 뭉치를 가정한다. 사용자와 컴퓨\n",
    "터는 번갈아서 스틱 뭉치에서 1개에서 3개 사이로 스틱을 가져갈 수 있다. 마지막 스틱\n",
    "을 가져가는 사람이 지는 게임이다. 스틱의 초기 개수는 12개라고 하자. 컴퓨터는 2개\n",
    "이상 남았을 때에 2개 스틱을 가져간다.\n",
    "◼ 음수나 남은 개수보다 큰 숫자의 예외처리 필요"
   ]
  },
  {
   "cell_type": "code",
   "execution_count": null,
   "metadata": {},
   "outputs": [],
   "source": []
  },
  {
   "cell_type": "markdown",
   "metadata": {},
   "source": [
    "도서관에서소장도서들을관리할수있는프로그램을작성해보자. 책정보는리스트로구성되며“book_id“(정수), “author“(문자열), “title” (문자열)로구성된다. 책을못찾으면못찾았다고출력됨각명령어에대해서함수를사용해야한다."
   ]
  },
  {
   "cell_type": "markdown",
   "metadata": {},
   "source": [
    "도서관에서소장도서들을관리할수있는프로그램을작성해보자. 책정보는dictionary로구성되며key:“book_id“(정수), value는“author“(문자열), “title” (문자열)로구성된다. 책을못찾으면못찾았다고출력됨각명령어에대해서함수를사용해야한다"
   ]
  },
  {
   "cell_type": "markdown",
   "metadata": {},
   "source": [
    "도서관을관리할수있는프로그램을작성해보자. 책정보(book_info)는dictionary로구성되며“book_id“(정수), “author“(문자열), “title” (문자열)로구성된다. 사용자(user_info)는dictionary로구성되며“user_id“(문자열), “name“(문자열), “phone” (문자열)로구성된다. 대출정보(rent_info)는list로구성되며(book_id, user_id)로구성된다.기능은책기능: 책찾기(도서번호, 저자, 제목으로), 책추가, 도서수표시사용자기능: 사용자등록, 사용자삭제, 사용자수표시대출기능: 대출신청, 반납, 현재대출상황표시(개인별로)각명령어에대해서함수를사용해야한다."
   ]
  }
 ],
 "metadata": {
  "kernelspec": {
   "display_name": "torchenv",
   "language": "python",
   "name": "python3"
  },
  "language_info": {
   "name": "python",
   "version": "3.11.4"
  }
 },
 "nbformat": 4,
 "nbformat_minor": 2
}
