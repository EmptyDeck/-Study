{
 "cells": [
  {
   "cell_type": "code",
   "execution_count": 13,
   "metadata": {},
   "outputs": [],
   "source": [
    "import numpy as np\n",
    "import tensorflow as tf\n",
    "from tensorflow.keras.datasets import  mnist\n",
    "from tensorflow.keras.models import Sequential\n",
    "from tensorflow.keras.layers import Dense\n",
    "from tensorflow.keras.optimizers import Adam"
   ]
  },
  {
   "cell_type": "code",
   "execution_count": 14,
   "metadata": {},
   "outputs": [],
   "source": [
    "(xtrian,ytrain) , (xtest,ytest) = mnist.load_data()"
   ]
  },
  {
   "cell_type": "code",
   "execution_count": 15,
   "metadata": {},
   "outputs": [],
   "source": [
    "xtrain = xtrian.reshape(60000,784)\n",
    "xtest = xtest.reshape(10000,784)\n",
    "xtrain = xtrain.astype(np.float32)/255.0\n",
    "xteset = xtest.astype(np.float32)/255.0"
   ]
  },
  {
   "cell_type": "code",
   "execution_count": 16,
   "metadata": {},
   "outputs": [],
   "source": [
    "ytrain = tf.keras.utils.to_categorical(ytrain,10)\n",
    "ytest = tf.keras.utils.to_categorical(ytest,10)"
   ]
  },
  {
   "cell_type": "code",
   "execution_count": 17,
   "metadata": {},
   "outputs": [
    {
     "name": "stderr",
     "output_type": "stream",
     "text": [
      "WARNING:absl:At this time, the v2.11+ optimizer `tf.keras.optimizers.Adam` runs slowly on M1/M2 Macs, please use the legacy Keras optimizer instead, located at `tf.keras.optimizers.legacy.Adam`.\n"
     ]
    },
    {
     "name": "stdout",
     "output_type": "stream",
     "text": [
      "Epoch 1/5\n",
      "469/469 - 7s - loss: 0.0162 - accuracy: 0.8931 - val_loss: 0.0096 - val_accuracy: 0.9385 - 7s/epoch - 14ms/step\n",
      "Epoch 2/5\n",
      "469/469 - 6s - loss: 0.0096 - accuracy: 0.9389 - val_loss: 0.0085 - val_accuracy: 0.9461 - 6s/epoch - 13ms/step\n",
      "Epoch 3/5\n",
      "469/469 - 6s - loss: 0.0077 - accuracy: 0.9514 - val_loss: 0.0079 - val_accuracy: 0.9515 - 6s/epoch - 13ms/step\n",
      "Epoch 4/5\n",
      "469/469 - 6s - loss: 0.0064 - accuracy: 0.9598 - val_loss: 0.0064 - val_accuracy: 0.9600 - 6s/epoch - 12ms/step\n",
      "Epoch 5/5\n",
      "469/469 - 6s - loss: 0.0058 - accuracy: 0.9641 - val_loss: 0.0077 - val_accuracy: 0.9522 - 6s/epoch - 13ms/step\n"
     ]
    }
   ],
   "source": [
    "ninput = 784\n",
    "nhidden1 = 1024\n",
    "nhidden = 512\n",
    "noutput = 10\n",
    "\n",
    "mlp = Sequential()\n",
    "\n",
    "mlp.add(Dense(units=nhidden1, activation='tanh', input_shape=(ninput,),\n",
    "              kernel_initializer='random_uniform', bias_initializer='zeros'))\n",
    "\n",
    "mlp.add(Dense(units=nhidden, activation='tanh',\n",
    "              kernel_initializer='random_uniform', bias_initializer='zeros'))\n",
    "mlp.add(Dense(units=nhidden, activation='tanh',\n",
    "              kernel_initializer='random_uniform', bias_initializer='zeros'))\n",
    "mlp.add(Dense(units=nhidden, activation='tanh',\n",
    "              kernel_initializer='random_uniform', bias_initializer='zeros'))\n",
    "mlp.add(Dense(units=nhidden, activation='tanh',\n",
    "              kernel_initializer='random_uniform', bias_initializer='zeros'))\n",
    "mlp.add(Dense(units=noutput, activation='softmax',\n",
    "              kernel_initializer='random_uniform', bias_initializer='zeros'))\n",
    "\n",
    "\n",
    "mlp.compile(loss='mean_squared_error', optimizer=Adam(learning_rate=0.001), metrics=['accuracy'])\n",
    "\n",
    "\n",
    "hist = mlp.fit(xtrain, ytrain, batch_size=128, epochs=5, verbose=2, validation_data=(xtest, ytest))\n",
    "\n",
    "\n",
    "# Evaluate the model\n",
    "res=mlp.evaluate(xtest, ytest, verbose=0)"
   ]
  },
  {
   "cell_type": "code",
   "execution_count": 19,
   "metadata": {},
   "outputs": [
    {
     "name": "stderr",
     "output_type": "stream",
     "text": [
      "WARNING:absl:At this time, the v2.11+ optimizer `tf.keras.optimizers.Adam` runs slowly on M1/M2 Macs, please use the legacy Keras optimizer instead, located at `tf.keras.optimizers.legacy.Adam`.\n"
     ]
    },
    {
     "name": "stdout",
     "output_type": "stream",
     "text": [
      "Epoch 1/5\n",
      "469/469 - 6s - loss: 0.3071 - accuracy: 0.9070 - val_loss: 0.1788 - val_accuracy: 0.9490 - 6s/epoch - 14ms/step\n",
      "Epoch 2/5\n",
      "469/469 - 6s - loss: 0.1649 - accuracy: 0.9510 - val_loss: 0.1711 - val_accuracy: 0.9538 - 6s/epoch - 12ms/step\n",
      "Epoch 3/5\n",
      "469/469 - 5s - loss: 0.1193 - accuracy: 0.9646 - val_loss: 0.1618 - val_accuracy: 0.9552 - 5s/epoch - 12ms/step\n",
      "Epoch 4/5\n",
      "469/469 - 6s - loss: 0.0953 - accuracy: 0.9707 - val_loss: 0.1095 - val_accuracy: 0.9678 - 6s/epoch - 12ms/step\n",
      "Epoch 5/5\n",
      "469/469 - 6s - loss: 0.0784 - accuracy: 0.9757 - val_loss: 0.1086 - val_accuracy: 0.9696 - 6s/epoch - 12ms/step\n"
     ]
    }
   ],
   "source": [
    "ninput = 784\n",
    "nhidden1 = 1024\n",
    "nhidden = 512\n",
    "noutput = 10\n",
    "\n",
    "mlp = Sequential()\n",
    "\n",
    "mlp.add(Dense(units=nhidden1, activation='tanh', input_shape=(ninput,),\n",
    "              kernel_initializer='random_uniform', bias_initializer='zeros'))\n",
    "\n",
    "mlp.add(Dense(units=nhidden, activation='tanh',\n",
    "              kernel_initializer='random_uniform', bias_initializer='zeros'))\n",
    "mlp.add(Dense(units=nhidden, activation='tanh',\n",
    "              kernel_initializer='random_uniform', bias_initializer='zeros'))\n",
    "mlp.add(Dense(units=nhidden, activation='tanh',\n",
    "              kernel_initializer='random_uniform', bias_initializer='zeros'))\n",
    "mlp.add(Dense(units=nhidden, activation='tanh',\n",
    "              kernel_initializer='random_uniform', bias_initializer='zeros'))\n",
    "mlp.add(Dense(units=noutput, activation='softmax',\n",
    "              kernel_initializer='random_uniform', bias_initializer='zeros'))\n",
    "\n",
    "\n",
    "mlp.compile(loss='categorical_crossentropy', optimizer=Adam(learning_rate=0.001), metrics=['accuracy'])\n",
    "\n",
    "\n",
    "hist = mlp.fit(xtrain, ytrain, batch_size=128, epochs=5, verbose=2, validation_data=(xtest, ytest))\n",
    "\n",
    "\n",
    "# Evaluate the model\n",
    "res=mlp.evaluate(xtest, ytest, verbose=0)"
   ]
  }
 ],
 "metadata": {
  "kernelspec": {
   "display_name": "tensor",
   "language": "python",
   "name": "python3"
  },
  "language_info": {
   "codemirror_mode": {
    "name": "ipython",
    "version": 3
   },
   "file_extension": ".py",
   "mimetype": "text/x-python",
   "name": "python",
   "nbconvert_exporter": "python",
   "pygments_lexer": "ipython3",
   "version": "3.9.18"
  }
 },
 "nbformat": 4,
 "nbformat_minor": 2
}
