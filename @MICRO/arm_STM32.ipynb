{
 "cells": [
  {
   "cell_type": "markdown",
   "metadata": {},
   "source": [
    "# LED"
   ]
  },
  {
   "cell_type": "code",
   "execution_count": null,
   "metadata": {},
   "outputs": [],
   "source": []
  },
  {
   "cell_type": "markdown",
   "metadata": {},
   "source": [
    "## LED blink"
   ]
  },
  {
   "cell_type": "code",
   "execution_count": null,
   "metadata": {},
   "outputs": [],
   "source": [
    "### #reset\n",
    "/* USER CODE BEGIN Header */\n",
    "…………………………….\n",
    "/* USER CODE END Header */\n",
    "/* Includes ------------------------------------------------------------------*/\n",
    "### include \"main.h\"\n",
    "/* Private includes ----------------------------------------------------------*/\n",
    "/* USER CODE BEGIN Includes */\n",
    "/* USER CODE END Includes */\n",
    "/* Private typedef -----------------------------------------------------------*/\n",
    "/* USER CODE BEGIN PTD */\n",
    "/* USER CODE END PTD */\n",
    "……………..\n",
    "void SystemClock_Config(void);\n",
    "static void MX_GPIO_Init(void);\n",
    "\n",
    "### main\n",
    "int main(void)\n",
    "{\n",
    "/* USER CODE BEGIN 1 */\n",
    "/* USER CODE END 1 */\n",
    "/* MCU Configuration--------------------------------------------------------*/\n",
    "/* Reset of all peripherals, Initializes the Flash interface and the Systick. */\n",
    "HAL_Init();\n",
    "/* USER CODE BEGIN Init */\n",
    "/* USER CODE END Init */\n",
    "/* Configure the system clock */\n",
    "SystemClock_Config();\n",
    "/* USER CODE BEGIN SysInit */\n",
    "/* USER CODE END SysInit */\n",
    "/* Initialize all configured peripherals */\n",
    "MX_GPIO_Init();\n",
    "\n",
    "/* Infinite loop */\n",
    "/* USER CODE BEGIN WHILE */\n",
    "while (1)\n",
    "{\n",
    "HAL_GPIO_WritePin(GPIOC, GPIO_PIN_0, GPIO_PIN_SET);\n",
    "HAL_Delay(1000);\n",
    "HAL_GPIO_WritePin(GPIOC, GPIO_PIN_0, GPIO_PIN_RESET);\n",
    "HAL_Delay(1000);\n",
    "/* USER CODE END WHILE */\n",
    "/* USER CODE BEGIN 3 */\n",
    "}\n",
    "/* USER CODE END 3 */\n",
    "}"
   ]
  },
  {
   "cell_type": "code",
   "execution_count": null,
   "metadata": {},
   "outputs": [],
   "source": [
    "## blink all\n",
    "HAL_GPIO_TogglePin(GPIOC, GPIO_PIN_0|GPIO_PIN_1|GPIO_PIN_2|GPIO_PIN_3);\n",
    "HAL_GPIO_TogglePin(GPIOB, GPIO_PIN_12|GPIO_PIN_13|GPIO_PIN_14|GPIO_PIN_15);\n",
    "HAL_Delay(500);"
   ]
  },
  {
   "cell_type": "code",
   "execution_count": null,
   "metadata": {},
   "outputs": [],
   "source": [
    "## led shift\n",
    "HAL_GPIO_TogglePin(GPIOB, GPIO_PIN_12);\n",
    "HAL_Delay(1000);\n",
    "HAL_GPIO_TogglePin(GPIOB, GPIO_PIN_12|GPIO_PIN_13);\n",
    "HAL_Delay(1000);\n",
    "HAL_GPIO_TogglePin(GPIOB, GPIO_PIN_13|GPIO_PIN_14);\n",
    "HAL_Delay(1000);\n",
    "HAL_GPIO_TogglePin(GPIOB, GPIO_PIN_14|GPIO_PIN_15);\n",
    "HAL_Delay(1000);\n",
    "HAL_GPIO_TogglePin(GPIOB, GPIO_PIN_15);\n",
    "HAL_GPIO_TogglePin(GPIOC, GPIO_PIN_0);\n",
    "HAL_Delay(1000);\n",
    "HAL_GPIO_TogglePin(GPIOC, GPIO_PIN_0|GPIO_PIN_1);\n",
    "HAL_Delay(1000);\n",
    "HAL_GPIO_TogglePin(GPIOC, GPIO_PIN_1|GPIO_PIN_2);\n",
    "HAL_Delay(1000);\n",
    "HAL_GPIO_TogglePin(GPIOC, GPIO_PIN_2|GPIO_PIN_3);\n",
    "HAL_Delay(1000);\n",
    "HAL_GPIO_TogglePin(GPIOC, GPIO_PIN_3);"
   ]
  },
  {
   "cell_type": "code",
   "execution_count": null,
   "metadata": {},
   "outputs": [],
   "source": [
    "## led shift + add\n",
    "HAL_GPIO_TogglePin(GPIOB, GPIO_PIN_12);\n",
    "HAL_Delay(1000);\n",
    "HAL_GPIO_TogglePin(GPIOB, GPIO_PIN_13);\n",
    "HAL_Delay(1000);\n",
    "HAL_GPIO_TogglePin(GPIOB, GPIO_PIN_14);\n",
    "HAL_Delay(1000);\n",
    "HAL_GPIO_TogglePin(GPIOB, GPIO_PIN_15);\n",
    "HAL_Delay(1000);\n",
    "HAL_GPIO_TogglePin(GPIOC, GPIO_PIN_0);\n",
    "HAL_Delay(1000);\n",
    "HAL_GPIO_TogglePin(GPIOC, GPIO_PIN_1);\n",
    "HAL_Delay(1000);\n",
    "HAL_GPIO_TogglePin(GPIOC, GPIO_PIN_2);\n",
    "HAL_Delay(1000);\n",
    "HAL_GPIO_TogglePin(GPIOC, GPIO_PIN_3);\n",
    "HAL_Delay(1000);\n",
    "HAL_GPIO_TogglePin(GPIOB, GPIO_PIN_12|GPIO_PIN_13|GPIO_PIN_14|GPIO_PIN_15);\n",
    "HAL_GPIO_TogglePin(GPIOC, GPIO_PIN_0|GPIO_PIN_1|GPIO_PIN_2|GPIO_PIN_3);"
   ]
  },
  {
   "cell_type": "markdown",
   "metadata": {},
   "source": [
    "## LED with names"
   ]
  },
  {
   "cell_type": "code",
   "execution_count": null,
   "metadata": {},
   "outputs": [],
   "source": [
    "uint16_t led_PIN[] = {LED0_Pin, LED1_Pin, LED2_Pin, LED3_Pin, LED4_Pin, LED5_Pin,\n",
    "LED6_Pin, LED7_Pin};\n",
    "GPIO_TypeDef *led_GPIO[] = {LED0_GPIO_Port, LED1_GPIO_Port, LED2_GPIO_Port,\n",
    "LED3_GPIO_Port, LED4_GPIO_Port, LED5_GPIO_Port, LED6_GPIO_Port, LED7_GPIO_Port};"
   ]
  },
  {
   "cell_type": "markdown",
   "metadata": {},
   "source": [
    "## on off"
   ]
  },
  {
   "cell_type": "code",
   "execution_count": null,
   "metadata": {},
   "outputs": [],
   "source": [
    "for(int i=0;i<8;i++){\n",
    "HAL_GPIO_WritePin(led_GPIO[i], led_PIN[i], GPIO_PIN_SET);\n",
    "HAL_Delay(1000);\n",
    "HAL_GPIO_WritePin(led_GPIO[i], led_PIN[i], GPIO_PIN_RESET);\n",
    "}"
   ]
  },
  {
   "cell_type": "markdown",
   "metadata": {},
   "source": [
    "## shift + add"
   ]
  },
  {
   "cell_type": "code",
   "execution_count": null,
   "metadata": {},
   "outputs": [],
   "source": [
    "for(int i=0; i<8; i++){\n",
    "HAL_GPIO_WritePin(led_GPIO[i], led_PIN[i], 1);\n",
    "HAL_Delay(1000);\n",
    "}\n",
    "for(int i=0; i<8; i++){\n",
    "HAL_GPIO_WritePin(led_GPIO[i], led_PIN[i], 0);\n",
    "}"
   ]
  },
  {
   "cell_type": "code",
   "execution_count": null,
   "metadata": {},
   "outputs": [],
   "source": []
  },
  {
   "cell_type": "code",
   "execution_count": null,
   "metadata": {},
   "outputs": [],
   "source": []
  },
  {
   "cell_type": "markdown",
   "metadata": {},
   "source": [
    "# SWITCH"
   ]
  },
  {
   "cell_type": "code",
   "execution_count": null,
   "metadata": {},
   "outputs": [],
   "source": [
    "uint16_t sw_PIN[] = {SW1_Pin, SW2_Pin};\n",
    "GPIO_TypeDef *sw_GPIO[] = {SW1_GPIO_Port, SW2_GPIO_Port};"
   ]
  },
  {
   "cell_type": "code",
   "execution_count": null,
   "metadata": {},
   "outputs": [],
   "source": [
    "if(HAL_GPIO_ReadPin(GPIOD, GPIO_PIN_2)==1){\n",
    "HAL_GPIO_WritePin(GPIOC, GPIO_PIN_3, GPIO_PIN_RESET);\n",
    "}\n",
    "else{\n",
    "HAL_GPIO_WritePin(GPIOC, GPIO_PIN_3, GPIO_PIN_SET);\n",
    "}"
   ]
  },
  {
   "cell_type": "code",
   "execution_count": null,
   "metadata": {},
   "outputs": [],
   "source": [
    "if((HAL_GPIO_ReadPin(GPIOD, GPIO_PIN_2)==0)&&(HAL_GPIO_ReadPin(GPIOA, GPIO_PIN_4)==0)){  //sw1 and 2\n",
    "HAL_GPIO_WritePin(GPIOB, GPIO_PIN_14|GPIO_PIN_15, GPIO_PIN_SET);\n",
    "HAL_GPIO_WritePin(GPIOB, GPIO_PIN_12|GPIO_PIN_13, GPIO_PIN_RESET);\n",
    "HAL_GPIO_WritePin(GPIOC, GPIO_PIN_0|GPIO_PIN_1, GPIO_PIN_SET);\n",
    "HAL_GPIO_WritePin(GPIOC, GPIO_PIN_2|GPIO_PIN_3, GPIO_PIN_RESET);\n",
    "}\n",
    "else if(HAL_GPIO_ReadPin(GPIOD, GPIO_PIN_2)==0){ //sw1\n",
    "HAL_GPIO_WritePin(GPIOB, GPIO_PIN_12|GPIO_PIN_13|GPIO_PIN_14|GPIO_PIN_15, GPIO_PIN_SET);\n",
    "HAL_GPIO_WritePin(GPIOC, GPIO_PIN_0|GPIO_PIN_1|GPIO_PIN_2|GPIO_PIN_3, GPIO_PIN_RESET);\n",
    "}\n",
    "else if(HAL_GPIO_ReadPin(GPIOA, GPIO_PIN_4)==0){ //sw2\n",
    "HAL_GPIO_WritePin(GPIOB, GPIO_PIN_12|GPIO_PIN_13|GPIO_PIN_14|GPIO_PIN_15, GPIO_PIN_RESET);\n",
    "HAL_GPIO_WritePin(GPIOC, GPIO_PIN_0|GPIO_PIN_1|GPIO_PIN_2|GPIO_PIN_3, GPIO_PIN_SET);\n",
    "}\n",
    "else{  // none\n",
    "HAL_GPIO_WritePin(GPIOB, GPIO_PIN_12|GPIO_PIN_13|GPIO_PIN_14|GPIO_PIN_15, GPIO_PIN_RESET);\n",
    "HAL_GPIO_WritePin(GPIOC, GPIO_PIN_0|GPIO_PIN_1|GPIO_PIN_2|GPIO_PIN_3, GPIO_PIN_RESET);\n",
    "}"
   ]
  },
  {
   "cell_type": "markdown",
   "metadata": {},
   "source": [
    "## 눌렀다 뗄때"
   ]
  },
  {
   "cell_type": "code",
   "execution_count": null,
   "metadata": {},
   "outputs": [],
   "source": [
    "if(HAL_GPIO_ReadPin(GPIOD, GPIO_PIN_2)==0){\n",
    "HAL_Delay(5);\n",
    "while(HAL_GPIO_ReadPin(GPIOD, GPIO_PIN_2)==0);\n",
    "HAL_Delay(5);\n",
    "led_state = !led_state;\n",
    "if(led_state == 1) HAL_GPIO_WritePin(GPIOC, GPIO_PIN_3, GPIO_PIN_SET);\n",
    "else HAL_GPIO_WritePin(GPIOC, GPIO_PIN_3, GPIO_PIN_RESET);\n",
    "}"
   ]
  },
  {
   "cell_type": "markdown",
   "metadata": {},
   "source": [
    "# 외부인터럽트"
   ]
  },
  {
   "cell_type": "code",
   "execution_count": null,
   "metadata": {},
   "outputs": [],
   "source": [
    "/* USER CODE BEGIN 4 */\n",
    "void HAL_GPIO_EXTI_Callback(uint16_t GPIO_Pin)\n",
    "{\n",
    "HAL_GPIO_TogglePin(GPIOC, GPIO_PIN_3);\n",
    "}"
   ]
  },
  {
   "cell_type": "markdown",
   "metadata": {},
   "source": [
    "## 스위치 외부 인터럽트"
   ]
  },
  {
   "cell_type": "code",
   "execution_count": null,
   "metadata": {},
   "outputs": [],
   "source": [
    "/* USER CODE BEGIN 4 */\n",
    "void HAL_GPIO_EXTI_Callback(uint16_t GPIO_Pin) \n",
    "{\n",
    "if(GPIO_Pin == GPIO_PIN_4) HAL_GPIO_TogglePin(GPIOC, GPIO_PIN_3); //sw2\n",
    "}\n",
    "/* USER CODE BEGIN 4 */\n",
    "void HAL_GPIO_EXTI_Callback(uint16_t GPIO_Pin)\n",
    "{\n",
    "if(GPIO_Pin == GPIO_PIN_2) HAL_GPIO_TogglePin(GPIOC, GPIO_PIN_3); //sw1\n",
    "}"
   ]
  },
  {
   "cell_type": "markdown",
   "metadata": {},
   "source": [
    "## 스위치 외부 인터럽트 시프트"
   ]
  },
  {
   "cell_type": "code",
   "execution_count": null,
   "metadata": {},
   "outputs": [],
   "source": [
    "HAL_GPIO_WritePin(led_GPIO[i], led_PIN[i], 1);\n",
    "if(sw_mode == SW1){\n",
    "HAL_GPIO_WritePin(led_GPIO[i], led_PIN[i], 0);\n",
    "i++;\n",
    "if(i > 7) i =0;\n",
    "sw_mode = SW_None;\n",
    "}\n",
    "else if(sw_mode == SW2){\n",
    "HAL_GPIO_WritePin(led_GPIO[i], led_PIN[i], 0);\n",
    "i--;\n",
    "if(i < 0) i =7;\n",
    "sw_mode = SW_None;\n",
    "}"
   ]
  },
  {
   "cell_type": "code",
   "execution_count": null,
   "metadata": {},
   "outputs": [],
   "source": [
    "/* USER CODE BEGIN 4 */\n",
    "void HAL_GPIO_EXTI_Callback(uint16_t GPIO_Pin)\n",
    "{\n",
    "if(GPIO_Pin == GPIO_PIN_2) sw_mode = SW1;\n",
    "if(GPIO_Pin == GPIO_PIN_4) sw_mode = SW2;\n",
    "}\n",
    "/* USER CODE END 4 */"
   ]
  },
  {
   "cell_type": "markdown",
   "metadata": {},
   "source": [
    "# FND"
   ]
  },
  {
   "cell_type": "code",
   "execution_count": null,
   "metadata": {},
   "outputs": [],
   "source": [
    "# this is when you dont label gpio pin for FND\n",
    "uint8_t numbers[] = {0x3F, 0x06, 0x5B, 0x4F, 0x66, 0x6D, 0x7D, 0x27, 0x7F, 0x67};\n",
    "uint16_t fnd_SEL_PIN[] = {GPIO_PIN_10, GPIO_PIN_11, GPIO_PIN_4, GPIO_PIN_3};\n",
    "GPIO_TypeDef *fnd_SEL_GPIO[] = {GPIOA, GPIOA, GPIOC, GPIOC};\n",
    "\n",
    "\n",
    "void display_4digit(int number)\n",
    "{\n",
    "\n",
    "HAL_GPIO_WritePin(GPIOB, numbers[number/1000], 1);\n",
    "HAL_GPIO_WritePin(GPIOB, ~numbers[number/1000], 0);\n",
    "HAL_GPIO_WritePin(fnd_SEL_GPIO[0], fnd_SEL_PIN[0],0);\n",
    "HAL_GPIO_WritePin(fnd_SEL_GPIO[3], fnd_SEL_PIN[3],1);\n",
    "HAL_Delay(5);\n",
    "HAL_GPIO_WritePin(GPIOB, numbers[(number%1000)/100], 1);\n",
    "HAL_GPIO_WritePin(GPIOB, ~numbers[(number%1000)/100], 0);\n",
    "HAL_GPIO_WritePin(fnd_SEL_GPIO[3], fnd_SEL_PIN[3],0);\n",
    "HAL_GPIO_WritePin(fnd_SEL_GPIO[2], fnd_SEL_PIN[2],1);\n",
    "HAL_Delay(5);\n",
    "HAL_GPIO_WritePin(GPIOB, numbers[(number%100)/10], 1);\n",
    "HAL_GPIO_WritePin(GPIOB, ~numbers[(number%100)/10], 0);\n",
    "HAL_GPIO_WritePin(fnd_SEL_GPIO[2], fnd_SEL_PIN[2],0);\n",
    "HAL_GPIO_WritePin(fnd_SEL_GPIO[1], fnd_SEL_PIN[1],1);\n",
    "HAL_Delay(5);\n",
    "HAL_GPIO_WritePin(GPIOB, numbers[number%10], 1);\n",
    "HAL_GPIO_WritePin(GPIOB, ~numbers[number%10], 0);\n",
    "HAL_GPIO_WritePin(fnd_SEL_GPIO[1], fnd_SEL_PIN[1],0);\n",
    "HAL_GPIO_WritePin(fnd_SEL_GPIO[0], fnd_SEL_PIN[0],1);\n",
    "HAL_Delay(5);\n",
    "}\n",
    "\n",
    "\n",
    "void display_digit(int number){\n",
    "\t  HAL_GPIO_WritePin(GPIOB,numbers[number],1);\n",
    "\t  HAL_GPIO_WritePin(GPIOB,~numbers[number],0);\n",
    "\t  HAL_GPIO_WritePin(GPIOC,GPIO_PIN_3,1);\n",
    "}"
   ]
  },
  {
   "cell_type": "markdown",
   "metadata": {},
   "source": [
    "## 스우치 누를때마다 증가"
   ]
  },
  {
   "cell_type": "code",
   "execution_count": null,
   "metadata": {},
   "outputs": [],
   "source": [
    "while (1)\n",
    "{\n",
    "if(HAL_GPIO_ReadPin(sw_GPIO[0],sw_PIN[0])==0){\n",
    "HAL_Delay(5);\n",
    "while(HAL_GPIO_ReadPin(sw_GPIO[0],sw_PIN[0])==0)\n",
    "display_digit(cnt);\n",
    "HAL_Delay(5);\n",
    "cnt++;\n",
    "if(cnt>9999) cnt=0;\n",
    "}\n",
    "if(HAL_GPIO_ReadPin(sw_GPIO[1],sw_PIN[1])==0){\n",
    "HAL_Delay(5);\n",
    "while(HAL_GPIO_ReadPin(sw_GPIO[1],sw_PIN[1])==0)\n",
    "display_digit(cnt);\n",
    "HAL_Delay(5);\n",
    "cnt--;\n",
    "if(cnt<0) cnt=9999;\n",
    "}\n",
    "display_digit(cnt);"
   ]
  },
  {
   "cell_type": "markdown",
   "metadata": {},
   "source": [
    "# 타이머"
   ]
  },
  {
   "cell_type": "code",
   "execution_count": null,
   "metadata": {},
   "outputs": [],
   "source": [
    "/* USER CODE BEGIN 4 */\n",
    "void HAL_TIM_PeriodElapsedCallback(TIM_HandleTypeDef *htim2)\n",
    "{\n",
    "cnt++;\n",
    "if(cnt == 50){ // 0.5초\n",
    "for(int i=0;i<4;i++) HAL_GPIO_TogglePin(led_GPIO[i],led_PIN[i]);\n",
    "}\n",
    "if(cnt == 100){ // 1초\n",
    "cnt = 0;\n",
    "for(int i=0;i<8;i++) HAL_GPIO_TogglePin(led_GPIO[i], led_PIN[i]);\n",
    "}\n",
    "}\n",
    "/* USER CODE END 4 */"
   ]
  },
  {
   "cell_type": "markdown",
   "metadata": {},
   "source": [
    "## 1초마다 업카운트"
   ]
  },
  {
   "cell_type": "code",
   "execution_count": null,
   "metadata": {},
   "outputs": [],
   "source": [
    "void HAL_TIM_PeriodElapsedCallback(TIM_HandleTypeDef *htim2)\n",
    "{\n",
    "cnt++;\n",
    "if(cnt == 100){\n",
    "cnt = 0;\n",
    "num++;\n",
    "if(num >9999) num = 0;\n",
    "}\n",
    "}"
   ]
  },
  {
   "cell_type": "markdown",
   "metadata": {},
   "source": [
    "## 분/초"
   ]
  },
  {
   "cell_type": "code",
   "execution_count": null,
   "metadata": {},
   "outputs": [],
   "source": [
    "/* USER CODE BEGIN WHILE */\n",
    "while (1)\n",
    "{\n",
    "    int minutes = num / 60; // 분 계산\n",
    "    int seconds = num % 60; // 초 계산\n",
    "\n",
    "    display_digit(minutes * 100 + seconds); // 분과 초를 하나의 숫자로 합쳐서 표시\n",
    "    /* USER CODE END WHILE */\n",
    "    /* USER CODE BEGIN 3 */\n",
    "}\n",
    "/* USER CODE END 3 */\n",
    "\n",
    "/* USER CODE BEGIN 4 */\n",
    "void HAL_TIM_PeriodElapsedCallback(TIM_HandleTypeDef *htim2)\n",
    "{\n",
    "    cnt++;\n",
    "    if(cnt == 100){\n",
    "        cnt = 0;\n",
    "        num++;\n",
    "        if(num >= 3600) num = 0; // 60분*60초 = 3600으로 최대 범위 설정\n",
    "    }\n",
    "}\n",
    "/* USER CODE END 4 */\n"
   ]
  },
  {
   "cell_type": "markdown",
   "metadata": {},
   "source": [
    "## 분/초.0"
   ]
  },
  {
   "cell_type": "code",
   "execution_count": null,
   "metadata": {},
   "outputs": [],
   "source": [
    "/* USER CODE BEGIN WHILE */\n",
    "while (1)\n",
    "{\n",
    "    int minutes = num / 6000; // 분 계산 (6000은 60초*100)\n",
    "    int seconds = (num % 6000) / 100; // 초 계산\n",
    "    int hundredths = num % 100; // 0.01초 계산\n",
    "\n",
    "    display_digit(minutes * 1000 + seconds * 10 + hundredths / 10); // 숫자를 조합하여 디스플레이에 표시\n",
    "    /* USER CODE END WHILE */\n",
    "    /* USER CODE BEGIN 3 */\n",
    "}\n",
    "/* USER CODE END 3 */\n",
    "\n",
    "/* USER CODE BEGIN 4 */\n",
    "void HAL_TIM_PeriodElapsedCallback(TIM_HandleTypeDef *htim2)\n",
    "{\n",
    "    cnt++;\n",
    "    if(cnt == 10){ // 0.01초마다 카운트\n",
    "        cnt = 0;\n",
    "        num++;\n",
    "        if(num >= 6000 * 6) num = 0; // 60분까지 표시 (60분*60초*100)\n",
    "    }\n",
    "}\n",
    "/* USER CODE END 4 */\n"
   ]
  },
  {
   "cell_type": "markdown",
   "metadata": {},
   "source": [
    "## dc모터"
   ]
  },
  {
   "cell_type": "code",
   "execution_count": null,
   "metadata": {},
   "outputs": [],
   "source": [
    "/* Initialize all configured peripherals */\n",
    "MX_GPIO_Init();\n",
    "MX_TIM1_Init();\n",
    "/* USER CODE BEGIN 2 */\n",
    "HAL_GPIO_WritePin(GPIOB, GPIO_PIN_10, 1);\n",
    "HAL_GPIO_WritePin(GPIOC, GPIO_PIN_12, 0);\n",
    "HAL_TIM_PWM_Start(&htim1, TIM_CHANNEL_2);\n",
    "/* USER CODE END 2 */\n",
    "\n",
    "/* USER CODE BEGIN 2 */\n",
    "HAL_GPIO_WritePin(GPIOB, GPIO_PIN_10, 0);\n",
    "HAL_GPIO_WritePin(GPIOC, GPIO_PIN_12, 1);\n",
    "HAL_TIM_PWM_Start(&htim1, TIM_CHANNEL_2);\n",
    "/* USER CODE END 2 */\n",
    "/* Infinite loop */\n",
    "/* USER CODE BEGIN WHILE */\n",
    "while (1)\n",
    "{\n",
    "HAL_GPIO_TogglePin(GPIOB, GPIO_PIN_10);\n",
    "HAL_GPIO_TogglePin(GPIOC, GPIO_PIN_12);\n",
    "for(int i=0;i<10000;i++){\n",
    "__HAL_TIM_SET_COMPARE(&htim1, TIM_CHANNEL_2, i);\n",
    "HAL_Delay(1);\n",
    "}\n",
    "__HAL_TIM_SET_COMPARE(&htim1, TIM_CHANNEL_2, 0);\n",
    "HAL_Delay(1000);\n",
    "/* USER CODE END WHILE */\n",
    "/* USER CODE BEGIN 3 */\n",
    "}\n",
    "/* U"
   ]
  }
 ],
 "metadata": {
  "language_info": {
   "name": "python"
  }
 },
 "nbformat": 4,
 "nbformat_minor": 2
}
