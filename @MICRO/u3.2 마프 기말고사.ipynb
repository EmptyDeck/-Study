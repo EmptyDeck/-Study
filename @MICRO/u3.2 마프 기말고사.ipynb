{
 "cells": [
  {
   "cell_type": "markdown",
   "metadata": {},
   "source": [
    "# LED 변수"
   ]
  },
  {
   "cell_type": "code",
   "execution_count": null,
   "metadata": {},
   "outputs": [],
   "source": [
    "uint16_t led_PIN[] = {LED0_Pin, LED1_Pin, LED2_Pin, LED3_Pin, LED4_Pin, LED5_Pin,LED6_Pin, LED7_Pin};\n",
    "\n",
    "GPIO_TypeDef *led_GPIO[] = {LED0_GPIO_Port, LED1_GPIO_Port, LED2_GPIO_Port,LED3_GPIO_Port, LED4_GPIO_Port, LED5_GPIO_Port, LED6_GPIO_Port, LED7_GPIO_Port};\n",
    "\n",
    "uint16_t a;\n",
    "\n",
    "\n"
   ]
  },
  {
   "cell_type": "markdown",
   "metadata": {},
   "source": [
    "## LED 다 끄기"
   ]
  },
  {
   "cell_type": "code",
   "execution_count": null,
   "metadata": {},
   "outputs": [],
   "source": [
    "for (int i = 0; i < 8; i++) {\n",
    "        HAL_GPIO_WritePin(led_GPIO[i], led_PIN[i], GPIO_PIN_RESET);\n",
    "    }"
   ]
  },
  {
   "cell_type": "markdown",
   "metadata": {},
   "source": [
    "## LED 하나 키기"
   ]
  },
  {
   "cell_type": "code",
   "execution_count": null,
   "metadata": {},
   "outputs": [],
   "source": [
    "HAL_GPIO_WritePin(led_GPIO[location], led_PIN[location], GPIO_PIN_SET);"
   ]
  },
  {
   "cell_type": "markdown",
   "metadata": {},
   "source": [
    "# 시간 - 딜레이"
   ]
  },
  {
   "cell_type": "code",
   "execution_count": null,
   "metadata": {},
   "outputs": [],
   "source": [
    "HAL_Delay(1000);"
   ]
  },
  {
   "cell_type": "markdown",
   "metadata": {},
   "source": [
    "# 핀 토글"
   ]
  },
  {
   "cell_type": "code",
   "execution_count": null,
   "metadata": {},
   "outputs": [],
   "source": [
    "HAL_GPIO_TogglePin(GPIOC, GPIO_PIN_3);\n",
    "HAL_GPIO_TogglePin(GPIOC, GPIO_PIN_2);\n",
    "HAL_GPIO_TogglePin(GPIOC, GPIO_PIN_1);\n",
    "HAL_GPIO_TogglePin(GPIOC, GPIO_PIN_0);\n",
    "HAL_GPIO_TogglePin(GPIOB, GPIO_PIN_12);\n",
    "HAL_GPIO_TogglePin(GPIOB, GPIO_PIN_13);\n",
    "HAL_GPIO_TogglePin(GPIOB, GPIO_PIN_14);\n",
    "HAL_GPIO_TogglePin(GPIOB, GPIO_PIN_15);"
   ]
  },
  {
   "cell_type": "markdown",
   "metadata": {},
   "source": [
    "# 버튼 함수"
   ]
  },
  {
   "cell_type": "code",
   "execution_count": null,
   "metadata": {
    "vscode": {
     "languageId": "powershell"
    }
   },
   "outputs": [],
   "source": [
    "/* USER CODE BEGIN 4 */\n",
    "\n",
    "\n",
    "void HAL_GPIO_EXTI_Callback(uint16_t GPIO_Pin)//외부인터럽트 1,2,3 다 이 함수가 호출\n",
    "{\n",
    "\tif(GPIO_Pin == GPIO_PIN_2){ //2번\n",
    "\t\ta = 500;\n",
    "\t}\n",
    "\n",
    "\tif(GPIO_Pin == GPIO_PIN_4){ //1번\n",
    "\t\ta = 1000;\n",
    "\t}\n",
    "\n",
    "}\n",
    "\n",
    "/* USER CODE END 4 */\n"
   ]
  },
  {
   "cell_type": "markdown",
   "metadata": {},
   "source": [
    "## 버튼 누를때마다 시프트"
   ]
  },
  {
   "cell_type": "code",
   "execution_count": null,
   "metadata": {
    "vscode": {
     "languageId": "powershell"
    }
   },
   "outputs": [],
   "source": [
    "void HAL_GPIO_EXTI_Callback(uint16_t GPIO_Pin)//외부인터럽트 1,2,3 다 이 함수가 호출\n",
    "{\n",
    "\tif(GPIO_Pin == GPIO_PIN_2){\n",
    "\t\tlocation = location - 1;\n",
    "\n",
    "\t}\n",
    "\n",
    "\tif(GPIO_Pin == GPIO_PIN_4){\n",
    "\t\tlocation = location + 1;\n",
    "\t}\n",
    "\n",
    "\tif (location > 7){\n",
    "\t\tlocation = 0;\n",
    "\t}\n",
    "\tif (location < 0){\n",
    "\t\tlocation = 7;\n",
    "\t}\n",
    "\n",
    "\tfor (int i = 0; i < 8; i++) {\n",
    "\t        HAL_GPIO_WritePin(led_GPIO[i], led_PIN[i], GPIO_PIN_RESET);\n",
    "\t    }\n",
    "\n",
    "    HAL_GPIO_WritePin(led_GPIO[location], led_PIN[location], GPIO_PIN_SET);\n",
    "\n",
    "}"
   ]
  },
  {
   "cell_type": "markdown",
   "metadata": {},
   "source": [
    "# 7 세그먼트"
   ]
  },
  {
   "cell_type": "markdown",
   "metadata": {},
   "source": [
    "## 초반 준비 변수"
   ]
  },
  {
   "cell_type": "code",
   "execution_count": null,
   "metadata": {
    "vscode": {
     "languageId": "powershell"
    }
   },
   "outputs": [],
   "source": [
    "/* USER CODE BEGIN PV */\n",
    "uint8_t numbers[] = {0x3F, 0x06, 0x5B, 0x4F, 0x66, 0x6D, 0x7D, 0x27, 0x7F, 0x67};\n",
    "uint16_t sw_PIN[] = {SW1_Pin, SW2_Pin};\n",
    "GPIO_TypeDef *sw_GPIO[] = {SW1_GPIO_Port, SW2_GPIO_Port};\n",
    "uint16_t fnd_SEL_PIN[] = {FND_SEL0_Pin, FND_SEL1_Pin, FND_SEL2_Pin, FND_SEL3_Pin};\n",
    "GPIO_TypeDef *fnd_SEL_GPIO[] = {FND_SEL0_GPIO_Port, FND_SEL1_GPIO_Port, FND_SEL2_GPIO_Port, FND_SEL3_GPIO_Port};\n",
    "int cnt = 1234;\n",
    "/* USER CODE END PV */"
   ]
  },
  {
   "cell_type": "markdown",
   "metadata": {},
   "source": [
    "## 첫번째 자리수 1~9 반복\n",
    "\n",
    "### 자리수 : \n",
    "PC3,PC4,PA11,PA10\n",
    "\n",
    "\n",
    "example : \t  HAL_GPIO_WritePin(GPIOC,GPIO_PIN_3,1);\n"
   ]
  },
  {
   "cell_type": "code",
   "execution_count": null,
   "metadata": {
    "vscode": {
     "languageId": "powershell"
    }
   },
   "outputs": [],
   "source": [
    "  while (1)\n",
    "  {\n",
    "\t  for(int i=0;i<10;i++){\n",
    "\n",
    "\t  HAL_GPIO_WritePin(GPIOB,numbers[i],1);\n",
    "\t  HAL_GPIO_WritePin(GPIOB,~numbers[i],0);\n",
    "\t  HAL_GPIO_WritePin(GPIOA,GPIO_PIN_10,1);\n",
    "\t  HAL_Delay(1000);\n",
    "  }"
   ]
  },
  {
   "cell_type": "markdown",
   "metadata": {},
   "source": [
    "## 숫자 표시"
   ]
  },
  {
   "cell_type": "code",
   "execution_count": null,
   "metadata": {
    "vscode": {
     "languageId": "powershell"
    }
   },
   "outputs": [],
   "source": [
    "/* USER CODE BEGIN PV */\n",
    "\n",
    "// Define an array of 7-segment display patterns for numbers 0 to 9\n",
    "uint8_t numbers[] = {\n",
    "    0x3F, // 0\n",
    "    0x06, // 1\n",
    "    0x5B, // 2\n",
    "    0x4F, // 3\n",
    "    0x66, // 4\n",
    "    0x6D, // 5\n",
    "    0x7D, // 6\n",
    "    0x27, // 7\n",
    "    0x7F, // 8\n",
    "    0x67  // 9\n",
    "};\n",
    "\n",
    "/* USER CODE END PV */\n",
    "\n",
    "// Inside your main loop\n",
    "while (1)\n",
    "{\n",
    "    // Iterate through the numbers array\n",
    "    for (int i = 0; i < 10; i++)\n",
    "    {\n",
    "        // Display the current number pattern on GPIOB pins\n",
    "        HAL_GPIO_WritePin(GPIOB, numbers[i], GPIO_PIN_SET);\n",
    "        \n",
    "        // Turn off all other segments\n",
    "        for (int j = 0; j < 10; j++)\n",
    "        {\n",
    "            if (j != i)\n",
    "            {\n",
    "                HAL_GPIO_WritePin(GPIOB, numbers[j], GPIO_PIN_RESET);\n",
    "            }\n",
    "        }\n",
    "        \n",
    "        // Enable the display (assuming GPIOA_PIN_10 is the enable pin)\n",
    "        HAL_GPIO_WritePin(GPIOA, GPIO_PIN_10, GPIO_PIN_SET);\n",
    "        \n",
    "        // Delay for 1000 milliseconds (1 second)\n",
    "        HAL_Delay(1000);\n",
    "        \n",
    "        // Disable the display\n",
    "        HAL_GPIO_WritePin(GPIOA, GPIO_PIN_10, GPIO_PIN_RESET);\n",
    "        \n",
    "        // Delay for 1000 milliseconds (1 second) before displaying the next number\n",
    "        HAL_Delay(1000);\n",
    "    }\n",
    "\n",
    "    /* USER CODE END WHILE */\n",
    "\n",
    "    /* USER CODE BEGIN 3 */\n",
    "}\n"
   ]
  },
  {
   "cell_type": "markdown",
   "metadata": {},
   "source": [
    "## 4자리수 함수"
   ]
  },
  {
   "cell_type": "code",
   "execution_count": null,
   "metadata": {
    "vscode": {
     "languageId": "powershell"
    }
   },
   "outputs": [],
   "source": [
    "void display_digit(int number)\n",
    "{\n",
    "HAL_GPIO_WritePin(GPIOB, numbers[number/1000], 1);\n",
    "HAL_GPIO_WritePin(GPIOB, ~numbers[number/1000], 0);\n",
    "HAL_GPIO_WritePin(fnd_SEL_GPIO[0], fnd_SEL_PIN[0],0);\n",
    "HAL_GPIO_WritePin(fnd_SEL_GPIO[3], fnd_SEL_PIN[3],1);\n",
    "HAL_Delay(5);\n",
    "HAL_GPIO_WritePin(GPIOB, numbers[(number%1000)/100], 1);\n",
    "HAL_GPIO_WritePin(GPIOB, ~numbers[(number%1000)/100], 0);\n",
    "HAL_GPIO_WritePin(fnd_SEL_GPIO[3], fnd_SEL_PIN[3],0);\n",
    "HAL_GPIO_WritePin(fnd_SEL_GPIO[2], fnd_SEL_PIN[2],1);\n",
    "HAL_Delay(5);\n",
    "HAL_GPIO_WritePin(GPIOB, numbers[(number%100)/10], 1);\n",
    "HAL_GPIO_WritePin(GPIOB, ~numbers[(number%100)/10], 0);\n",
    "HAL_GPIO_WritePin(fnd_SEL_GPIO[2], fnd_SEL_PIN[2],0);\n",
    "HAL_GPIO_WritePin(fnd_SEL_GPIO[1], fnd_SEL_PIN[1],1);\n",
    "HAL_Delay(5);\n",
    "HAL_GPIO_WritePin(GPIOB, numbers[number%10], 1);\n",
    "HAL_GPIO_WritePin(GPIOB, ~numbers[number%10], 0);\n",
    "HAL_GPIO_WritePin(fnd_SEL_GPIO[1], fnd_SEL_PIN[1],0);\n",
    "HAL_GPIO_WritePin(fnd_SEL_GPIO[0], fnd_SEL_PIN[0],1);\n",
    "HAL_Delay(5);\n",
    "}"
   ]
  },
  {
   "cell_type": "markdown",
   "metadata": {},
   "source": [
    "## 유저 이름 안정한거"
   ]
  },
  {
   "cell_type": "code",
   "execution_count": null,
   "metadata": {
    "vscode": {
     "languageId": "powershell"
    }
   },
   "outputs": [],
   "source": [
    "\n",
    "uint8_t numbers[] = {0x3F, 0x06, 0x5B, 0x4F, 0x66, 0x6D, 0x7D, 0x27, 0x7F, 0x67};\n",
    "uint16_t sw_PIN[] = {SW1_Pin, SW2_Pin};\n",
    "GPIO_TypeDef *sw_GPIO[] = {SW1_GPIO_Port, SW2_GPIO_Port};\n",
    "uint16_t fnd_SEL_PIN[] = {GPIO_PIN_10, GPIO_PIN_11, GPIO_PIN_4, GPIO_PIN_3};\n",
    "GPIO_TypeDef *fnd_SEL_GPIO[] = {GPIOA, GPIOA, GPIOC, GPIOC};\n",
    "\n",
    "\n",
    "\n",
    "void display_4digit(int number)\n",
    "{\n",
    "\n",
    "HAL_GPIO_WritePin(GPIOB, numbers[number/1000], 1);\n",
    "HAL_GPIO_WritePin(GPIOB, ~numbers[number/1000], 0);\n",
    "HAL_GPIO_WritePin(fnd_SEL_GPIO[0], fnd_SEL_PIN[0],0);\n",
    "HAL_GPIO_WritePin(fnd_SEL_GPIO[3], fnd_SEL_PIN[3],1);\n",
    "HAL_Delay(5);\n",
    "HAL_GPIO_WritePin(GPIOB, numbers[(number%1000)/100], 1);\n",
    "HAL_GPIO_WritePin(GPIOB, ~numbers[(number%1000)/100], 0);\n",
    "HAL_GPIO_WritePin(fnd_SEL_GPIO[3], fnd_SEL_PIN[3],0);\n",
    "HAL_GPIO_WritePin(fnd_SEL_GPIO[2], fnd_SEL_PIN[2],1);\n",
    "HAL_Delay(5);\n",
    "HAL_GPIO_WritePin(GPIOB, numbers[(number%100)/10], 1);\n",
    "HAL_GPIO_WritePin(GPIOB, ~numbers[(number%100)/10], 0);\n",
    "HAL_GPIO_WritePin(fnd_SEL_GPIO[2], fnd_SEL_PIN[2],0);\n",
    "HAL_GPIO_WritePin(fnd_SEL_GPIO[1], fnd_SEL_PIN[1],1);\n",
    "HAL_Delay(5);\n",
    "HAL_GPIO_WritePin(GPIOB, numbers[number%10], 1);\n",
    "HAL_GPIO_WritePin(GPIOB, ~numbers[number%10], 0);\n",
    "HAL_GPIO_WritePin(fnd_SEL_GPIO[1], fnd_SEL_PIN[1],0);\n",
    "HAL_GPIO_WritePin(fnd_SEL_GPIO[0], fnd_SEL_PIN[0],1);\n",
    "HAL_Delay(5);\n",
    "}\n"
   ]
  },
  {
   "cell_type": "markdown",
   "metadata": {},
   "source": [
    "### 사용예시"
   ]
  },
  {
   "cell_type": "code",
   "execution_count": null,
   "metadata": {
    "vscode": {
     "languageId": "powershell"
    }
   },
   "outputs": [],
   "source": [
    "/* USER CODE BEGIN WHILE */\n",
    "while (1)\n",
    "{\n",
    "display_digit(cnt);\n",
    "/* USER CODE END WHILE */\n",
    "/* USER CODE BEGIN 3 */\n",
    "}\n",
    "/* USER CODE END 3 */\n",
    "}"
   ]
  }
 ],
 "metadata": {
  "language_info": {
   "name": "python"
  }
 },
 "nbformat": 4,
 "nbformat_minor": 2
}
